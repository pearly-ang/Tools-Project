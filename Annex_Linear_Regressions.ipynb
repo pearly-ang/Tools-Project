{
 "cells": [
  {
   "cell_type": "markdown",
   "metadata": {},
   "source": [
    "# Linear Regressions for HEAT , DROUGHT & HEAT+DROUGHT"
   ]
  },
  {
   "cell_type": "code",
   "execution_count": 1,
   "metadata": {},
   "outputs": [],
   "source": [
    "import pandas as pd\n",
    "\n",
    "performance_data = pd.read_csv('performance_data.csv')\n",
    "submission_template = pd.read_csv('submission_template.csv')\n",
    "weather_data = pd.read_csv('weather_data.csv')"
   ]
  },
  {
   "cell_type": "markdown",
   "metadata": {},
   "source": [
    "## Transforming weather data into useful metrics"
   ]
  },
  {
   "cell_type": "code",
   "execution_count": 2,
   "metadata": {},
   "outputs": [],
   "source": [
    "weather_data_grouped_mean = weather_data.groupby(by='ENV_ID').mean()\n",
    "weather_data_grouped_std = weather_data.groupby(by='ENV_ID').std()\n",
    "weather_data_grouped_mean.head()\n",
    "weather_data_grouped_std.head()\n",
    "weather_data_grouped = weather_data_grouped_mean.join(weather_data_grouped_std,lsuffix='_AVG',rsuffix='_STD')\n",
    "weather_data_grouped = weather_data_grouped.drop('DAY_NUM_AVG',axis=1)\n",
    "# weather_data_grouped.head()"
   ]
  },
  {
   "cell_type": "markdown",
   "metadata": {},
   "source": [
    "## Joining performance and weather data"
   ]
  },
  {
   "cell_type": "code",
   "execution_count": 3,
   "metadata": {},
   "outputs": [],
   "source": [
    "joined_df = performance_data.join(weather_data_grouped,on='ENV_ID')\n",
    "joined_df.head()\n",
    "joined_df.columns\n",
    "\n",
    "heat_stress_df = joined_df[['HYBRID_ID','ENV_ID','YIELD','ENV_YIELD_MEAN','ENV_YIELD_STD','TMAX_AVG','TMAX_STD',\n",
    "                            'TMIN_AVG','TMIN_STD','DAYL_AVG','DAYL_STD',\n",
    "                           'SRAD_AVG','SRAD_STD']]\n",
    "drought_stress_df = joined_df[['HYBRID_ID','ENV_ID','YIELD','ENV_YIELD_MEAN','ENV_YIELD_STD','IRRIGATION','PREC_AVG','PREC_STD','KSAT',\n",
    "                              'SWE_AVG','SWE_STD','VP_AVG','VP_STD','AWC']]\n",
    "\n",
    "trainheat_df=heat_stress_df.loc[:10000]\n",
    "testheat_df=heat_stress_df.loc[10000:]\n",
    "testheat_df=testheat_df[['HYBRID_ID','ENV_ID','YIELD','ENV_YIELD_MEAN','TMAX_AVG', 'TMAX_STD', 'TMIN_AVG', 'TMIN_STD', 'DAYL_AVG', 'DAYL_STD',\n",
    "       'SRAD_AVG', 'SRAD_STD']]\n"
   ]
  },
  {
   "cell_type": "markdown",
   "metadata": {},
   "source": [
    "## First Linear Regression Test"
   ]
  },
  {
   "cell_type": "code",
   "execution_count": 4,
   "metadata": {},
   "outputs": [
    {
     "name": "stdout",
     "output_type": "stream",
     "text": [
      "                  Results: Ordinary least squares\n",
      "===================================================================\n",
      "Model:              OLS              Adj. R-squared:     0.990     \n",
      "Dependent Variable: ENV_YIELD_MEAN   AIC:                75882.0763\n",
      "Date:               2018-12-01 19:11 BIC:                75939.7598\n",
      "No. Observations:   10001            Log-Likelihood:     -37933.   \n",
      "Df Model:           8                F-statistic:        1.193e+05 \n",
      "Df Residuals:       9993             Prob (F-statistic): 0.00      \n",
      "R-squared:          0.990            Scale:              115.44    \n",
      "---------------------------------------------------------------------\n",
      "            Coef.    Std.Err.      t       P>|t|     [0.025    0.975]\n",
      "---------------------------------------------------------------------\n",
      "TMAX_AVG   -0.7617     0.2642    -2.8826   0.0040   -1.2796   -0.2437\n",
      "TMAX_STD    4.8163     0.4639    10.3825   0.0000    3.9070    5.7256\n",
      "TMIN_AVG   11.2381     0.3121    36.0131   0.0000   10.6264   11.8498\n",
      "TMIN_STD    2.7699     0.3543     7.8171   0.0000    2.0753    3.4644\n",
      "DAYL_AVG   -0.0052     0.0003   -15.9764   0.0000   -0.0059   -0.0046\n",
      "DAYL_STD    0.0108     0.0009    12.4148   0.0000    0.0091    0.0125\n",
      "SRAD_AVG    0.5191     0.0290    17.8774   0.0000    0.4622    0.5760\n",
      "SRAD_STD   -0.1018     0.0227    -4.4844   0.0000   -0.1463   -0.0573\n",
      "-------------------------------------------------------------------\n",
      "Omnibus:              39.722        Durbin-Watson:           0.027 \n",
      "Prob(Omnibus):        0.000         Jarque-Bera (JB):        33.178\n",
      "Skew:                 -0.076        Prob(JB):                0.000 \n",
      "Kurtosis:             2.763         Condition No.:           227524\n",
      "===================================================================\n",
      "* The condition number is large (2e+05). This might indicate\n",
      "strong multicollinearity or other numerical problems.\n",
      "                  0\n",
      "TMAX_AVG  -0.761657\n",
      "TMAX_STD   4.816258\n",
      "TMIN_AVG  11.238103\n",
      "TMIN_STD   2.769863\n",
      "DAYL_AVG  -0.005235\n",
      "DAYL_STD   0.010827\n",
      "SRAD_AVG   0.519102\n",
      "SRAD_STD  -0.101780\n"
     ]
    },
    {
     "data": {
      "text/plain": [
       "Index(['TMAX_AVG', 'TMAX_STD', 'TMIN_AVG', 'TMIN_STD', 'DAYL_AVG', 'DAYL_STD',\n",
       "       'SRAD_AVG', 'SRAD_STD'],\n",
       "      dtype='object')"
      ]
     },
     "execution_count": 4,
     "metadata": {},
     "output_type": "execute_result"
    }
   ],
   "source": [
    "import statsmodels.api as sm\n",
    "\n",
    "features_=['TMAX_AVG','TMAX_STD','TMIN_AVG','TMIN_STD','DAYL_AVG','DAYL_STD','SRAD_AVG','SRAD_STD']\n",
    "X = trainheat_df[features_]\n",
    "y = trainheat_df[\"ENV_YIELD_MEAN\"]\n",
    "\n",
    "# Note the difference in argument order\n",
    "model = sm.OLS(y, X).fit()\n",
    "predictions = model.predict(X) # make the predictions by the model\n",
    "\n",
    "# Print out the statistics\n",
    "# model.summary()\n",
    "\n",
    "# print(model.params)\n",
    "print(model.summary2())\n",
    "coeff_df=pd.DataFrame(model.params)\n",
    "print(coeff_df)\n",
    "tc=coeff_df.transpose()\n",
    "tc.columns\n"
   ]
  },
  {
   "cell_type": "code",
   "execution_count": 5,
   "metadata": {},
   "outputs": [],
   "source": [
    "\n",
    "coeff_=tc['TMAX_AVG']\n",
    "testheat_df['TMAX_AVG']=testheat_df['TMAX_AVG'].apply (lambda x: coeff_ * x )\n",
    "coeff_=tc['TMAX_STD']\n",
    "testheat_df['TMAX_STD']=testheat_df['TMAX_STD'].apply (lambda x: coeff_ * x )\n",
    "coeff_=tc['TMIN_AVG']\n",
    "testheat_df['TMIN_AVG']=testheat_df['TMIN_AVG'].apply (lambda x: coeff_ * x )\n",
    "coeff_=tc['TMIN_STD']\n",
    "testheat_df['TMIN_STD']=testheat_df['TMIN_STD'].apply (lambda x: coeff_ * x )\n",
    "coeff_=tc['DAYL_AVG']\n",
    "testheat_df['DAYL_AVG']=testheat_df['DAYL_AVG'].apply (lambda x: coeff_ * x )\n",
    "coeff_=tc['DAYL_STD']\n",
    "testheat_df['DAYL_STD']=testheat_df['DAYL_STD'].apply (lambda x: coeff_ * x )\n",
    "coeff_=tc['SRAD_AVG']\n",
    "testheat_df['SRAD_AVG']=testheat_df['SRAD_AVG'].apply (lambda x: coeff_ * x )\n",
    "coeff_=tc['SRAD_STD']\n",
    "testheat_df['SRAD_STD']=testheat_df['SRAD_STD'].apply (lambda x: coeff_ * x )\n"
   ]
  },
  {
   "cell_type": "code",
   "execution_count": 6,
   "metadata": {},
   "outputs": [
    {
     "name": "stdout",
     "output_type": "stream",
     "text": [
      "sqmeanerror YIELDREG    24.743205\n",
      "dtype: float64\n",
      "sqstderror YIELDREG    42.383336\n",
      "dtype: float64\n"
     ]
    }
   ],
   "source": [
    "\n",
    "testheatreg_df=testheat_df[['TMAX_AVG', 'TMAX_STD', 'TMIN_AVG', 'TMIN_STD', 'DAYL_AVG', 'DAYL_STD',\n",
    "       'SRAD_AVG', 'SRAD_STD']]\n",
    "real_=testheat_df[\"ENV_YIELD_MEAN\"]\n",
    "regress_=[]\n",
    "regress_=list(testheatreg_df.sum(1))\n",
    "regress_=pd.DataFrame(regress_, columns=['YIELDREG'])\n",
    "real_=pd.DataFrame(list(real_), columns=['YIELDREG'])\n",
    "# print(regress_)\n",
    "# print(real_)\n",
    "error_=(real_-regress_)**2\n",
    "# print(error_)\n",
    "print('sqmeanerror',error_.mean()**0.5)\n",
    "print('sqstderror',error_.std()**0.5)\n"
   ]
  },
  {
   "cell_type": "markdown",
   "metadata": {},
   "source": [
    "## Grouping by Env to create new Linear Regression by Enviroment instead of Crop\n",
    "### The previous linear Regression is not very representative as it repeats the same information for every Hybrid with the same enviroment data, instead the next 3 set of linear regressions look to predict the Enviroment Yield by establishing coefficients that can be applied to any particular set of conditions in any enviroment"
   ]
  },
  {
   "cell_type": "code",
   "execution_count": 7,
   "metadata": {},
   "outputs": [],
   "source": [
    "heat_stress_env = joined_df[['ENV_ID','ENV_YIELD_MEAN','ENV_YIELD_STD','TMAX_AVG','TMAX_STD',\n",
    "                            'TMIN_AVG','TMIN_STD','DAYL_AVG','DAYL_STD',\n",
    "                           'SRAD_AVG','SRAD_STD']]\n",
    "drought_stress_env = joined_df[['ENV_ID','ENV_YIELD_MEAN','ENV_YIELD_STD','IRRIGATION','PREC_AVG','PREC_STD','KSAT',\n",
    "                              'SWE_AVG','SWE_STD','VP_AVG','VP_STD','AWC']]\n",
    "\n"
   ]
  },
  {
   "cell_type": "code",
   "execution_count": 8,
   "metadata": {},
   "outputs": [
    {
     "name": "stdout",
     "output_type": "stream",
     "text": [
      "HeatStressLen> RangeIndex(start=0, stop=1560, step=1)\n",
      "DroughtStressLen> RangeIndex(start=0, stop=1560, step=1)\n"
     ]
    }
   ],
   "source": [
    "#Converting dataframes to create linear regressions based only on enviroments\n",
    "\n",
    "heat_stress_env=heat_stress_env.drop_duplicates(subset=None, keep='first', inplace=False)\n",
    "heat_stress_env=heat_stress_env.reset_index(level=0, drop=True)\n",
    "# print(heat_stress_env)\n",
    "print('HeatStressLen>',heat_stress_env.index)\n",
    "\n",
    "drought_stress_env=drought_stress_env.drop_duplicates(subset=None, keep='first', inplace=False)\n",
    "drought_stress_env=drought_stress_env.reset_index(level=0, drop=True)\n",
    "# print(heat_stress_env)\n",
    "print('DroughtStressLen>',drought_stress_env.index)"
   ]
  },
  {
   "cell_type": "markdown",
   "metadata": {},
   "source": [
    "# HEAT LR"
   ]
  },
  {
   "cell_type": "code",
   "execution_count": 9,
   "metadata": {},
   "outputs": [
    {
     "name": "stdout",
     "output_type": "stream",
     "text": [
      "                 Results: Ordinary least squares\n",
      "==================================================================\n",
      "Model:              OLS              Adj. R-squared:     0.982    \n",
      "Dependent Variable: ENV_YIELD_MEAN   AIC:                3308.6060\n",
      "Date:               2018-12-01 19:17 BIC:                3340.5577\n",
      "No. Observations:   401              Log-Likelihood:     -1646.3  \n",
      "Df Model:           8                F-statistic:        2762.    \n",
      "Df Residuals:       393              Prob (F-statistic): 0.00     \n",
      "R-squared:          0.983            Scale:              219.92   \n",
      "--------------------------------------------------------------------\n",
      "            Coef.    Std.Err.      t      P>|t|     [0.025    0.975]\n",
      "--------------------------------------------------------------------\n",
      "TMAX_AVG   -0.8813     1.4884   -0.5921   0.5541   -3.8076    2.0450\n",
      "TMAX_STD    4.6596     2.5594    1.8206   0.0694   -0.3722    9.6914\n",
      "TMIN_AVG    8.3948     2.0279    4.1396   0.0000    4.4079   12.3817\n",
      "TMIN_STD    2.1579     2.1022    1.0265   0.3053   -1.9750    6.2908\n",
      "DAYL_AVG   -0.0009     0.0020   -0.4418   0.6589   -0.0049    0.0031\n",
      "DAYL_STD    0.0024     0.0055    0.4350   0.6638   -0.0083    0.0131\n",
      "SRAD_AVG    0.2635     0.1833    1.4373   0.1514   -0.0969    0.6239\n",
      "SRAD_STD   -0.2924     0.1278   -2.2880   0.0227   -0.5436   -0.0411\n",
      "------------------------------------------------------------------\n",
      "Omnibus:               15.186       Durbin-Watson:          1.653 \n",
      "Prob(Omnibus):         0.001        Jarque-Bera (JB):       20.368\n",
      "Skew:                  -0.329       Prob(JB):               0.000 \n",
      "Kurtosis:              3.886        Condition No.:          192400\n",
      "==================================================================\n",
      "* The condition number is large (2e+05). This might indicate\n",
      "strong multicollinearity or other numerical problems.\n",
      "                 0\n",
      "TMAX_AVG -0.881291\n",
      "TMAX_STD  4.659585\n",
      "TMIN_AVG  8.394805\n",
      "TMIN_STD  2.157875\n",
      "DAYL_AVG -0.000900\n",
      "DAYL_STD  0.002371\n",
      "SRAD_AVG  0.263501\n",
      "SRAD_STD -0.292368\n"
     ]
    },
    {
     "data": {
      "text/plain": [
       "Index(['TMAX_AVG', 'TMAX_STD', 'TMIN_AVG', 'TMIN_STD', 'DAYL_AVG', 'DAYL_STD',\n",
       "       'SRAD_AVG', 'SRAD_STD'],\n",
       "      dtype='object')"
      ]
     },
     "execution_count": 9,
     "metadata": {},
     "output_type": "execute_result"
    }
   ],
   "source": [
    "trainheat_env=heat_stress_env.loc[:400]\n",
    "testheat_env=heat_stress_env.loc[401:]\n",
    "testheat_env=testheat_env[['ENV_ID','ENV_YIELD_MEAN','TMAX_AVG', 'TMAX_STD', 'TMIN_AVG', 'TMIN_STD', 'DAYL_AVG', 'DAYL_STD',\n",
    "       'SRAD_AVG', 'SRAD_STD']]\n",
    "\n",
    "features_=['TMAX_AVG','TMAX_STD','TMIN_AVG','TMIN_STD','DAYL_AVG','DAYL_STD','SRAD_AVG','SRAD_STD']\n",
    "X = trainheat_env[features_]\n",
    "y = trainheat_env[\"ENV_YIELD_MEAN\"]\n",
    "\n",
    "# Note the difference in argument order\n",
    "model = sm.OLS(y, X).fit()\n",
    "predictions = model.predict(X) # make the predictions by the model\n",
    "\n",
    "# Print out the statistics\n",
    "print(model.summary2())\n",
    "\n",
    "coeff_df=pd.DataFrame(model.params)\n",
    "print(coeff_df)\n",
    "tc=coeff_df.transpose()\n",
    "tc.columns\n"
   ]
  },
  {
   "cell_type": "code",
   "execution_count": 10,
   "metadata": {},
   "outputs": [
    {
     "name": "stdout",
     "output_type": "stream",
     "text": [
      "sqmeanerror YIELDREG    37.84038\n",
      "dtype: float64\n",
      "sqstderror YIELDREG    56.95416\n",
      "dtype: float64\n"
     ]
    }
   ],
   "source": [
    "#Test coefficients with test data\n",
    "\n",
    "coeff_=tc['TMAX_AVG']\n",
    "testheat_env['TMAX_AVG']=testheat_env['TMAX_AVG'].apply (lambda x: coeff_ * x )\n",
    "coeff_=tc['TMAX_STD']\n",
    "testheat_env['TMAX_STD']=testheat_env['TMAX_STD'].apply (lambda x: coeff_ * x )\n",
    "coeff_=tc['TMIN_AVG']\n",
    "testheat_env['TMIN_AVG']=testheat_env['TMIN_AVG'].apply (lambda x: coeff_ * x )\n",
    "coeff_=tc['TMIN_STD']\n",
    "testheat_env['TMIN_STD']=testheat_env['TMIN_STD'].apply (lambda x: coeff_ * x )\n",
    "coeff_=tc['DAYL_AVG']\n",
    "testheat_env['DAYL_AVG']=testheat_env['DAYL_AVG'].apply (lambda x: coeff_ * x )\n",
    "coeff_=tc['DAYL_STD']\n",
    "testheat_env['DAYL_STD']=testheat_env['DAYL_STD'].apply (lambda x: coeff_ * x )\n",
    "coeff_=tc['SRAD_AVG']\n",
    "testheat_env['SRAD_AVG']=testheat_env['SRAD_AVG'].apply (lambda x: coeff_ * x )\n",
    "coeff_=tc['SRAD_STD']\n",
    "testheat_env['SRAD_STD']=testheat_env['SRAD_STD'].apply (lambda x: coeff_ * x )\n",
    "\n",
    "testheatreg_env=testheat_env[['TMAX_AVG', 'TMAX_STD', 'TMIN_AVG', 'TMIN_STD', 'DAYL_AVG', 'DAYL_STD',\n",
    "       'SRAD_AVG', 'SRAD_STD']]\n",
    "real_=testheat_env[\"ENV_YIELD_MEAN\"]\n",
    "regress_=[]\n",
    "regress_=list(testheatreg_env.sum(1))\n",
    "regress_=pd.DataFrame(regress_, columns=['YIELDREG'])\n",
    "real_=pd.DataFrame(list(real_), columns=['YIELDREG'])\n",
    "# print(regress_)\n",
    "# print(real_)\n",
    "error_=(real_-regress_)**2\n",
    "# print(error_)\n",
    "print('sqmeanerror',error_.mean()**0.5)\n",
    "print('sqstderror',error_.std()**0.5)\n"
   ]
  },
  {
   "cell_type": "markdown",
   "metadata": {},
   "source": [
    "### SQMEAN ERROR serves as a measure of accuracy of the predicted yield in the test data, each iteration aims to reduce this value by considering the coefficients impact, the p value (less than 0.25) and the multicolinearity of the model"
   ]
  },
  {
   "cell_type": "code",
   "execution_count": 11,
   "metadata": {},
   "outputs": [
    {
     "name": "stdout",
     "output_type": "stream",
     "text": [
      "                 Results: Ordinary least squares\n",
      "==================================================================\n",
      "Model:              OLS              Adj. R-squared:     0.982    \n",
      "Dependent Variable: ENV_YIELD_MEAN   AIC:                3304.8131\n",
      "Date:               2018-12-01 19:17 BIC:                3328.7769\n",
      "No. Observations:   401              Log-Likelihood:     -1646.4  \n",
      "Df Model:           6                F-statistic:        3700.    \n",
      "Df Residuals:       395              Prob (F-statistic): 0.00     \n",
      "R-squared:          0.983            Scale:              218.92   \n",
      "--------------------------------------------------------------------\n",
      "            Coef.    Std.Err.      t      P>|t|     [0.025    0.975]\n",
      "--------------------------------------------------------------------\n",
      "TMAX_AVG   -0.4855     1.1132   -0.4362   0.6630   -2.6741    1.7030\n",
      "TMAX_STD    5.0057     2.1721    2.3045   0.0217    0.7354    9.2760\n",
      "TMIN_AVG    7.6073     1.0241    7.4281   0.0000    5.5939    9.6207\n",
      "TMIN_STD    1.8440     1.9743    0.9340   0.3509   -2.0374    5.7255\n",
      "SRAD_AVG    0.1882     0.0748    2.5180   0.0122    0.0413    0.3352\n",
      "SRAD_STD   -0.2973     0.0900   -3.3030   0.0010   -0.4742   -0.1203\n",
      "------------------------------------------------------------------\n",
      "Omnibus:               14.728       Durbin-Watson:          1.653 \n",
      "Prob(Omnibus):         0.001        Jarque-Bera (JB):       19.415\n",
      "Skew:                  -0.327       Prob(JB):               0.000 \n",
      "Kurtosis:              3.857        Condition No.:          1296  \n",
      "==================================================================\n",
      "* The condition number is large (1e+03). This might indicate\n",
      "strong multicollinearity or other numerical problems.\n",
      "                 0\n",
      "TMAX_AVG -0.485546\n",
      "TMAX_STD  5.005680\n",
      "TMIN_AVG  7.607290\n",
      "TMIN_STD  1.844040\n",
      "SRAD_AVG  0.188223\n",
      "SRAD_STD -0.297270\n"
     ]
    },
    {
     "data": {
      "text/plain": [
       "Index(['TMAX_AVG', 'TMAX_STD', 'TMIN_AVG', 'TMIN_STD', 'SRAD_AVG', 'SRAD_STD'], dtype='object')"
      ]
     },
     "execution_count": 11,
     "metadata": {},
     "output_type": "execute_result"
    }
   ],
   "source": [
    "#Taking Out DAYL as P Value is too large\n",
    "trainheat_env=heat_stress_env.loc[:400]\n",
    "testheat_env=heat_stress_env.loc[401:]\n",
    "testheat_env=testheat_env[['ENV_ID','ENV_YIELD_MEAN','TMAX_AVG', 'TMAX_STD', 'TMIN_AVG', 'TMIN_STD', 'DAYL_AVG', 'DAYL_STD',\n",
    "       'SRAD_AVG', 'SRAD_STD']]\n",
    "\n",
    "features_=['TMAX_AVG','TMAX_STD','TMIN_AVG','TMIN_STD','SRAD_AVG','SRAD_STD']\n",
    "X = trainheat_env[features_]\n",
    "y = trainheat_env[\"ENV_YIELD_MEAN\"]\n",
    "\n",
    "# Note the difference in argument order\n",
    "model = sm.OLS(y, X).fit()\n",
    "predictions = model.predict(X) # make the predictions by the model\n",
    "\n",
    "# Print out the statistics\n",
    "print(model.summary2())\n",
    "\n",
    "coeff_df=pd.DataFrame(model.params)\n",
    "print(coeff_df)\n",
    "tc=coeff_df.transpose()\n",
    "tc.columns\n"
   ]
  },
  {
   "cell_type": "code",
   "execution_count": 12,
   "metadata": {},
   "outputs": [
    {
     "name": "stdout",
     "output_type": "stream",
     "text": [
      "sqmeanerror YIELDREG    37.799961\n",
      "dtype: float64\n",
      "sqstderror YIELDREG    56.677163\n",
      "dtype: float64\n"
     ]
    }
   ],
   "source": [
    "#Test coefficients with test data\n",
    "\n",
    "coeff_=tc['TMAX_AVG']\n",
    "testheat_env['TMAX_AVG']=testheat_env['TMAX_AVG'].apply (lambda x: coeff_ * x )\n",
    "coeff_=tc['TMAX_STD']\n",
    "testheat_env['TMAX_STD']=testheat_env['TMAX_STD'].apply (lambda x: coeff_ * x )\n",
    "coeff_=tc['TMIN_AVG']\n",
    "testheat_env['TMIN_AVG']=testheat_env['TMIN_AVG'].apply (lambda x: coeff_ * x )\n",
    "coeff_=tc['TMIN_STD']\n",
    "testheat_env['TMIN_STD']=testheat_env['TMIN_STD'].apply (lambda x: coeff_ * x )\n",
    "coeff_=tc['SRAD_AVG']\n",
    "testheat_env['SRAD_AVG']=testheat_env['SRAD_AVG'].apply (lambda x: coeff_ * x )\n",
    "coeff_=tc['SRAD_STD']\n",
    "testheat_env['SRAD_STD']=testheat_env['SRAD_STD'].apply (lambda x: coeff_ * x )\n",
    "\n",
    "\n",
    "testheatreg_env=testheat_env[['TMAX_AVG', 'TMAX_STD', 'TMIN_AVG', 'TMIN_STD',\n",
    "       'SRAD_AVG', 'SRAD_STD']]\n",
    "real_=testheat_env[\"ENV_YIELD_MEAN\"]\n",
    "regress_=[]\n",
    "regress_=list(testheatreg_env.sum(1))\n",
    "regress_=pd.DataFrame(regress_, columns=['YIELDREG'])\n",
    "real_=pd.DataFrame(list(real_), columns=['YIELDREG'])\n",
    "# print(regress_)\n",
    "# print(real_)\n",
    "error_=(real_-regress_)**2\n",
    "# print(error_)\n",
    "print('sqmeanerror',error_.mean()**0.5)\n",
    "print('sqstderror',error_.std()**0.5)"
   ]
  },
  {
   "cell_type": "code",
   "execution_count": 13,
   "metadata": {},
   "outputs": [
    {
     "name": "stdout",
     "output_type": "stream",
     "text": [
      "                 Results: Ordinary least squares\n",
      "==================================================================\n",
      "Model:              OLS              Adj. R-squared:     0.982    \n",
      "Dependent Variable: ENV_YIELD_MEAN   AIC:                3311.7646\n",
      "Date:               2018-12-01 19:17 BIC:                3327.7404\n",
      "No. Observations:   401              Log-Likelihood:     -1651.9  \n",
      "Df Model:           4                F-statistic:        5425.    \n",
      "Df Residuals:       397              Prob (F-statistic): 0.00     \n",
      "R-squared:          0.982            Scale:              223.85   \n",
      "--------------------------------------------------------------------\n",
      "              Coef.    Std.Err.     t      P>|t|     [0.025   0.975]\n",
      "--------------------------------------------------------------------\n",
      "TMAX_AVG      2.1037     0.5767   3.6478   0.0003    0.9699   3.2374\n",
      "TMAX_STD      2.1553     1.9356   1.1135   0.2662   -1.6500   5.9606\n",
      "TMIN_AVG      5.7322     0.8525   6.7239   0.0000    4.0562   7.4082\n",
      "TMIN_STD      4.1380     1.8688   2.2142   0.0274    0.4639   7.8120\n",
      "------------------------------------------------------------------\n",
      "Omnibus:               17.571       Durbin-Watson:          1.633 \n",
      "Prob(Omnibus):         0.000        Jarque-Bera (JB):       23.614\n",
      "Skew:                  -0.373       Prob(JB):               0.000 \n",
      "Kurtosis:              3.926        Condition No.:          76    \n",
      "==================================================================\n",
      "\n",
      "                 0\n",
      "TMAX_AVG  2.103662\n",
      "TMAX_STD  2.155283\n",
      "TMIN_AVG  5.732214\n",
      "TMIN_STD  4.137954\n"
     ]
    },
    {
     "data": {
      "text/plain": [
       "Index(['TMAX_AVG', 'TMAX_STD', 'TMIN_AVG', 'TMIN_STD'], dtype='object')"
      ]
     },
     "execution_count": 13,
     "metadata": {},
     "output_type": "execute_result"
    }
   ],
   "source": [
    "#Taking Out SRAD due to multicolinearity and no improvement in previous iteration\n",
    "trainheat_env=heat_stress_env.loc[:400]\n",
    "testheat_env=heat_stress_env.loc[401:]\n",
    "testheat_env=testheat_env[['ENV_ID','ENV_YIELD_MEAN','TMAX_AVG', 'TMAX_STD', 'TMIN_AVG', 'TMIN_STD', 'DAYL_AVG', 'DAYL_STD',\n",
    "       'SRAD_AVG', 'SRAD_STD']]\n",
    "\n",
    "\n",
    "\n",
    "features_=['TMAX_AVG','TMAX_STD','TMIN_AVG','TMIN_STD']\n",
    "X = trainheat_env[features_]\n",
    "y = trainheat_env[\"ENV_YIELD_MEAN\"]\n",
    "\n",
    "# Note the difference in argument order\n",
    "model = sm.OLS(y, X).fit()\n",
    "predictions = model.predict(X) # make the predictions by the model\n",
    "\n",
    "# Print out the statistics\n",
    "print(model.summary2())\n",
    "\n",
    "coeff_df=pd.DataFrame(model.params)\n",
    "print(coeff_df)\n",
    "tc=coeff_df.transpose()\n",
    "tc.columns\n"
   ]
  },
  {
   "cell_type": "code",
   "execution_count": 14,
   "metadata": {},
   "outputs": [
    {
     "name": "stdout",
     "output_type": "stream",
     "text": [
      "sqmeanerror YIELDREG    37.473368\n",
      "dtype: float64\n",
      "sqstderror YIELDREG    56.642275\n",
      "dtype: float64\n"
     ]
    }
   ],
   "source": [
    "#Test coefficients with test data\n",
    "\n",
    "coeff_=tc['TMAX_AVG']\n",
    "testheat_env['TMAX_AVG']=testheat_env['TMAX_AVG'].apply (lambda x: coeff_ * x )\n",
    "coeff_=tc['TMAX_STD']\n",
    "testheat_env['TMAX_STD']=testheat_env['TMAX_STD'].apply (lambda x: coeff_ * x )\n",
    "coeff_=tc['TMIN_AVG']\n",
    "testheat_env['TMIN_AVG']=testheat_env['TMIN_AVG'].apply (lambda x: coeff_ * x )\n",
    "coeff_=tc['TMIN_STD']\n",
    "testheat_env['TMIN_STD']=testheat_env['TMIN_STD'].apply (lambda x: coeff_ * x )\n",
    "\n",
    "testheatreg_env=testheat_env[['TMAX_AVG', 'TMAX_STD', 'TMIN_AVG', 'TMIN_STD']]\n",
    "real_=testheat_env[\"ENV_YIELD_MEAN\"]\n",
    "regress_=[]\n",
    "regress_=list(testheatreg_env.sum(1))\n",
    "regress_=pd.DataFrame(regress_, columns=['YIELDREG'])\n",
    "real_=pd.DataFrame(list(real_), columns=['YIELDREG'])\n",
    "# print(regress_)\n",
    "# print(real_)\n",
    "error_=(real_-regress_)**2\n",
    "# print(error_)\n",
    "print('sqmeanerror',error_.mean()**0.5)\n",
    "print('sqstderror',error_.std()**0.5)\n",
    "heat_error_=error_.mean()**0.5\n",
    "hreal_=real_\n",
    "hregress_=regress_\n"
   ]
  },
  {
   "cell_type": "markdown",
   "metadata": {},
   "source": [
    "## Coefficients used for Heat Linear Regression Prediction of Enviroment Yield:"
   ]
  },
  {
   "cell_type": "code",
   "execution_count": 15,
   "metadata": {},
   "outputs": [
    {
     "name": "stdout",
     "output_type": "stream",
     "text": [
      "YIELDREG    37.473368\n",
      "dtype: float64\n"
     ]
    },
    {
     "data": {
      "text/html": [
       "<div>\n",
       "<style scoped>\n",
       "    .dataframe tbody tr th:only-of-type {\n",
       "        vertical-align: middle;\n",
       "    }\n",
       "\n",
       "    .dataframe tbody tr th {\n",
       "        vertical-align: top;\n",
       "    }\n",
       "\n",
       "    .dataframe thead th {\n",
       "        text-align: right;\n",
       "    }\n",
       "</style>\n",
       "<table border=\"1\" class=\"dataframe\">\n",
       "  <thead>\n",
       "    <tr style=\"text-align: right;\">\n",
       "      <th></th>\n",
       "      <th>TMAX_AVG</th>\n",
       "      <th>TMAX_STD</th>\n",
       "      <th>TMIN_AVG</th>\n",
       "      <th>TMIN_STD</th>\n",
       "    </tr>\n",
       "  </thead>\n",
       "  <tbody>\n",
       "    <tr>\n",
       "      <th>0</th>\n",
       "      <td>2.103662</td>\n",
       "      <td>2.155283</td>\n",
       "      <td>5.732214</td>\n",
       "      <td>4.137954</td>\n",
       "    </tr>\n",
       "  </tbody>\n",
       "</table>\n",
       "</div>"
      ],
      "text/plain": [
       "   TMAX_AVG  TMAX_STD  TMIN_AVG  TMIN_STD\n",
       "0  2.103662  2.155283  5.732214  4.137954"
      ]
     },
     "execution_count": 15,
     "metadata": {},
     "output_type": "execute_result"
    }
   ],
   "source": [
    "heat_coeff=tc\n",
    "print(heat_error_)\n",
    "heat_coeff"
   ]
  },
  {
   "cell_type": "code",
   "execution_count": 17,
   "metadata": {},
   "outputs": [
    {
     "name": "stdout",
     "output_type": "stream",
     "text": [
      "Heat, Actual vs Regression Comparison\n"
     ]
    },
    {
     "data": {
      "image/png": "[encoded data removed]",
      "text/plain": [
       "<Figure size 432x288 with 1 Axes>"
      ]
     },
     "metadata": {},
     "output_type": "display_data"
    }
   ],
   "source": [
    "hrvsa_=pd.concat([hreal_,hregress_], axis=1, sort=False)\n",
    "hrvsa_.columns=[\"Actual\",\"Regression\"]\n",
    "print(\"Heat, Actual vs Regression Comparison\")\n",
    "hplot_=hrvsa_.plot()"
   ]
  },
  {
   "cell_type": "markdown",
   "metadata": {},
   "source": [
    "# DROUGHT LR"
   ]
  },
  {
   "cell_type": "code",
   "execution_count": 18,
   "metadata": {},
   "outputs": [
    {
     "name": "stdout",
     "output_type": "stream",
     "text": [
      "                 Results: Ordinary least squares\n",
      "==================================================================\n",
      "Model:              OLS              Adj. R-squared:     0.981    \n",
      "Dependent Variable: ENV_YIELD_MEAN   AIC:                3334.7336\n",
      "Date:               2018-12-01 19:18 BIC:                3366.6853\n",
      "No. Observations:   401              Log-Likelihood:     -1659.4  \n",
      "Df Model:           8                F-statistic:        2585.    \n",
      "Df Residuals:       393              Prob (F-statistic): 0.00     \n",
      "R-squared:          0.981            Scale:              234.73   \n",
      "--------------------------------------------------------------------\n",
      "            Coef.    Std.Err.      t      P>|t|     [0.025    0.975]\n",
      "--------------------------------------------------------------------\n",
      "PREC_AVG   -4.7865     3.0649   -1.5617   0.1192   -10.8121   1.2391\n",
      "PREC_STD    4.4281     1.0583    4.1843   0.0000     2.3476   6.5087\n",
      "KSAT        3.0154     0.4163    7.2433   0.0000     2.1969   3.8338\n",
      "SWE_AVG    -0.6899     0.3668   -1.8806   0.0608    -1.4111   0.0313\n",
      "SWE_STD     0.3461     0.2939    1.1777   0.2396    -0.2317   0.9240\n",
      "VP_AVG      0.0735     0.0165    4.4437   0.0000     0.0410   0.1061\n",
      "VP_STD     -0.0377     0.0201   -1.8738   0.0617    -0.0773   0.0019\n",
      "AWC         2.0996     0.3539    5.9322   0.0000     1.4038   2.7954\n",
      "------------------------------------------------------------------\n",
      "Omnibus:              6.192         Durbin-Watson:           1.528\n",
      "Prob(Omnibus):        0.045         Jarque-Bera (JB):        8.694\n",
      "Skew:                 -0.068        Prob(JB):                0.013\n",
      "Kurtosis:             3.708         Condition No.:           4313 \n",
      "==================================================================\n",
      "* The condition number is large (4e+03). This might indicate\n",
      "strong multicollinearity or other numerical problems.\n",
      "                 0\n",
      "PREC_AVG -4.786521\n",
      "PREC_STD  4.428105\n",
      "KSAT      3.015390\n",
      "SWE_AVG  -0.689880\n",
      "SWE_STD   0.346130\n",
      "VP_AVG    0.073524\n",
      "VP_STD   -0.037736\n",
      "AWC       2.099606\n"
     ]
    },
    {
     "data": {
      "text/plain": [
       "Index(['PREC_AVG', 'PREC_STD', 'KSAT', 'SWE_AVG', 'SWE_STD', 'VP_AVG',\n",
       "       'VP_STD', 'AWC'],\n",
       "      dtype='object')"
      ]
     },
     "execution_count": 18,
     "metadata": {},
     "output_type": "execute_result"
    }
   ],
   "source": [
    "#DROUGHT\n",
    "\n",
    "traindr_env=drought_stress_env.loc[:400]\n",
    "testdr_env=drought_stress_env.loc[401:]\n",
    "testdr_env=testdr_env[['ENV_ID','ENV_YIELD_MEAN','PREC_AVG','PREC_STD','KSAT',\n",
    "                              'SWE_AVG','SWE_STD','VP_AVG','VP_STD','AWC']]\n",
    "\n",
    "\n",
    "features_=['PREC_AVG','PREC_STD','KSAT',\n",
    "                              'SWE_AVG','SWE_STD','VP_AVG','VP_STD','AWC']\n",
    "X = traindr_env[features_]\n",
    "y = traindr_env[\"ENV_YIELD_MEAN\"]\n",
    "\n",
    "# Note the difference in argument order\n",
    "model = sm.OLS(y, X).fit()\n",
    "predictions = model.predict(X) # make the predictions by the model\n",
    "\n",
    "# Print out the statistics\n",
    "print(model.summary2())\n",
    "\n",
    "coeff_df=pd.DataFrame(model.params)\n",
    "print(coeff_df)\n",
    "tc=coeff_df.transpose()\n",
    "tc.columns\n"
   ]
  },
  {
   "cell_type": "code",
   "execution_count": 19,
   "metadata": {},
   "outputs": [
    {
     "name": "stdout",
     "output_type": "stream",
     "text": [
      "                 Results: Ordinary least squares\n",
      "==================================================================\n",
      "Model:              OLS              Adj. R-squared:     0.981    \n",
      "Dependent Variable: ENV_YIELD_MEAN   AIC:                3342.2176\n",
      "Date:               2018-12-01 19:18 BIC:                3366.1814\n",
      "No. Observations:   401              Log-Likelihood:     -1665.1  \n",
      "Df Model:           6                F-statistic:        3364.    \n",
      "Df Residuals:       395              Prob (F-statistic): 0.00     \n",
      "R-squared:          0.981            Scale:              240.32   \n",
      "-------------------------------------------------------------------\n",
      "              Coef.    Std.Err.     t     P>|t|    [0.025    0.975]\n",
      "-------------------------------------------------------------------\n",
      "PREC_AVG     -12.1006    1.8652  -6.4875  0.0000  -15.7676  -8.4336\n",
      "PREC_STD       5.8866    0.9426   6.2449  0.0000    4.0334   7.7398\n",
      "KSAT           2.8337    0.4177   6.7839  0.0000    2.0125   3.6549\n",
      "VP_AVG         0.1073    0.0133   8.0929  0.0000    0.0813   0.1334\n",
      "VP_STD        -0.0620    0.0190  -3.2595  0.0012   -0.0994  -0.0246\n",
      "AWC            1.7699    0.3390   5.2205  0.0000    1.1034   2.4364\n",
      "------------------------------------------------------------------\n",
      "Omnibus:               7.874        Durbin-Watson:          1.536 \n",
      "Prob(Omnibus):         0.020        Jarque-Bera (JB):       11.069\n",
      "Skew:                  -0.139       Prob(JB):               0.004 \n",
      "Kurtosis:              3.765        Condition No.:          2638  \n",
      "==================================================================\n",
      "* The condition number is large (3e+03). This might indicate\n",
      "strong multicollinearity or other numerical problems.\n",
      "                  0\n",
      "PREC_AVG -12.100589\n",
      "PREC_STD   5.886576\n",
      "KSAT       2.833665\n",
      "VP_AVG     0.107337\n",
      "VP_STD    -0.062023\n",
      "AWC        1.769904\n"
     ]
    },
    {
     "data": {
      "text/plain": [
       "Index(['PREC_AVG', 'PREC_STD', 'KSAT', 'VP_AVG', 'VP_STD', 'AWC'], dtype='object')"
      ]
     },
     "execution_count": 19,
     "metadata": {},
     "output_type": "execute_result"
    }
   ],
   "source": [
    "traindr_env=drought_stress_env.loc[:400]\n",
    "testdr_env=drought_stress_env.loc[401:]\n",
    "testdr_env=testdr_env[['ENV_ID','ENV_YIELD_MEAN','PREC_AVG','PREC_STD','KSAT',\n",
    "                              'SWE_AVG','SWE_STD','VP_AVG','VP_STD','AWC']]\n",
    "\n",
    "#REMOVING SWE due to p value and low coeff\n",
    "\n",
    "features_=['PREC_AVG','PREC_STD','KSAT','VP_AVG','VP_STD','AWC']\n",
    "X = traindr_env[features_]\n",
    "y = traindr_env[\"ENV_YIELD_MEAN\"]\n",
    "\n",
    "# Note the difference in argument order\n",
    "model = sm.OLS(y, X).fit()\n",
    "predictions = model.predict(X) # make the predictions by the model\n",
    "\n",
    "# Print out the statistics\n",
    "print(model.summary2())\n",
    "\n",
    "coeff_df=pd.DataFrame(model.params)\n",
    "print(coeff_df)\n",
    "tc=coeff_df.transpose()\n",
    "tc.columns\n"
   ]
  },
  {
   "cell_type": "code",
   "execution_count": 20,
   "metadata": {},
   "outputs": [
    {
     "name": "stdout",
     "output_type": "stream",
     "text": [
      "sqmeanerror YIELDREG    38.425607\n",
      "dtype: float64\n",
      "sqstderror YIELDREG    62.835857\n",
      "dtype: float64\n"
     ]
    }
   ],
   "source": [
    "#Test coefficients with test data\n",
    "\n",
    "\n",
    "'PREC_AVG','PREC_STD','KSAT','VP_AVG','VP_STD','AWC'\n",
    "\n",
    "coeff_=tc['PREC_AVG']\n",
    "testdr_env['PREC_AVG']=testdr_env['PREC_AVG'].apply (lambda x: coeff_ * x )\n",
    "coeff_=tc['PREC_STD']\n",
    "testdr_env['PREC_STD']=testdr_env['PREC_STD'].apply (lambda x: coeff_ * x )\n",
    "coeff_=tc['KSAT']\n",
    "testdr_env['KSAT']=testdr_env['KSAT'].apply (lambda x: coeff_ * x )\n",
    "coeff_=tc['VP_AVG']\n",
    "testdr_env['VP_AVG']=testdr_env['VP_AVG'].apply (lambda x: coeff_ * x )\n",
    "coeff_=tc['VP_STD']\n",
    "testdr_env['VP_STD']=testdr_env['VP_STD'].apply (lambda x: coeff_ * x )\n",
    "coeff_=tc['AWC']\n",
    "testdr_env['AWC']=testdr_env['AWC'].apply (lambda x: coeff_ * x )\n",
    "\n",
    "\n",
    "testdrreg_env=testdr_env[['PREC_AVG','PREC_STD','KSAT','VP_AVG','VP_STD','AWC']]\n",
    "real_=testdr_env[\"ENV_YIELD_MEAN\"]\n",
    "regress_=[]\n",
    "regress_=list(testdrreg_env.sum(1))\n",
    "regress_=pd.DataFrame(regress_, columns=['YIELDREG'])\n",
    "real_=pd.DataFrame(list(real_), columns=['YIELDREG'])\n",
    "# print(regress_)\n",
    "# print(real_)\n",
    "error_=(real_-regress_)**2\n",
    "# print(error_)\n",
    "print('sqmeanerror',error_.mean()**0.5)\n",
    "print('sqstderror',error_.std()**0.5)\n"
   ]
  },
  {
   "cell_type": "code",
   "execution_count": 21,
   "metadata": {},
   "outputs": [
    {
     "name": "stdout",
     "output_type": "stream",
     "text": [
      "                 Results: Ordinary least squares\n",
      "==================================================================\n",
      "Model:              OLS              Adj. R-squared:     0.977    \n",
      "Dependent Variable: ENV_YIELD_MEAN   AIC:                3403.6910\n",
      "Date:               2018-12-01 19:18 BIC:                3419.6668\n",
      "No. Observations:   401              Log-Likelihood:     -1697.8  \n",
      "Df Model:           4                F-statistic:        4293.    \n",
      "Df Residuals:       397              Prob (F-statistic): 0.00     \n",
      "R-squared:          0.977            Scale:              281.52   \n",
      "--------------------------------------------------------------------\n",
      "            Coef.    Std.Err.      t      P>|t|     [0.025    0.975]\n",
      "--------------------------------------------------------------------\n",
      "PREC_AVG   -3.4617     1.4986   -2.3099   0.0214   -6.4079   -0.5155\n",
      "PREC_STD    5.7836     0.8061    7.1748   0.0000    4.1989    7.3684\n",
      "KSAT        3.5621     0.4047    8.8025   0.0000    2.7665    4.3576\n",
      "AWC         3.1812     0.1914   16.6218   0.0000    2.8049    3.5574\n",
      "------------------------------------------------------------------\n",
      "Omnibus:               7.354        Durbin-Watson:          1.374 \n",
      "Prob(Omnibus):         0.025        Jarque-Bera (JB):       10.583\n",
      "Skew:                  -0.107       Prob(JB):               0.005 \n",
      "Kurtosis:              3.767        Condition No.:          45    \n",
      "==================================================================\n",
      "\n",
      "                 0\n",
      "PREC_AVG -3.461698\n",
      "PREC_STD  5.783615\n",
      "KSAT      3.562070\n",
      "AWC       3.181174\n"
     ]
    },
    {
     "data": {
      "text/plain": [
       "Index(['PREC_AVG', 'PREC_STD', 'KSAT', 'AWC'], dtype='object')"
      ]
     },
     "execution_count": 21,
     "metadata": {},
     "output_type": "execute_result"
    }
   ],
   "source": [
    "traindr_env=drought_stress_env.loc[:400]\n",
    "testdr_env=drought_stress_env.loc[401:]\n",
    "testdr_env=testdr_env[['ENV_ID','ENV_YIELD_MEAN','PREC_AVG','PREC_STD','KSAT',\n",
    "                              'SWE_AVG','SWE_STD','VP_AVG','VP_STD','AWC']]\n",
    "\n",
    "#REMOVING VP due to low coeff\n",
    "\n",
    "features_=['PREC_AVG','PREC_STD','KSAT','AWC']\n",
    "X = traindr_env[features_]\n",
    "y = traindr_env[\"ENV_YIELD_MEAN\"]\n",
    "\n",
    "# Note the difference in argument order\n",
    "model = sm.OLS(y, X).fit()\n",
    "predictions = model.predict(X) # make the predictions by the model\n",
    "\n",
    "# Print out the statistics\n",
    "print(model.summary2())\n",
    "\n",
    "coeff_df=pd.DataFrame(model.params)\n",
    "print(coeff_df)\n",
    "tc=coeff_df.transpose()\n",
    "tc.columns"
   ]
  },
  {
   "cell_type": "code",
   "execution_count": 22,
   "metadata": {},
   "outputs": [
    {
     "name": "stdout",
     "output_type": "stream",
     "text": [
      "sqmeanerror YIELDREG    26.160086\n",
      "dtype: float64\n",
      "sqstderror YIELDREG    33.444837\n",
      "dtype: float64\n"
     ]
    }
   ],
   "source": [
    "#Test coefficients with test data\n",
    "\n",
    "\n",
    "# 'PREC_AVG','PREC_STD','KSAT','VP_AVG','VP_STD','AWC'\n",
    "\n",
    "coeff_=tc['PREC_AVG']\n",
    "testdr_env['PREC_AVG']=testdr_env['PREC_AVG'].apply (lambda x: coeff_ * x )\n",
    "coeff_=tc['PREC_STD']\n",
    "testdr_env['PREC_STD']=testdr_env['PREC_STD'].apply (lambda x: coeff_ * x )\n",
    "coeff_=tc['KSAT']\n",
    "testdr_env['KSAT']=testdr_env['KSAT'].apply (lambda x: coeff_ * x )\n",
    "\n",
    "\n",
    "coeff_=tc['AWC']\n",
    "testdr_env['AWC']=testdr_env['AWC'].apply (lambda x: coeff_ * x )\n",
    "\n",
    "\n",
    "testdrreg_env=testdr_env[['PREC_AVG','PREC_STD','KSAT','AWC']]\n",
    "real_=testdr_env[\"ENV_YIELD_MEAN\"]\n",
    "regress_=[]\n",
    "regress_=list(testdrreg_env.sum(1))\n",
    "regress_=pd.DataFrame(regress_, columns=['YIELDREG'])\n",
    "real_=pd.DataFrame(list(real_), columns=['YIELDREG'])\n",
    "# print(regress_)\n",
    "# print(real_)\n",
    "error_=(real_-regress_)**2\n",
    "# print(error_)\n",
    "print('sqmeanerror',error_.mean()**0.5)\n",
    "print('sqstderror',error_.std()**0.5)\n",
    "drought_sqerror_=error_.mean()**0.5\n",
    "dreal_=real_\n",
    "dregress_=regress_\n"
   ]
  },
  {
   "cell_type": "markdown",
   "metadata": {},
   "source": [
    "## Coefficients used for Drought Linear Regression Prediction of Enviroment Yield:"
   ]
  },
  {
   "cell_type": "code",
   "execution_count": 23,
   "metadata": {},
   "outputs": [
    {
     "name": "stdout",
     "output_type": "stream",
     "text": [
      "Drought SqMeanError YIELDREG    26.160086\n",
      "dtype: float64\n"
     ]
    },
    {
     "data": {
      "text/html": [
       "<div>\n",
       "<style scoped>\n",
       "    .dataframe tbody tr th:only-of-type {\n",
       "        vertical-align: middle;\n",
       "    }\n",
       "\n",
       "    .dataframe tbody tr th {\n",
       "        vertical-align: top;\n",
       "    }\n",
       "\n",
       "    .dataframe thead th {\n",
       "        text-align: right;\n",
       "    }\n",
       "</style>\n",
       "<table border=\"1\" class=\"dataframe\">\n",
       "  <thead>\n",
       "    <tr style=\"text-align: right;\">\n",
       "      <th></th>\n",
       "      <th>PREC_AVG</th>\n",
       "      <th>PREC_STD</th>\n",
       "      <th>KSAT</th>\n",
       "      <th>AWC</th>\n",
       "    </tr>\n",
       "  </thead>\n",
       "  <tbody>\n",
       "    <tr>\n",
       "      <th>0</th>\n",
       "      <td>-3.461698</td>\n",
       "      <td>5.783615</td>\n",
       "      <td>3.56207</td>\n",
       "      <td>3.181174</td>\n",
       "    </tr>\n",
       "  </tbody>\n",
       "</table>\n",
       "</div>"
      ],
      "text/plain": [
       "   PREC_AVG  PREC_STD     KSAT       AWC\n",
       "0 -3.461698  5.783615  3.56207  3.181174"
      ]
     },
     "execution_count": 23,
     "metadata": {},
     "output_type": "execute_result"
    }
   ],
   "source": [
    "drought_coeff=tc\n",
    "print(\"Drought SqMeanError\",drought_sqerror_)\n",
    "drought_coeff"
   ]
  },
  {
   "cell_type": "code",
   "execution_count": 24,
   "metadata": {},
   "outputs": [
    {
     "name": "stdout",
     "output_type": "stream",
     "text": [
      "Drought, Actual vs Regression Comparison\n"
     ]
    },
    {
     "data": {
      "image/png": "[encoded data removed]",
      "text/plain": [
       "<Figure size 432x288 with 1 Axes>"
      ]
     },
     "metadata": {},
     "output_type": "display_data"
    }
   ],
   "source": [
    "drvsa_=pd.concat([dreal_,dregress_], axis=1, sort=False)\n",
    "drvsa_.columns=[\"Actual\",\"Regression\"]\n",
    "print(\"Drought, Actual vs Regression Comparison\")\n",
    "dplot_=drvsa_.plot()"
   ]
  },
  {
   "cell_type": "markdown",
   "metadata": {},
   "source": [
    "# HEAT+DROUGHT LR"
   ]
  },
  {
   "cell_type": "code",
   "execution_count": 25,
   "metadata": {},
   "outputs": [
    {
     "name": "stdout",
     "output_type": "stream",
     "text": [
      "HeatDroughtStressLen> RangeIndex(start=0, stop=1560, step=1)\n"
     ]
    }
   ],
   "source": [
    "hd_env = joined_df[['ENV_ID','ENV_YIELD_MEAN','ENV_YIELD_STD','TMAX_AVG','TMAX_STD',\n",
    "                            'TMIN_AVG','TMIN_STD','DAYL_AVG','DAYL_STD',\n",
    "                           'SRAD_AVG','SRAD_STD','IRRIGATION','PREC_AVG','PREC_STD','KSAT',\n",
    "                              'SWE_AVG','SWE_STD','VP_AVG','VP_STD','AWC']]\n",
    "\n",
    "#Converting dataframes to create linear regressions based only on enviroments\n",
    "\n",
    "hd_env=hd_env.drop_duplicates(subset=None, keep='first', inplace=False)\n",
    "hd_env=hd_env.reset_index(level=0, drop=True)\n",
    "\n",
    "print('HeatDroughtStressLen>',hd_env.index)\n",
    "\n"
   ]
  },
  {
   "cell_type": "code",
   "execution_count": 26,
   "metadata": {},
   "outputs": [
    {
     "name": "stdout",
     "output_type": "stream",
     "text": [
      "                 Results: Ordinary least squares\n",
      "==================================================================\n",
      "Model:              OLS              Adj. R-squared:     0.983    \n",
      "Dependent Variable: ENV_YIELD_MEAN   AIC:                3292.3949\n",
      "Date:               2018-12-01 19:19 BIC:                3356.2983\n",
      "No. Observations:   401              Log-Likelihood:     -1630.2  \n",
      "Df Model:           16               F-statistic:        1468.    \n",
      "Df Residuals:       385              Prob (F-statistic): 0.00     \n",
      "R-squared:          0.984            Scale:              207.16   \n",
      "--------------------------------------------------------------------\n",
      "            Coef.    Std.Err.      t      P>|t|     [0.025    0.975]\n",
      "--------------------------------------------------------------------\n",
      "TMAX_AVG   -2.0449     1.5775   -1.2963   0.1956   -5.1465    1.0567\n",
      "TMAX_STD    6.2399     3.2508    1.9195   0.0557   -0.1516   12.6315\n",
      "TMIN_AVG   14.6750     2.8653    5.1217   0.0000    9.0415   20.3085\n",
      "TMIN_STD    5.7865     2.5251    2.2915   0.0225    0.8217   10.7513\n",
      "DAYL_AVG   -0.0026     0.0038   -0.7057   0.4808   -0.0100    0.0047\n",
      "DAYL_STD    0.0058     0.0081    0.7261   0.4682   -0.0100    0.0217\n",
      "SRAD_AVG    0.3964     0.2582    1.5349   0.1256   -0.1114    0.9041\n",
      "SRAD_STD   -0.2210     0.2140   -1.0327   0.3024   -0.6417    0.1998\n",
      "PREC_AVG    9.2390     4.3654    2.1164   0.0350    0.6559   17.8220\n",
      "PREC_STD   -0.5375     1.3002   -0.4134   0.6796   -3.0938    2.0189\n",
      "KSAT        0.6949     0.8267    0.8405   0.4011   -0.9306    2.3203\n",
      "SWE_AVG    -0.8381     0.3783   -2.2157   0.0273   -1.5818   -0.0944\n",
      "SWE_STD     0.4667     0.2918    1.5996   0.1105   -0.1069    1.0403\n",
      "VP_AVG     -0.0816     0.0434   -1.8830   0.0605   -0.1669    0.0036\n",
      "VP_STD     -0.0207     0.0366   -0.5657   0.5719   -0.0926    0.0512\n",
      "AWC         0.1516     0.6242    0.2428   0.8083   -1.0757    1.3788\n",
      "------------------------------------------------------------------\n",
      "Omnibus:               8.436        Durbin-Watson:          1.664 \n",
      "Prob(Omnibus):         0.015        Jarque-Bera (JB):       10.864\n",
      "Skew:                  -0.195       Prob(JB):               0.004 \n",
      "Kurtosis:              3.705        Condition No.:          276564\n",
      "==================================================================\n",
      "* The condition number is large (3e+05). This might indicate\n",
      "strong multicollinearity or other numerical problems.\n",
      "                  0\n",
      "TMAX_AVG  -2.044920\n",
      "TMAX_STD   6.239922\n",
      "TMIN_AVG  14.674986\n",
      "TMIN_STD   5.786460\n",
      "DAYL_AVG  -0.002647\n",
      "DAYL_STD   0.005848\n",
      "SRAD_AVG   0.396350\n",
      "SRAD_STD  -0.220995\n",
      "PREC_AVG   9.238957\n",
      "PREC_STD  -0.537463\n",
      "KSAT       0.694860\n",
      "SWE_AVG   -0.838114\n",
      "SWE_STD    0.466700\n",
      "VP_AVG    -0.081635\n",
      "VP_STD    -0.020682\n",
      "AWC        0.151558\n"
     ]
    },
    {
     "data": {
      "text/plain": [
       "Index(['TMAX_AVG', 'TMAX_STD', 'TMIN_AVG', 'TMIN_STD', 'DAYL_AVG', 'DAYL_STD',\n",
       "       'SRAD_AVG', 'SRAD_STD', 'PREC_AVG', 'PREC_STD', 'KSAT', 'SWE_AVG',\n",
       "       'SWE_STD', 'VP_AVG', 'VP_STD', 'AWC'],\n",
       "      dtype='object')"
      ]
     },
     "execution_count": 26,
     "metadata": {},
     "output_type": "execute_result"
    }
   ],
   "source": [
    "trainhd_env=hd_env.loc[:400]\n",
    "testhd_env=hd_env.loc[401:]\n",
    "testhd_env=testhd_env[['ENV_ID','ENV_YIELD_MEAN','ENV_YIELD_STD','TMAX_AVG','TMAX_STD',\n",
    "                            'TMIN_AVG','TMIN_STD','DAYL_AVG','DAYL_STD',\n",
    "                           'SRAD_AVG','SRAD_STD','IRRIGATION','PREC_AVG','PREC_STD','KSAT',\n",
    "                              'SWE_AVG','SWE_STD','VP_AVG','VP_STD','AWC']]\n",
    "\n",
    "\n",
    "features_=['TMAX_AVG','TMAX_STD','TMIN_AVG','TMIN_STD','DAYL_AVG','DAYL_STD',\n",
    "                           'SRAD_AVG','SRAD_STD','PREC_AVG','PREC_STD','KSAT',\n",
    "                              'SWE_AVG','SWE_STD','VP_AVG','VP_STD','AWC']\n",
    "X = trainhd_env[features_]\n",
    "y = trainhd_env[\"ENV_YIELD_MEAN\"]\n",
    "\n",
    "# Note the difference in argument order\n",
    "model = sm.OLS(y, X).fit()\n",
    "predictions = model.predict(X) # make the predictions by the model\n",
    "\n",
    "# Print out the statistics\n",
    "print(model.summary2())\n",
    "\n",
    "coeff_df=pd.DataFrame(model.params)\n",
    "print(coeff_df)\n",
    "tc=coeff_df.transpose()\n",
    "tc.columns\n"
   ]
  },
  {
   "cell_type": "code",
   "execution_count": 27,
   "metadata": {},
   "outputs": [
    {
     "name": "stdout",
     "output_type": "stream",
     "text": [
      "                 Results: Ordinary least squares\n",
      "==================================================================\n",
      "Model:              OLS              Adj. R-squared:     0.983    \n",
      "Dependent Variable: ENV_YIELD_MEAN   AIC:                3286.9545\n",
      "Date:               2018-12-01 19:19 BIC:                3338.8760\n",
      "No. Observations:   401              Log-Likelihood:     -1630.5  \n",
      "Df Model:           13               F-statistic:        1818.    \n",
      "Df Residuals:       388              Prob (F-statistic): 0.00     \n",
      "R-squared:          0.984            Scale:              205.85   \n",
      "--------------------------------------------------------------------\n",
      "            Coef.    Std.Err.      t      P>|t|     [0.025    0.975]\n",
      "--------------------------------------------------------------------\n",
      "TMAX_AVG   -1.7831     1.3345   -1.3361   0.1823   -4.4069    0.8407\n",
      "TMAX_STD    7.4202     2.6166    2.8358   0.0048    2.2757   12.5647\n",
      "TMIN_AVG   14.4521     2.5224    5.7295   0.0000    9.4929   19.4114\n",
      "TMIN_STD    5.2726     2.4149    2.1834   0.0296    0.5247   10.0206\n",
      "SRAD_AVG    0.2178     0.0756    2.8795   0.0042    0.0691    0.3664\n",
      "SRAD_STD   -0.2784     0.1635   -1.7030   0.0894   -0.5999    0.0430\n",
      "PREC_AVG    7.6404     3.7006    2.0646   0.0396    0.3646   14.9161\n",
      "PREC_STD   -0.2778     1.2130   -0.2291   0.8189   -2.6628    2.1071\n",
      "KSAT        0.6187     0.5000    1.2374   0.2167   -0.3644    1.6017\n",
      "SWE_AVG    -0.7817     0.3622   -2.1580   0.0315   -1.4939   -0.0695\n",
      "SWE_STD     0.4822     0.2856    1.6886   0.0921   -0.0792    1.0436\n",
      "VP_AVG     -0.0952     0.0334   -2.8493   0.0046   -0.1608   -0.0295\n",
      "VP_STD     -0.0199     0.0350   -0.5687   0.5699   -0.0887    0.0489\n",
      "------------------------------------------------------------------\n",
      "Omnibus:               8.171        Durbin-Watson:          1.670 \n",
      "Prob(Omnibus):         0.017        Jarque-Bera (JB):       10.305\n",
      "Skew:                  -0.197       Prob(JB):               0.006 \n",
      "Kurtosis:              3.679        Condition No.:          6107  \n",
      "==================================================================\n",
      "* The condition number is large (6e+03). This might indicate\n",
      "strong multicollinearity or other numerical problems.\n",
      "                  0\n",
      "TMAX_AVG  -1.783112\n",
      "TMAX_STD   7.420242\n",
      "TMIN_AVG  14.452142\n",
      "TMIN_STD   5.272638\n",
      "SRAD_AVG   0.217756\n",
      "SRAD_STD  -0.278435\n",
      "PREC_AVG   7.640361\n",
      "PREC_STD  -0.277849\n",
      "KSAT       0.618687\n",
      "SWE_AVG   -0.781704\n",
      "SWE_STD    0.482201\n",
      "VP_AVG    -0.095159\n",
      "VP_STD    -0.019909\n"
     ]
    },
    {
     "data": {
      "text/plain": [
       "Index(['TMAX_AVG', 'TMAX_STD', 'TMIN_AVG', 'TMIN_STD', 'SRAD_AVG', 'SRAD_STD',\n",
       "       'PREC_AVG', 'PREC_STD', 'KSAT', 'SWE_AVG', 'SWE_STD', 'VP_AVG',\n",
       "       'VP_STD'],\n",
       "      dtype='object')"
      ]
     },
     "execution_count": 27,
     "metadata": {},
     "output_type": "execute_result"
    }
   ],
   "source": [
    "#REMOVING DAYL due to high Pvalue\n",
    "\n",
    "trainhd_env=hd_env.loc[:400]\n",
    "testhd_env=hd_env.loc[401:]\n",
    "testhd_env=testhd_env[['ENV_ID','ENV_YIELD_MEAN','ENV_YIELD_STD','TMAX_AVG','TMAX_STD',\n",
    "                            'TMIN_AVG','TMIN_STD','DAYL_AVG','DAYL_STD',\n",
    "                           'SRAD_AVG','SRAD_STD','IRRIGATION','PREC_AVG','PREC_STD','KSAT',\n",
    "                              'SWE_AVG','SWE_STD','VP_AVG','VP_STD','AWC']]\n",
    "\n",
    "\n",
    "features_=['TMAX_AVG','TMAX_STD','TMIN_AVG','TMIN_STD',\n",
    "                           'SRAD_AVG','SRAD_STD','PREC_AVG','PREC_STD','KSAT',\n",
    "                              'SWE_AVG','SWE_STD','VP_AVG','VP_STD']\n",
    "X = trainhd_env[features_]\n",
    "y = trainhd_env[\"ENV_YIELD_MEAN\"]\n",
    "\n",
    "# Note the difference in argument order\n",
    "model = sm.OLS(y, X).fit()\n",
    "predictions = model.predict(X) # make the predictions by the model\n",
    "\n",
    "# Print out the statistics\n",
    "print(model.summary2())\n",
    "\n",
    "coeff_df=pd.DataFrame(model.params)\n",
    "print(coeff_df)\n",
    "tc=coeff_df.transpose()\n",
    "tc.columns\n"
   ]
  },
  {
   "cell_type": "code",
   "execution_count": 28,
   "metadata": {},
   "outputs": [
    {
     "name": "stdout",
     "output_type": "stream",
     "text": [
      "sqmeanerror YIELDREG    30.536238\n",
      "dtype: float64\n",
      "sqstderror YIELDREG    45.364484\n",
      "dtype: float64\n"
     ]
    }
   ],
   "source": [
    "#Test coefficients with test data\n",
    "\n",
    "coeff_=tc['TMAX_AVG']\n",
    "testhd_env['TMAX_AVG']=testhd_env['TMAX_AVG'].apply (lambda x: coeff_ * x )\n",
    "coeff_=tc['TMAX_STD']\n",
    "testhd_env['TMAX_STD']=testhd_env['TMAX_STD'].apply (lambda x: coeff_ * x )\n",
    "coeff_=tc['TMIN_AVG']\n",
    "testhd_env['TMIN_AVG']=testhd_env['TMIN_AVG'].apply (lambda x: coeff_ * x )\n",
    "coeff_=tc['TMIN_STD']\n",
    "testhd_env['TMIN_STD']=testhd_env['TMIN_STD'].apply (lambda x: coeff_ * x )\n",
    "coeff_=tc['SRAD_AVG']\n",
    "testhd_env['SRAD_AVG']=testhd_env['SRAD_AVG'].apply (lambda x: coeff_ * x )\n",
    "coeff_=tc['SRAD_STD']\n",
    "testhd_env['SRAD_STD']=testhd_env['SRAD_STD'].apply (lambda x: coeff_ * x )\n",
    "coeff_=tc['PREC_AVG']\n",
    "testhd_env['PREC_AVG']=testhd_env['PREC_AVG'].apply (lambda x: coeff_ * x )\n",
    "coeff_=tc['PREC_STD']\n",
    "testhd_env['PREC_STD']=testhd_env['PREC_STD'].apply (lambda x: coeff_ * x )\n",
    "coeff_=tc['KSAT']\n",
    "testhd_env['KSAT']=testhd_env['KSAT'].apply (lambda x: coeff_ * x )\n",
    "coeff_=tc['VP_AVG']\n",
    "testhd_env['VP_AVG']=testhd_env['VP_AVG'].apply (lambda x: coeff_ * x )\n",
    "coeff_=tc['VP_STD']\n",
    "testhd_env['VP_STD']=testhd_env['VP_STD'].apply (lambda x: coeff_ * x )\n",
    "coeff_=tc['SWE_AVG']\n",
    "testhd_env['SWE_AVG']=testhd_env['SWE_AVG'].apply (lambda x: coeff_ * x )\n",
    "coeff_=tc['SWE_STD']\n",
    "testhd_env['SWE_STD']=testhd_env['SWE_STD'].apply (lambda x: coeff_ * x )\n",
    "\n",
    "\n",
    "testhdreg_env=testhd_env[['TMAX_AVG','TMAX_STD','TMIN_AVG','TMIN_STD',\n",
    "                           'SRAD_AVG','SRAD_STD','PREC_AVG','PREC_STD','KSAT',\n",
    "                              'SWE_AVG','SWE_STD','VP_AVG','VP_STD']]\n",
    "\n",
    "\n",
    "real_=testhd_env[\"ENV_YIELD_MEAN\"]\n",
    "regress_=[]\n",
    "regress_=list(testhdreg_env.sum(1))\n",
    "regress_=pd.DataFrame(regress_, columns=['YIELDREG'])\n",
    "real_=pd.DataFrame(list(real_), columns=['YIELDREG'])\n",
    "\n",
    "error_=(real_-regress_)**2\n",
    "\n",
    "print('sqmeanerror',error_.mean()**0.5)\n",
    "print('sqstderror',error_.std()**0.5)\n"
   ]
  },
  {
   "cell_type": "code",
   "execution_count": 29,
   "metadata": {},
   "outputs": [
    {
     "name": "stdout",
     "output_type": "stream",
     "text": [
      "                 Results: Ordinary least squares\n",
      "==================================================================\n",
      "Model:              OLS              Adj. R-squared:     0.983    \n",
      "Dependent Variable: ENV_YIELD_MEAN   AIC:                3286.5338\n",
      "Date:               2018-12-01 19:19 BIC:                3334.4613\n",
      "No. Observations:   401              Log-Likelihood:     -1631.3  \n",
      "Df Model:           12               F-statistic:        1967.    \n",
      "Df Residuals:       389              Prob (F-statistic): 0.00     \n",
      "R-squared:          0.984            Scale:              206.13   \n",
      "--------------------------------------------------------------------\n",
      "            Coef.    Std.Err.      t      P>|t|     [0.025    0.975]\n",
      "--------------------------------------------------------------------\n",
      "TMAX_AVG   -1.4537     1.3086   -1.1109   0.2673   -4.0264    1.1191\n",
      "TMAX_STD    7.6210     2.6134    2.9162   0.0037    2.4829   12.7590\n",
      "TMIN_AVG   14.1189     2.5097    5.6257   0.0000    9.1846   19.0531\n",
      "TMIN_STD    4.9720     2.4043    2.0680   0.0393    0.2450    9.6990\n",
      "SRAD_AVG    0.2142     0.0756    2.8325   0.0049    0.0655    0.3629\n",
      "SRAD_STD   -0.2384     0.1604   -1.4864   0.1380   -0.5537    0.0769\n",
      "PREC_AVG    8.0713     3.6867    2.1893   0.0292    0.8229   15.3196\n",
      "PREC_STD   -0.4262     1.2079   -0.3529   0.7244   -2.8011    1.9486\n",
      "SWE_AVG    -0.8154     0.3614   -2.2560   0.0246   -1.5261   -0.1048\n",
      "SWE_STD     0.4855     0.2857    1.6990   0.0901   -0.0763    1.0473\n",
      "VP_AVG     -0.1022     0.0329   -3.1042   0.0020   -0.1670   -0.0375\n",
      "VP_STD     -0.0165     0.0349   -0.4713   0.6377   -0.0851    0.0522\n",
      "------------------------------------------------------------------\n",
      "Omnibus:               8.258        Durbin-Watson:          1.668 \n",
      "Prob(Omnibus):         0.016        Jarque-Bera (JB):       10.776\n",
      "Skew:                  -0.185       Prob(JB):               0.005 \n",
      "Kurtosis:              3.713        Condition No.:          6065  \n",
      "==================================================================\n",
      "* The condition number is large (6e+03). This might indicate\n",
      "strong multicollinearity or other numerical problems.\n",
      "                  0\n",
      "TMAX_AVG  -1.453651\n",
      "TMAX_STD   7.620979\n",
      "TMIN_AVG  14.118853\n",
      "TMIN_STD   4.971993\n",
      "SRAD_AVG   0.214189\n",
      "SRAD_STD  -0.238371\n",
      "PREC_AVG   8.071271\n",
      "PREC_STD  -0.426228\n",
      "SWE_AVG   -0.815425\n",
      "SWE_STD    0.485474\n",
      "VP_AVG    -0.102216\n",
      "VP_STD    -0.016457\n"
     ]
    },
    {
     "data": {
      "text/plain": [
       "Index(['TMAX_AVG', 'TMAX_STD', 'TMIN_AVG', 'TMIN_STD', 'SRAD_AVG', 'SRAD_STD',\n",
       "       'PREC_AVG', 'PREC_STD', 'SWE_AVG', 'SWE_STD', 'VP_AVG', 'VP_STD'],\n",
       "      dtype='object')"
      ]
     },
     "execution_count": 29,
     "metadata": {},
     "output_type": "execute_result"
    }
   ],
   "source": [
    "#REMOVING KSAT due to high Pvalue\n",
    "\n",
    "trainhd_env=hd_env.loc[:400]\n",
    "testhd_env=hd_env.loc[401:]\n",
    "testhd_env=testhd_env[['ENV_ID','ENV_YIELD_MEAN','ENV_YIELD_STD','TMAX_AVG','TMAX_STD',\n",
    "                            'TMIN_AVG','TMIN_STD','DAYL_AVG','DAYL_STD',\n",
    "                           'SRAD_AVG','SRAD_STD','IRRIGATION','PREC_AVG','PREC_STD','KSAT',\n",
    "                              'SWE_AVG','SWE_STD','VP_AVG','VP_STD','AWC']]\n",
    "\n",
    "\n",
    "features_=['TMAX_AVG','TMAX_STD','TMIN_AVG','TMIN_STD',\n",
    "                           'SRAD_AVG','SRAD_STD','PREC_AVG','PREC_STD','SWE_AVG','SWE_STD','VP_AVG','VP_STD']\n",
    "X = trainhd_env[features_]\n",
    "y = trainhd_env[\"ENV_YIELD_MEAN\"]\n",
    "\n",
    "# Note the difference in argument order\n",
    "model = sm.OLS(y, X).fit()\n",
    "predictions = model.predict(X) # make the predictions by the model\n",
    "\n",
    "# Print out the statistics\n",
    "print(model.summary2())\n",
    "\n",
    "coeff_df=pd.DataFrame(model.params)\n",
    "print(coeff_df)\n",
    "tc=coeff_df.transpose()\n",
    "hdelements_=tc.columns\n",
    "tc.columns\n"
   ]
  },
  {
   "cell_type": "code",
   "execution_count": 30,
   "metadata": {},
   "outputs": [
    {
     "name": "stdout",
     "output_type": "stream",
     "text": [
      "sqmeanerror YIELDREG    29.819601\n",
      "dtype: float64\n",
      "sqstderror YIELDREG    44.091225\n",
      "dtype: float64\n"
     ]
    }
   ],
   "source": [
    "#Test coefficients with test data\n",
    "\n",
    "coeff_=tc['TMAX_AVG']\n",
    "testhd_env['TMAX_AVG']=testhd_env['TMAX_AVG'].apply (lambda x: coeff_ * x )\n",
    "coeff_=tc['TMAX_STD']\n",
    "testhd_env['TMAX_STD']=testhd_env['TMAX_STD'].apply (lambda x: coeff_ * x )\n",
    "coeff_=tc['TMIN_AVG']\n",
    "testhd_env['TMIN_AVG']=testhd_env['TMIN_AVG'].apply (lambda x: coeff_ * x )\n",
    "coeff_=tc['TMIN_STD']\n",
    "testhd_env['TMIN_STD']=testhd_env['TMIN_STD'].apply (lambda x: coeff_ * x )\n",
    "coeff_=tc['SRAD_AVG']\n",
    "testhd_env['SRAD_AVG']=testhd_env['SRAD_AVG'].apply (lambda x: coeff_ * x )\n",
    "coeff_=tc['SRAD_STD']\n",
    "testhd_env['SRAD_STD']=testhd_env['SRAD_STD'].apply (lambda x: coeff_ * x )\n",
    "coeff_=tc['PREC_AVG']\n",
    "testhd_env['PREC_AVG']=testhd_env['PREC_AVG'].apply (lambda x: coeff_ * x )\n",
    "coeff_=tc['PREC_STD']\n",
    "testhd_env['PREC_STD']=testhd_env['PREC_STD'].apply (lambda x: coeff_ * x )\n",
    "coeff_=tc['VP_AVG']\n",
    "testhd_env['VP_AVG']=testhd_env['VP_AVG'].apply (lambda x: coeff_ * x )\n",
    "coeff_=tc['VP_STD']\n",
    "testhd_env['VP_STD']=testhd_env['VP_STD'].apply (lambda x: coeff_ * x )\n",
    "coeff_=tc['SWE_AVG']\n",
    "testhd_env['SWE_AVG']=testhd_env['SWE_AVG'].apply (lambda x: coeff_ * x )\n",
    "coeff_=tc['SWE_STD']\n",
    "testhd_env['SWE_STD']=testhd_env['SWE_STD'].apply (lambda x: coeff_ * x )\n",
    "\n",
    "\n",
    "testhdreg_env=testhd_env[['TMAX_AVG','TMAX_STD','TMIN_AVG','TMIN_STD',\n",
    "                           'SRAD_AVG','SRAD_STD','PREC_AVG','PREC_STD',\n",
    "                              'SWE_AVG','SWE_STD','VP_AVG','VP_STD']]\n",
    "\n",
    "\n",
    "real_=testhd_env[\"ENV_YIELD_MEAN\"]\n",
    "regress_=[]\n",
    "regress_=list(testhdreg_env.sum(1))\n",
    "regress_=pd.DataFrame(regress_, columns=['YIELDREG'])\n",
    "real_=pd.DataFrame(list(real_), columns=['YIELDREG'])\n",
    "\n",
    "error_=(real_-regress_)**2\n",
    "\n",
    "print('sqmeanerror',error_.mean()**0.5)\n",
    "print('sqstderror',error_.std()**0.5)\n",
    "hd_sqerror_=error_.mean()**0.5\n",
    "hdreal_=real_\n",
    "hdregress_=regress_"
   ]
  },
  {
   "cell_type": "markdown",
   "metadata": {},
   "source": [
    "## Coefficients used for Heat+Drought Linear Regression Prediction of Enviroment Yield:"
   ]
  },
  {
   "cell_type": "code",
   "execution_count": 31,
   "metadata": {},
   "outputs": [
    {
     "name": "stdout",
     "output_type": "stream",
     "text": [
      "sqMeanError YIELDREG    29.819601\n",
      "dtype: float64\n"
     ]
    },
    {
     "data": {
      "text/html": [
       "<div>\n",
       "<style scoped>\n",
       "    .dataframe tbody tr th:only-of-type {\n",
       "        vertical-align: middle;\n",
       "    }\n",
       "\n",
       "    .dataframe tbody tr th {\n",
       "        vertical-align: top;\n",
       "    }\n",
       "\n",
       "    .dataframe thead th {\n",
       "        text-align: right;\n",
       "    }\n",
       "</style>\n",
       "<table border=\"1\" class=\"dataframe\">\n",
       "  <thead>\n",
       "    <tr style=\"text-align: right;\">\n",
       "      <th></th>\n",
       "      <th>TMAX_AVG</th>\n",
       "      <th>TMAX_STD</th>\n",
       "      <th>TMIN_AVG</th>\n",
       "      <th>TMIN_STD</th>\n",
       "      <th>SRAD_AVG</th>\n",
       "      <th>SRAD_STD</th>\n",
       "      <th>PREC_AVG</th>\n",
       "      <th>PREC_STD</th>\n",
       "      <th>SWE_AVG</th>\n",
       "      <th>SWE_STD</th>\n",
       "      <th>VP_AVG</th>\n",
       "      <th>VP_STD</th>\n",
       "    </tr>\n",
       "  </thead>\n",
       "  <tbody>\n",
       "    <tr>\n",
       "      <th>0</th>\n",
       "      <td>-1.453651</td>\n",
       "      <td>7.620979</td>\n",
       "      <td>14.118853</td>\n",
       "      <td>4.971993</td>\n",
       "      <td>0.214189</td>\n",
       "      <td>-0.238371</td>\n",
       "      <td>8.071271</td>\n",
       "      <td>-0.426228</td>\n",
       "      <td>-0.815425</td>\n",
       "      <td>0.485474</td>\n",
       "      <td>-0.102216</td>\n",
       "      <td>-0.016457</td>\n",
       "    </tr>\n",
       "  </tbody>\n",
       "</table>\n",
       "</div>"
      ],
      "text/plain": [
       "   TMAX_AVG  TMAX_STD   TMIN_AVG  TMIN_STD  SRAD_AVG  SRAD_STD  PREC_AVG  \\\n",
       "0 -1.453651  7.620979  14.118853  4.971993  0.214189 -0.238371  8.071271   \n",
       "\n",
       "   PREC_STD   SWE_AVG   SWE_STD    VP_AVG    VP_STD  \n",
       "0 -0.426228 -0.815425  0.485474 -0.102216 -0.016457  "
      ]
     },
     "execution_count": 31,
     "metadata": {},
     "output_type": "execute_result"
    }
   ],
   "source": [
    "hd_coeff=tc\n",
    "print(\"sqMeanError\",hd_sqerror_)\n",
    "hd_coeff"
   ]
  },
  {
   "cell_type": "code",
   "execution_count": 33,
   "metadata": {},
   "outputs": [
    {
     "name": "stdout",
     "output_type": "stream",
     "text": [
      "Heat+Drought, Actual vs Regression Comparison\n"
     ]
    },
    {
     "data": {
      "image/png": "[encoded data removed]",
      "text/plain": [
       "<Figure size 432x288 with 1 Axes>"
      ]
     },
     "metadata": {},
     "output_type": "display_data"
    }
   ],
   "source": [
    "hdrvsa_=pd.concat([hdreal_,hdregress_], axis=1, sort=False)\n",
    "hdrvsa_.columns=[\"Actual\",\"Regression\"]\n",
    "print(\"Heat+Drought, Actual vs Regression Comparison\")\n",
    "hdplot_=hdrvsa_.plot()"
   ]
  },
  {
   "cell_type": "code",
   "execution_count": 34,
   "metadata": {},
   "outputs": [
    {
     "name": "stdout",
     "output_type": "stream",
     "text": [
      "                 Results: Ordinary least squares\n",
      "==================================================================\n",
      "Model:              OLS              Adj. R-squared:     0.983    \n",
      "Dependent Variable: ENV_YIELD_MEAN   AIC:                3283.8627\n",
      "Date:               2018-12-01 19:19 BIC:                3315.8144\n",
      "No. Observations:   401              Log-Likelihood:     -1633.9  \n",
      "Df Model:           8                F-statistic:        2941.    \n",
      "Df Residuals:       393              Prob (F-statistic): 0.00     \n",
      "R-squared:          0.984            Scale:              206.76   \n",
      "--------------------------------------------------------------------\n",
      "            Coef.    Std.Err.      t      P>|t|     [0.025    0.975]\n",
      "--------------------------------------------------------------------\n",
      "TMAX_AVG   -1.2471     1.2584   -0.9911   0.3223   -3.7211    1.2268\n",
      "TMAX_STD    4.7847     2.0764    2.3043   0.0217    0.7025    8.8670\n",
      "TMIN_AVG   14.5302     2.4790    5.8613   0.0000    9.6564   19.4040\n",
      "TMIN_STD    6.7748     1.9859    3.4115   0.0007    2.8705   10.6791\n",
      "SRAD_AVG    0.1658     0.0653    2.5393   0.0115    0.0374    0.2941\n",
      "PREC_AVG    6.6387     2.2728    2.9210   0.0037    2.1704   11.1070\n",
      "SWE_AVG    -0.2868     0.0721   -3.9767   0.0001   -0.4287   -0.1450\n",
      "VP_AVG     -0.1123     0.0240   -4.6736   0.0000   -0.1596   -0.0651\n",
      "------------------------------------------------------------------\n",
      "Omnibus:               8.061        Durbin-Watson:          1.670 \n",
      "Prob(Omnibus):         0.018        Jarque-Bera (JB):       11.201\n",
      "Skew:                  -0.151       Prob(JB):               0.004 \n",
      "Kurtosis:              3.761        Condition No.:          3812  \n",
      "==================================================================\n",
      "* The condition number is large (4e+03). This might indicate\n",
      "strong multicollinearity or other numerical problems.\n",
      "                  0\n",
      "TMAX_AVG  -1.247118\n",
      "TMAX_STD   4.784731\n",
      "TMIN_AVG  14.530222\n",
      "TMIN_STD   6.774763\n",
      "SRAD_AVG   0.165774\n",
      "PREC_AVG   6.638683\n",
      "SWE_AVG   -0.286846\n",
      "VP_AVG    -0.112324\n"
     ]
    },
    {
     "data": {
      "text/plain": [
       "Index(['TMAX_AVG', 'TMAX_STD', 'TMIN_AVG', 'TMIN_STD', 'SRAD_AVG', 'PREC_AVG',\n",
       "       'SWE_AVG', 'VP_AVG'],\n",
       "      dtype='object')"
      ]
     },
     "execution_count": 34,
     "metadata": {},
     "output_type": "execute_result"
    }
   ],
   "source": [
    "#REMOVING Several variables due to multicolinearity and coefficients significance\n",
    "\n",
    "trainhd_env=hd_env.loc[:400]\n",
    "testhd_env=hd_env.loc[401:]\n",
    "testhd_env=testhd_env[['ENV_ID','ENV_YIELD_MEAN','ENV_YIELD_STD','TMAX_AVG','TMAX_STD',\n",
    "                            'TMIN_AVG','TMIN_STD','DAYL_AVG','DAYL_STD',\n",
    "                           'SRAD_AVG','SRAD_STD','IRRIGATION','PREC_AVG','PREC_STD','KSAT',\n",
    "                              'SWE_AVG','SWE_STD','VP_AVG','VP_STD','AWC']]\n",
    "\n",
    "\n",
    "features_=['TMAX_AVG','TMAX_STD','TMIN_AVG','TMIN_STD',\n",
    "                           'SRAD_AVG','PREC_AVG','SWE_AVG','VP_AVG']\n",
    "X = trainhd_env[features_]\n",
    "y = trainhd_env[\"ENV_YIELD_MEAN\"]\n",
    "\n",
    "# Note the difference in argument order\n",
    "model = sm.OLS(y, X).fit()\n",
    "predictions = model.predict(X) # make the predictions by the model\n",
    "\n",
    "# Print out the statistics\n",
    "print(model.summary2())\n",
    "\n",
    "coeff_df=pd.DataFrame(model.params)\n",
    "print(coeff_df)\n",
    "tc=coeff_df.transpose()\n",
    "tc.columns\n"
   ]
  },
  {
   "cell_type": "code",
   "execution_count": 35,
   "metadata": {},
   "outputs": [
    {
     "name": "stdout",
     "output_type": "stream",
     "text": [
      "sqmeanerror YIELDREG    30.688087\n",
      "dtype: float64\n",
      "sqstderror YIELDREG    46.097586\n",
      "dtype: float64\n"
     ]
    }
   ],
   "source": [
    "#Test coefficients with test data\n",
    "\n",
    "coeff_=tc['TMAX_AVG']\n",
    "testhd_env['TMAX_AVG']=testhd_env['TMAX_AVG'].apply (lambda x: coeff_ * x )\n",
    "coeff_=tc['TMAX_STD']\n",
    "testhd_env['TMAX_STD']=testhd_env['TMAX_STD'].apply (lambda x: coeff_ * x )\n",
    "coeff_=tc['TMIN_AVG']\n",
    "testhd_env['TMIN_AVG']=testhd_env['TMIN_AVG'].apply (lambda x: coeff_ * x )\n",
    "coeff_=tc['TMIN_STD']\n",
    "testhd_env['TMIN_STD']=testhd_env['TMIN_STD'].apply (lambda x: coeff_ * x )\n",
    "coeff_=tc['SRAD_AVG']\n",
    "testhd_env['SRAD_AVG']=testhd_env['SRAD_AVG'].apply (lambda x: coeff_ * x )\n",
    "coeff_=tc['PREC_AVG']\n",
    "testhd_env['PREC_AVG']=testhd_env['PREC_AVG'].apply (lambda x: coeff_ * x )\n",
    "coeff_=tc['VP_AVG']\n",
    "testhd_env['VP_AVG']=testhd_env['VP_AVG'].apply (lambda x: coeff_ * x )\n",
    "coeff_=tc['SWE_AVG']\n",
    "\n",
    "testhd_env['SWE_AVG']=testhd_env['SWE_AVG'].apply (lambda x: coeff_ * x )\n",
    "\n",
    "\n",
    "\n",
    "testhdreg_env=testhd_env[['TMAX_AVG','TMAX_STD','TMIN_AVG','TMIN_STD',\n",
    "                           'SRAD_AVG','PREC_AVG',\n",
    "                              'SWE_AVG','VP_AVG']]\n",
    "\n",
    "\n",
    "real_=testhd_env[\"ENV_YIELD_MEAN\"]\n",
    "regress_=[]\n",
    "regress_=list(testhdreg_env.sum(1))\n",
    "regress_=pd.DataFrame(regress_, columns=['YIELDREG'])\n",
    "real_=pd.DataFrame(list(real_), columns=['YIELDREG'])\n",
    "\n",
    "error_=(real_-regress_)**2\n",
    "\n",
    "print('sqmeanerror',error_.mean()**0.5)\n",
    "print('sqstderror',error_.std()**0.5)\n"
   ]
  },
  {
   "cell_type": "markdown",
   "metadata": {},
   "source": [
    "### SQ Mean Error increased from previous iteration"
   ]
  },
  {
   "cell_type": "markdown",
   "metadata": {},
   "source": [
    "## Trying regression with previously found coefficients for independent linear regressions"
   ]
  },
  {
   "cell_type": "code",
   "execution_count": 36,
   "metadata": {},
   "outputs": [
    {
     "name": "stdout",
     "output_type": "stream",
     "text": [
      "   TMAX_AVG  TMAX_STD  TMIN_AVG  TMIN_STD\n",
      "0  2.103662  2.155283  5.732214  4.137954\n",
      "   PREC_AVG  PREC_STD     KSAT       AWC\n",
      "0 -3.461698  5.783615  3.56207  3.181174\n"
     ]
    }
   ],
   "source": [
    "print(heat_coeff)\n",
    "print(drought_coeff)"
   ]
  },
  {
   "cell_type": "code",
   "execution_count": 37,
   "metadata": {},
   "outputs": [
    {
     "name": "stdout",
     "output_type": "stream",
     "text": [
      "                 Results: Ordinary least squares\n",
      "==================================================================\n",
      "Model:              OLS              Adj. R-squared:     0.982    \n",
      "Dependent Variable: ENV_YIELD_MEAN   AIC:                3309.5541\n",
      "Date:               2018-12-01 19:20 BIC:                3341.5058\n",
      "No. Observations:   401              Log-Likelihood:     -1646.8  \n",
      "Df Model:           8                F-statistic:        2756.    \n",
      "Df Residuals:       393              Prob (F-statistic): 0.00     \n",
      "R-squared:          0.982            Scale:              220.44   \n",
      "--------------------------------------------------------------------\n",
      "            Coef.    Std.Err.      t      P>|t|     [0.025    0.975]\n",
      "--------------------------------------------------------------------\n",
      "TMAX_AVG    0.9601     0.7828    1.2265   0.2207   -0.5789    2.4991\n",
      "TMAX_STD    1.5355     2.3476    0.6541   0.5134   -3.0799    6.1510\n",
      "TMIN_AVG    6.8163     1.2481    5.4612   0.0000    4.3624    9.2701\n",
      "TMIN_STD    4.0249     2.1233    1.8955   0.0588   -0.1496    8.1994\n",
      "PREC_AVG   -3.5699     1.7315   -2.0617   0.0399   -6.9740   -0.1657\n",
      "PREC_STD    2.4910     0.9828    2.5345   0.0116    0.5587    4.4232\n",
      "KSAT        1.4668     0.7296    2.0104   0.0451    0.0324    2.9012\n",
      "AWC         0.4721     0.5515    0.8560   0.3925   -0.6121    1.5562\n",
      "------------------------------------------------------------------\n",
      "Omnibus:               12.858       Durbin-Watson:          1.635 \n",
      "Prob(Omnibus):         0.002        Jarque-Bera (JB):       17.170\n",
      "Skew:                  -0.285       Prob(JB):               0.000 \n",
      "Kurtosis:              3.838        Condition No.:          134   \n",
      "==================================================================\n",
      "\n",
      "                 0\n",
      "TMAX_AVG  0.960122\n",
      "TMAX_STD  1.535520\n",
      "TMIN_AVG  6.816287\n",
      "TMIN_STD  4.024857\n",
      "PREC_AVG -3.569860\n",
      "PREC_STD  2.490958\n",
      "KSAT      1.466784\n",
      "AWC       0.472057\n"
     ]
    },
    {
     "data": {
      "text/plain": [
       "Index(['TMAX_AVG', 'TMAX_STD', 'TMIN_AVG', 'TMIN_STD', 'PREC_AVG', 'PREC_STD',\n",
       "       'KSAT', 'AWC'],\n",
       "      dtype='object')"
      ]
     },
     "execution_count": 37,
     "metadata": {},
     "output_type": "execute_result"
    }
   ],
   "source": [
    "#REMOVING KSAT due to high Pvalue\n",
    "\n",
    "trainhd_env=hd_env.loc[:400]\n",
    "testhd_env=hd_env.loc[401:]\n",
    "testhd_env=testhd_env[['ENV_ID','ENV_YIELD_MEAN','ENV_YIELD_STD','TMAX_AVG','TMAX_STD',\n",
    "                            'TMIN_AVG','TMIN_STD','DAYL_AVG','DAYL_STD',\n",
    "                           'SRAD_AVG','SRAD_STD','IRRIGATION','PREC_AVG','PREC_STD','KSAT',\n",
    "                              'SWE_AVG','SWE_STD','VP_AVG','VP_STD','AWC']]\n",
    "\n",
    "\n",
    "features_=['TMAX_AVG','TMAX_STD','TMIN_AVG','TMIN_STD',\n",
    "            'PREC_AVG','PREC_STD','KSAT','AWC']\n",
    "X = trainhd_env[features_]\n",
    "y = trainhd_env[\"ENV_YIELD_MEAN\"]\n",
    "\n",
    "# Note the difference in argument order\n",
    "model = sm.OLS(y, X).fit()\n",
    "predictions = model.predict(X) # make the predictions by the model\n",
    "\n",
    "# Print out the statistics\n",
    "print(model.summary2())\n",
    "\n",
    "coeff_df=pd.DataFrame(model.params)\n",
    "print(coeff_df)\n",
    "tc=coeff_df.transpose()\n",
    "tc.columns"
   ]
  },
  {
   "cell_type": "code",
   "execution_count": 38,
   "metadata": {},
   "outputs": [
    {
     "name": "stdout",
     "output_type": "stream",
     "text": [
      "sqmeanerror YIELDREG    38.562922\n",
      "dtype: float64\n",
      "sqstderror YIELDREG    59.162118\n",
      "dtype: float64\n"
     ]
    }
   ],
   "source": [
    "#Test coefficients with test data\n",
    "\n",
    "coeff_=tc['TMAX_AVG']\n",
    "testhd_env['TMAX_AVG']=testhd_env['TMAX_AVG'].apply (lambda x: coeff_ * x )\n",
    "coeff_=tc['TMAX_STD']\n",
    "testhd_env['TMAX_STD']=testhd_env['TMAX_STD'].apply (lambda x: coeff_ * x )\n",
    "coeff_=tc['TMIN_AVG']\n",
    "testhd_env['TMIN_AVG']=testhd_env['TMIN_AVG'].apply (lambda x: coeff_ * x )\n",
    "coeff_=tc['TMIN_STD']\n",
    "testhd_env['TMIN_STD']=testhd_env['TMIN_STD'].apply (lambda x: coeff_ * x )\n",
    "\n",
    "coeff_=tc['PREC_AVG']\n",
    "testhd_env['PREC_AVG']=testhd_env['PREC_AVG'].apply (lambda x: coeff_ * x )\n",
    "coeff_=tc['PREC_STD']\n",
    "testhd_env['PREC_STD']=testhd_env['PREC_STD'].apply (lambda x: coeff_ * x )\n",
    "coeff_=tc['KSAT']\n",
    "testhd_env['KSAT']=testhd_env['KSAT'].apply (lambda x: coeff_ * x )\n",
    "coeff_=tc['AWC']\n",
    "testhd_env['AWC']=testhd_env['AWC'].apply (lambda x: coeff_ * x )\n",
    "\n",
    "\n",
    "\n",
    "\n",
    "testhdreg_env=testhd_env[['TMAX_AVG','TMAX_STD','TMIN_AVG','TMIN_STD',\n",
    "            'PREC_AVG','PREC_STD','KSAT','AWC']]\n",
    "\n",
    "\n",
    "real_=testhd_env[\"ENV_YIELD_MEAN\"]\n",
    "regress_=[]\n",
    "regress_=list(testhdreg_env.sum(1))\n",
    "regress_=pd.DataFrame(regress_, columns=['YIELDREG'])\n",
    "real_=pd.DataFrame(list(real_), columns=['YIELDREG'])\n",
    "\n",
    "error_=(real_-regress_)**2\n",
    "\n",
    "print('sqmeanerror',error_.mean()**0.5)\n",
    "print('sqstderror',error_.std()**0.5)\n"
   ]
  },
  {
   "cell_type": "markdown",
   "metadata": {},
   "source": [
    "### Sq Mean Error is signicantly higer from the best iteration found, therefore we would use the previous one"
   ]
  },
  {
   "cell_type": "markdown",
   "metadata": {},
   "source": [
    "# Coefficients and Errors comparisons"
   ]
  },
  {
   "cell_type": "code",
   "execution_count": 39,
   "metadata": {},
   "outputs": [
    {
     "name": "stdout",
     "output_type": "stream",
     "text": [
      "Heat Variables + Coefficients\n",
      "   TMAX_AVG  TMAX_STD  TMIN_AVG  TMIN_STD\n",
      "0  2.103662  2.155283  5.732214  4.137954\n",
      "Heat SqMeanError -> 37.47336766241544\n",
      " \n",
      " \n",
      "Drought Variables + Coefficients\n",
      "   PREC_AVG  PREC_STD     KSAT       AWC\n",
      "0 -3.461698  5.783615  3.56207  3.181174\n",
      "Drought SqMeanError -> 26.160085806409413\n",
      " \n",
      " \n",
      "Heat&Drought Variables + Coefficients\n",
      "   TMAX_AVG  TMAX_STD   TMIN_AVG  TMIN_STD  SRAD_AVG  SRAD_STD  PREC_AVG  \\\n",
      "0 -1.453651  7.620979  14.118853  4.971993  0.214189 -0.238371  8.071271   \n",
      "\n",
      "   PREC_STD   SWE_AVG   SWE_STD    VP_AVG    VP_STD  \n",
      "0 -0.426228 -0.815425  0.485474 -0.102216 -0.016457  \n",
      "Heat+Drought SqMeanError -> 29.819601260494142\n"
     ]
    }
   ],
   "source": [
    "print(\"Heat Variables + Coefficients\")\n",
    "print(heat_coeff)\n",
    "print(\"Heat SqMeanError ->\",float(heat_error_))\n",
    "print(\" \")\n",
    "print(\" \")\n",
    "print(\"Drought Variables + Coefficients\")\n",
    "print(drought_coeff)\n",
    "print(\"Drought SqMeanError ->\",float(drought_sqerror_))\n",
    "print(\" \")\n",
    "print(\" \")\n",
    "print(\"Heat&Drought Variables + Coefficients\")\n",
    "print(hd_coeff)\n",
    "print(\"Heat+Drought SqMeanError ->\",float(hd_sqerror_))"
   ]
  },
  {
   "cell_type": "markdown",
   "metadata": {},
   "source": [
    "### As it can be seen, the linear regression with the best error (less is better) is the one that only considers drought factors), in order to verify that, previous visualizations comparisons can help:"
   ]
  },
  {
   "cell_type": "code",
   "execution_count": 51,
   "metadata": {},
   "outputs": [
    {
     "data": {
      "text/plain": [
       "<matplotlib.axes._subplots.AxesSubplot at 0x1dd122cca20>"
      ]
     },
     "execution_count": 51,
     "metadata": {},
     "output_type": "execute_result"
    },
    {
     "data": {
      "image/png": "[encoded data removed]",
      "text/plain": [
       "<Figure size 432x288 with 1 Axes>"
      ]
     },
     "metadata": {},
     "output_type": "display_data"
    },
    {
     "data": {
      "image/png": "[encoded data removed]",
      "text/plain": [
       "<Figure size 432x288 with 1 Axes>"
      ]
     },
     "metadata": {},
     "output_type": "display_data"
    },
    {
     "data": {
      "image/png": "[encoded data removed]",
      "text/plain": [
       "<Figure size 432x288 with 1 Axes>"
      ]
     },
     "metadata": {},
     "output_type": "display_data"
    }
   ],
   "source": [
    "hrvsa_.plot(title='Heat, Actual vs Regression Comparison')\n",
    "drvsa_.plot(title='Drought, Actual vs Regression Comparison')\n",
    "hdrvsa_.plot(title='Heat+Drought, Actual vs Regression Comparison')"
   ]
  },
  {
   "cell_type": "markdown",
   "metadata": {},
   "source": [
    "# Drought Regression is the best fit and is consistent with the measured sqMeanError, however, we can see that there are certain data points that cannot be accurate predicted and therefore we decided to build more complex models with other methods"
   ]
  }
 ],
 "metadata": {
  "kernelspec": {
   "display_name": "Python 3",
   "language": "python",
   "name": "python3"
  },
  "language_info": {
   "codemirror_mode": {
    "name": "ipython",
    "version": 3
   },
   "file_extension": ".py",
   "mimetype": "text/x-python",
   "name": "python",
   "nbconvert_exporter": "python",
   "pygments_lexer": "ipython3",
   "version": "3.6.5"
  }
 },
 "nbformat": 4,
 "nbformat_minor": 2
}
