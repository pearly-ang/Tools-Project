{
 "cells": [
  {
   "cell_type": "markdown",
   "metadata": {},
   "source": [
    "# Linear Regressions for HEAT , DROUGHT"
   ]
  },
  {
   "cell_type": "code",
   "execution_count": 1,
   "metadata": {},
   "outputs": [],
   "source": [
    "import pandas as pd\n",
    "\n",
    "performance_data = pd.read_csv('performance_data.csv')\n",
    "submission_template = pd.read_csv('submission_template.csv')\n",
    "weather_data = pd.read_csv('weather_data.csv')"
   ]
  },
  {
   "cell_type": "code",
   "execution_count": 2,
   "metadata": {},
   "outputs": [
    {
     "data": {
      "text/plain": [
       "Index(['HYBRID_ID', 'ENV_ID', 'HYBRID_MG', 'ENV_MG', 'YIELD', 'YEAR', 'LAT',\n",
       "       'LONG', 'PLANT_DATE', 'HARVEST_DATE', 'IRRIGATION', 'ENV_YIELD_MEAN',\n",
       "       'ENV_YIELD_STD', 'ELEVATION', 'CLAY', 'SILT', 'SAND', 'AWC', 'PH', 'OM',\n",
       "       'CEC', 'KSAT'],\n",
       "      dtype='object')"
      ]
     },
     "execution_count": 2,
     "metadata": {},
     "output_type": "execute_result"
    }
   ],
   "source": [
    "performance_data.columns"
   ]
  },
  {
   "cell_type": "code",
   "execution_count": 3,
   "metadata": {},
   "outputs": [
    {
     "data": {
      "text/html": [
       "<div>\n",
       "<style scoped>\n",
       "    .dataframe tbody tr th:only-of-type {\n",
       "        vertical-align: middle;\n",
       "    }\n",
       "\n",
       "    .dataframe tbody tr th {\n",
       "        vertical-align: top;\n",
       "    }\n",
       "\n",
       "    .dataframe thead th {\n",
       "        text-align: right;\n",
       "    }\n",
       "</style>\n",
       "<table border=\"1\" class=\"dataframe\">\n",
       "  <thead>\n",
       "    <tr style=\"text-align: right;\">\n",
       "      <th></th>\n",
       "      <th>ENV_ID</th>\n",
       "      <th>DAY_NUM</th>\n",
       "      <th>DAYL</th>\n",
       "      <th>PREC</th>\n",
       "      <th>SRAD</th>\n",
       "      <th>SWE</th>\n",
       "      <th>TMAX</th>\n",
       "      <th>TMIN</th>\n",
       "      <th>VP</th>\n",
       "    </tr>\n",
       "  </thead>\n",
       "  <tbody>\n",
       "    <tr>\n",
       "      <th>0</th>\n",
       "      <td>Env_1</td>\n",
       "      <td>1</td>\n",
       "      <td>29030.400391</td>\n",
       "      <td>0</td>\n",
       "      <td>92.800003</td>\n",
       "      <td>24</td>\n",
       "      <td>-14.5</td>\n",
       "      <td>-21.0</td>\n",
       "      <td>120</td>\n",
       "    </tr>\n",
       "    <tr>\n",
       "      <th>1</th>\n",
       "      <td>Env_1</td>\n",
       "      <td>2</td>\n",
       "      <td>29030.400391</td>\n",
       "      <td>0</td>\n",
       "      <td>166.399994</td>\n",
       "      <td>24</td>\n",
       "      <td>-7.0</td>\n",
       "      <td>-26.0</td>\n",
       "      <td>80</td>\n",
       "    </tr>\n",
       "    <tr>\n",
       "      <th>2</th>\n",
       "      <td>Env_1</td>\n",
       "      <td>3</td>\n",
       "      <td>29030.400391</td>\n",
       "      <td>0</td>\n",
       "      <td>144.000000</td>\n",
       "      <td>24</td>\n",
       "      <td>0.0</td>\n",
       "      <td>-12.5</td>\n",
       "      <td>240</td>\n",
       "    </tr>\n",
       "    <tr>\n",
       "      <th>3</th>\n",
       "      <td>Env_1</td>\n",
       "      <td>4</td>\n",
       "      <td>29030.400391</td>\n",
       "      <td>0</td>\n",
       "      <td>112.000000</td>\n",
       "      <td>24</td>\n",
       "      <td>-3.5</td>\n",
       "      <td>-11.5</td>\n",
       "      <td>240</td>\n",
       "    </tr>\n",
       "    <tr>\n",
       "      <th>4</th>\n",
       "      <td>Env_1</td>\n",
       "      <td>5</td>\n",
       "      <td>29030.400391</td>\n",
       "      <td>1</td>\n",
       "      <td>153.600006</td>\n",
       "      <td>24</td>\n",
       "      <td>2.5</td>\n",
       "      <td>-11.5</td>\n",
       "      <td>240</td>\n",
       "    </tr>\n",
       "  </tbody>\n",
       "</table>\n",
       "</div>"
      ],
      "text/plain": [
       "  ENV_ID  DAY_NUM          DAYL  PREC        SRAD  SWE  TMAX  TMIN   VP\n",
       "0  Env_1        1  29030.400391     0   92.800003   24 -14.5 -21.0  120\n",
       "1  Env_1        2  29030.400391     0  166.399994   24  -7.0 -26.0   80\n",
       "2  Env_1        3  29030.400391     0  144.000000   24   0.0 -12.5  240\n",
       "3  Env_1        4  29030.400391     0  112.000000   24  -3.5 -11.5  240\n",
       "4  Env_1        5  29030.400391     1  153.600006   24   2.5 -11.5  240"
      ]
     },
     "execution_count": 3,
     "metadata": {},
     "output_type": "execute_result"
    }
   ],
   "source": [
    "weather_data.head()"
   ]
  },
  {
   "cell_type": "markdown",
   "metadata": {},
   "source": [
    "## Transforming weather data into useful metrics"
   ]
  },
  {
   "cell_type": "code",
   "execution_count": 4,
   "metadata": {},
   "outputs": [
    {
     "data": {
      "text/html": [
       "<div>\n",
       "<style scoped>\n",
       "    .dataframe tbody tr th:only-of-type {\n",
       "        vertical-align: middle;\n",
       "    }\n",
       "\n",
       "    .dataframe tbody tr th {\n",
       "        vertical-align: top;\n",
       "    }\n",
       "\n",
       "    .dataframe thead th {\n",
       "        text-align: right;\n",
       "    }\n",
       "</style>\n",
       "<table border=\"1\" class=\"dataframe\">\n",
       "  <thead>\n",
       "    <tr style=\"text-align: right;\">\n",
       "      <th></th>\n",
       "      <th>DAYL_AVG</th>\n",
       "      <th>PREC_AVG</th>\n",
       "      <th>SRAD_AVG</th>\n",
       "      <th>SWE_AVG</th>\n",
       "      <th>TMAX_AVG</th>\n",
       "      <th>TMIN_AVG</th>\n",
       "      <th>VP_AVG</th>\n",
       "      <th>DAY_NUM_STD</th>\n",
       "      <th>DAYL_STD</th>\n",
       "      <th>PREC_STD</th>\n",
       "      <th>SRAD_STD</th>\n",
       "      <th>SWE_STD</th>\n",
       "      <th>TMAX_STD</th>\n",
       "      <th>TMIN_STD</th>\n",
       "      <th>VP_STD</th>\n",
       "    </tr>\n",
       "    <tr>\n",
       "      <th>ENV_ID</th>\n",
       "      <th></th>\n",
       "      <th></th>\n",
       "      <th></th>\n",
       "      <th></th>\n",
       "      <th></th>\n",
       "      <th></th>\n",
       "      <th></th>\n",
       "      <th></th>\n",
       "      <th></th>\n",
       "      <th></th>\n",
       "      <th></th>\n",
       "      <th></th>\n",
       "      <th></th>\n",
       "      <th></th>\n",
       "      <th></th>\n",
       "    </tr>\n",
       "  </thead>\n",
       "  <tbody>\n",
       "    <tr>\n",
       "      <th>Env_1</th>\n",
       "      <td>43200.000043</td>\n",
       "      <td>1.684932</td>\n",
       "      <td>276.111781</td>\n",
       "      <td>11.167123</td>\n",
       "      <td>8.093151</td>\n",
       "      <td>-3.256164</td>\n",
       "      <td>630.356164</td>\n",
       "      <td>105.510663</td>\n",
       "      <td>10075.200862</td>\n",
       "      <td>4.544882</td>\n",
       "      <td>131.085275</td>\n",
       "      <td>16.046875</td>\n",
       "      <td>14.926959</td>\n",
       "      <td>13.574307</td>\n",
       "      <td>535.634711</td>\n",
       "    </tr>\n",
       "    <tr>\n",
       "      <th>Env_10</th>\n",
       "      <td>43200.946768</td>\n",
       "      <td>3.079452</td>\n",
       "      <td>294.978630</td>\n",
       "      <td>19.868493</td>\n",
       "      <td>12.095890</td>\n",
       "      <td>2.241096</td>\n",
       "      <td>874.191781</td>\n",
       "      <td>105.510663</td>\n",
       "      <td>8183.382184</td>\n",
       "      <td>5.974924</td>\n",
       "      <td>134.977729</td>\n",
       "      <td>31.810984</td>\n",
       "      <td>11.625704</td>\n",
       "      <td>9.839269</td>\n",
       "      <td>559.526111</td>\n",
       "    </tr>\n",
       "    <tr>\n",
       "      <th>Env_100</th>\n",
       "      <td>43200.000070</td>\n",
       "      <td>2.901370</td>\n",
       "      <td>296.714521</td>\n",
       "      <td>20.679452</td>\n",
       "      <td>12.616438</td>\n",
       "      <td>0.632877</td>\n",
       "      <td>820.054795</td>\n",
       "      <td>105.510663</td>\n",
       "      <td>8795.413435</td>\n",
       "      <td>7.152662</td>\n",
       "      <td>119.593751</td>\n",
       "      <td>30.413609</td>\n",
       "      <td>12.877466</td>\n",
       "      <td>12.410814</td>\n",
       "      <td>614.102577</td>\n",
       "    </tr>\n",
       "    <tr>\n",
       "      <th>Env_1000</th>\n",
       "      <td>43200.946854</td>\n",
       "      <td>2.000000</td>\n",
       "      <td>352.368219</td>\n",
       "      <td>0.997260</td>\n",
       "      <td>18.323288</td>\n",
       "      <td>2.883562</td>\n",
       "      <td>824.876712</td>\n",
       "      <td>105.510663</td>\n",
       "      <td>6955.702533</td>\n",
       "      <td>6.970897</td>\n",
       "      <td>111.010912</td>\n",
       "      <td>2.447805</td>\n",
       "      <td>11.374718</td>\n",
       "      <td>10.219944</td>\n",
       "      <td>674.104452</td>\n",
       "    </tr>\n",
       "    <tr>\n",
       "      <th>Env_1001</th>\n",
       "      <td>43200.946854</td>\n",
       "      <td>2.561644</td>\n",
       "      <td>341.681097</td>\n",
       "      <td>2.443836</td>\n",
       "      <td>17.701370</td>\n",
       "      <td>2.924658</td>\n",
       "      <td>862.246575</td>\n",
       "      <td>105.510663</td>\n",
       "      <td>6955.702533</td>\n",
       "      <td>8.697269</td>\n",
       "      <td>112.386846</td>\n",
       "      <td>5.729262</td>\n",
       "      <td>11.039508</td>\n",
       "      <td>10.119774</td>\n",
       "      <td>629.404388</td>\n",
       "    </tr>\n",
       "  </tbody>\n",
       "</table>\n",
       "</div>"
      ],
      "text/plain": [
       "              DAYL_AVG  PREC_AVG    SRAD_AVG    SWE_AVG   TMAX_AVG  TMIN_AVG  \\\n",
       "ENV_ID                                                                         \n",
       "Env_1     43200.000043  1.684932  276.111781  11.167123   8.093151 -3.256164   \n",
       "Env_10    43200.946768  3.079452  294.978630  19.868493  12.095890  2.241096   \n",
       "Env_100   43200.000070  2.901370  296.714521  20.679452  12.616438  0.632877   \n",
       "Env_1000  43200.946854  2.000000  352.368219   0.997260  18.323288  2.883562   \n",
       "Env_1001  43200.946854  2.561644  341.681097   2.443836  17.701370  2.924658   \n",
       "\n",
       "              VP_AVG  DAY_NUM_STD      DAYL_STD  PREC_STD    SRAD_STD  \\\n",
       "ENV_ID                                                                  \n",
       "Env_1     630.356164   105.510663  10075.200862  4.544882  131.085275   \n",
       "Env_10    874.191781   105.510663   8183.382184  5.974924  134.977729   \n",
       "Env_100   820.054795   105.510663   8795.413435  7.152662  119.593751   \n",
       "Env_1000  824.876712   105.510663   6955.702533  6.970897  111.010912   \n",
       "Env_1001  862.246575   105.510663   6955.702533  8.697269  112.386846   \n",
       "\n",
       "            SWE_STD   TMAX_STD   TMIN_STD      VP_STD  \n",
       "ENV_ID                                                 \n",
       "Env_1     16.046875  14.926959  13.574307  535.634711  \n",
       "Env_10    31.810984  11.625704   9.839269  559.526111  \n",
       "Env_100   30.413609  12.877466  12.410814  614.102577  \n",
       "Env_1000   2.447805  11.374718  10.219944  674.104452  \n",
       "Env_1001   5.729262  11.039508  10.119774  629.404388  "
      ]
     },
     "execution_count": 4,
     "metadata": {},
     "output_type": "execute_result"
    }
   ],
   "source": [
    "weather_data_grouped_mean = weather_data.groupby(by='ENV_ID').mean()\n",
    "weather_data_grouped_std = weather_data.groupby(by='ENV_ID').std()\n",
    "weather_data_grouped_mean.head()\n",
    "weather_data_grouped_std.head()\n",
    "weather_data_grouped = weather_data_grouped_mean.join(weather_data_grouped_std,\n",
    "                                                      lsuffix='_AVG',\n",
    "                                                     rsuffix='_STD')\n",
    "weather_data_grouped = weather_data_grouped.drop('DAY_NUM_AVG',axis=1)\n",
    "weather_data_grouped.head()"
   ]
  },
  {
   "cell_type": "markdown",
   "metadata": {},
   "source": [
    "## Joining performance and weather data"
   ]
  },
  {
   "cell_type": "code",
   "execution_count": 399,
   "metadata": {},
   "outputs": [],
   "source": [
    "joined_df = performance_data.join(weather_data_grouped,on='ENV_ID')\n",
    "joined_df.head()\n",
    "joined_df.columns\n",
    "\n",
    "heat_stress_df = joined_df[['HYBRID_ID','ENV_ID','YIELD','ENV_YIELD_MEAN','ENV_YIELD_STD','TMAX_AVG','TMAX_STD',\n",
    "                            'TMIN_AVG','TMIN_STD','DAYL_AVG','DAYL_STD',\n",
    "                           'SRAD_AVG','SRAD_STD']]\n",
    "drought_stress_df = joined_df[['HYBRID_ID','ENV_ID','YIELD','ENV_YIELD_MEAN','ENV_YIELD_STD','IRRIGATION','PREC_AVG','PREC_STD','KSAT',\n",
    "                              'SWE_AVG','SWE_STD','VP_AVG','VP_STD','AWC']]\n",
    "\n",
    "trainheat_df=heat_stress_df.loc[:10000]\n",
    "testheat_df=heat_stress_df.loc[10000:]\n",
    "testheat_df=testheat_df[['HYBRID_ID','ENV_ID','YIELD','ENV_YIELD_MEAN','TMAX_AVG', 'TMAX_STD', 'TMIN_AVG', 'TMIN_STD', 'DAYL_AVG', 'DAYL_STD',\n",
    "       'SRAD_AVG', 'SRAD_STD']]\n"
   ]
  },
  {
   "cell_type": "code",
   "execution_count": null,
   "metadata": {},
   "outputs": [],
   "source": []
  },
  {
   "cell_type": "markdown",
   "metadata": {},
   "source": [
    "## First Linear Regression Test"
   ]
  },
  {
   "cell_type": "code",
   "execution_count": 400,
   "metadata": {},
   "outputs": [
    {
     "name": "stdout",
     "output_type": "stream",
     "text": [
      "                  Results: Ordinary least squares\n",
      "===================================================================\n",
      "Model:              OLS              Adj. R-squared:     0.990     \n",
      "Dependent Variable: ENV_YIELD_MEAN   AIC:                75882.0763\n",
      "Date:               2018-11-28 20:00 BIC:                75939.7598\n",
      "No. Observations:   10001            Log-Likelihood:     -37933.   \n",
      "Df Model:           8                F-statistic:        1.193e+05 \n",
      "Df Residuals:       9993             Prob (F-statistic): 0.00      \n",
      "R-squared:          0.990            Scale:              115.44    \n",
      "---------------------------------------------------------------------\n",
      "            Coef.    Std.Err.      t       P>|t|     [0.025    0.975]\n",
      "---------------------------------------------------------------------\n",
      "TMAX_AVG   -0.7617     0.2642    -2.8826   0.0040   -1.2796   -0.2437\n",
      "TMAX_STD    4.8163     0.4639    10.3825   0.0000    3.9070    5.7256\n",
      "TMIN_AVG   11.2381     0.3121    36.0131   0.0000   10.6264   11.8498\n",
      "TMIN_STD    2.7699     0.3543     7.8171   0.0000    2.0753    3.4644\n",
      "DAYL_AVG   -0.0052     0.0003   -15.9764   0.0000   -0.0059   -0.0046\n",
      "DAYL_STD    0.0108     0.0009    12.4148   0.0000    0.0091    0.0125\n",
      "SRAD_AVG    0.5191     0.0290    17.8774   0.0000    0.4622    0.5760\n",
      "SRAD_STD   -0.1018     0.0227    -4.4844   0.0000   -0.1463   -0.0573\n",
      "-------------------------------------------------------------------\n",
      "Omnibus:              39.722        Durbin-Watson:           0.027 \n",
      "Prob(Omnibus):        0.000         Jarque-Bera (JB):        33.178\n",
      "Skew:                 -0.076        Prob(JB):                0.000 \n",
      "Kurtosis:             2.763         Condition No.:           227524\n",
      "===================================================================\n",
      "* The condition number is large (2e+05). This might indicate\n",
      "strong multicollinearity or other numerical problems.\n",
      "                  0\n",
      "TMAX_AVG  -0.761657\n",
      "TMAX_STD   4.816258\n",
      "TMIN_AVG  11.238103\n",
      "TMIN_STD   2.769863\n",
      "DAYL_AVG  -0.005235\n",
      "DAYL_STD   0.010827\n",
      "SRAD_AVG   0.519102\n",
      "SRAD_STD  -0.101780\n"
     ]
    },
    {
     "data": {
      "text/plain": [
       "Index(['TMAX_AVG', 'TMAX_STD', 'TMIN_AVG', 'TMIN_STD', 'DAYL_AVG', 'DAYL_STD',\n",
       "       'SRAD_AVG', 'SRAD_STD'],\n",
       "      dtype='object')"
      ]
     },
     "execution_count": 400,
     "metadata": {},
     "output_type": "execute_result"
    }
   ],
   "source": [
    "import statsmodels.api as sm\n",
    "\n",
    "# heat_stress_df.columns\n",
    "features_=['TMAX_AVG','TMAX_STD','TMIN_AVG','TMIN_STD','DAYL_AVG','DAYL_STD','SRAD_AVG','SRAD_STD']\n",
    "X = trainheat_df[features_]\n",
    "y = trainheat_df[\"ENV_YIELD_MEAN\"]\n",
    "\n",
    "# Note the difference in argument order\n",
    "model = sm.OLS(y, X).fit()\n",
    "predictions = model.predict(X) # make the predictions by the model\n",
    "\n",
    "# Print out the statistics\n",
    "# model.summary()\n",
    "\n",
    "# print(model.params)\n",
    "print(model.summary2())\n",
    "coeff_df=pd.DataFrame(model.params)\n",
    "print(coeff_df)\n",
    "tc=coeff_df.transpose()\n",
    "tc.columns\n",
    "# tc=pd.concat([tc]*len(testheat_df.index))\n",
    "\n",
    "# model.HC1_se"
   ]
  },
  {
   "cell_type": "code",
   "execution_count": 401,
   "metadata": {},
   "outputs": [],
   "source": [
    "# print(tc)\n",
    "# print(testheat_df)\n",
    "# print ('value',tc['TMAX_AVG'])\n",
    "\n",
    "coeff_=tc['TMAX_AVG']\n",
    "testheat_df['TMAX_AVG']=testheat_df['TMAX_AVG'].apply (lambda x: coeff_ * x )\n",
    "coeff_=tc['TMAX_STD']\n",
    "testheat_df['TMAX_STD']=testheat_df['TMAX_STD'].apply (lambda x: coeff_ * x )\n",
    "coeff_=tc['TMIN_AVG']\n",
    "testheat_df['TMIN_AVG']=testheat_df['TMIN_AVG'].apply (lambda x: coeff_ * x )\n",
    "coeff_=tc['TMIN_STD']\n",
    "testheat_df['TMIN_STD']=testheat_df['TMIN_STD'].apply (lambda x: coeff_ * x )\n",
    "coeff_=tc['DAYL_AVG']\n",
    "testheat_df['DAYL_AVG']=testheat_df['DAYL_AVG'].apply (lambda x: coeff_ * x )\n",
    "coeff_=tc['DAYL_STD']\n",
    "testheat_df['DAYL_STD']=testheat_df['DAYL_STD'].apply (lambda x: coeff_ * x )\n",
    "coeff_=tc['SRAD_AVG']\n",
    "testheat_df['SRAD_AVG']=testheat_df['SRAD_AVG'].apply (lambda x: coeff_ * x )\n",
    "coeff_=tc['SRAD_STD']\n",
    "testheat_df['SRAD_STD']=testheat_df['SRAD_STD'].apply (lambda x: coeff_ * x )\n"
   ]
  },
  {
   "cell_type": "code",
   "execution_count": 406,
   "metadata": {},
   "outputs": [
    {
     "name": "stdout",
     "output_type": "stream",
     "text": [
      "sqmeanerror YIELDREG    24.743205\n",
      "dtype: float64\n",
      "sqstderror YIELDREG    42.383336\n",
      "dtype: float64\n"
     ]
    }
   ],
   "source": [
    "\n",
    "testheatreg_df=testheat_df[['TMAX_AVG', 'TMAX_STD', 'TMIN_AVG', 'TMIN_STD', 'DAYL_AVG', 'DAYL_STD',\n",
    "       'SRAD_AVG', 'SRAD_STD']]\n",
    "real_=testheat_df[\"ENV_YIELD_MEAN\"]\n",
    "regress_=[]\n",
    "regress_=list(testheatreg_df.sum(1))\n",
    "regress_=pd.DataFrame(regress_, columns=['YIELDREG'])\n",
    "real_=pd.DataFrame(list(real_), columns=['YIELDREG'])\n",
    "# print(regress_)\n",
    "# print(real_)\n",
    "error_=(real_-regress_)**2\n",
    "# print(error_)\n",
    "print('sqmeanerror',error_.mean()**0.5)\n",
    "print('sqstderror',error_.std()**0.5)\n"
   ]
  },
  {
   "cell_type": "markdown",
   "metadata": {},
   "source": [
    "#### Grouping by Env to create new Linear Regression by Enviroment instead of Crop"
   ]
  },
  {
   "cell_type": "code",
   "execution_count": 413,
   "metadata": {},
   "outputs": [],
   "source": [
    "heat_stress_env = joined_df[['ENV_ID','ENV_YIELD_MEAN','ENV_YIELD_STD','TMAX_AVG','TMAX_STD',\n",
    "                            'TMIN_AVG','TMIN_STD','DAYL_AVG','DAYL_STD',\n",
    "                           'SRAD_AVG','SRAD_STD']]\n",
    "drought_stress_env = joined_df[['ENV_ID','ENV_YIELD_MEAN','ENV_YIELD_STD','IRRIGATION','PREC_AVG','PREC_STD','KSAT',\n",
    "                              'SWE_AVG','SWE_STD','VP_AVG','VP_STD','AWC']]\n",
    "\n"
   ]
  },
  {
   "cell_type": "code",
   "execution_count": 436,
   "metadata": {},
   "outputs": [
    {
     "name": "stdout",
     "output_type": "stream",
     "text": [
      "HeatStressLen> RangeIndex(start=0, stop=1560, step=1)\n",
      "DroughtStressLen> RangeIndex(start=0, stop=1560, step=1)\n"
     ]
    }
   ],
   "source": [
    "#Converting dataframes to create linear regressions based only on enviroments\n",
    "\n",
    "heat_stress_env=heat_stress_env.drop_duplicates(subset=None, keep='first', inplace=False)\n",
    "heat_stress_env=heat_stress_env.reset_index(level=0, drop=True)\n",
    "# print(heat_stress_env)\n",
    "print('HeatStressLen>',heat_stress_env.index)\n",
    "\n",
    "drought_stress_env=drought_stress_env.drop_duplicates(subset=None, keep='first', inplace=False)\n",
    "drought_stress_env=drought_stress_env.reset_index(level=0, drop=True)\n",
    "# print(heat_stress_env)\n",
    "print('DroughtStressLen>',drought_stress_env.index)"
   ]
  },
  {
   "cell_type": "markdown",
   "metadata": {},
   "source": [
    "# HEAT LR"
   ]
  },
  {
   "cell_type": "code",
   "execution_count": 496,
   "metadata": {},
   "outputs": [
    {
     "name": "stdout",
     "output_type": "stream",
     "text": [
      "                 Results: Ordinary least squares\n",
      "==================================================================\n",
      "Model:              OLS              Adj. R-squared:     0.982    \n",
      "Dependent Variable: ENV_YIELD_MEAN   AIC:                3308.6060\n",
      "Date:               2018-11-30 10:47 BIC:                3340.5577\n",
      "No. Observations:   401              Log-Likelihood:     -1646.3  \n",
      "Df Model:           8                F-statistic:        2762.    \n",
      "Df Residuals:       393              Prob (F-statistic): 0.00     \n",
      "R-squared:          0.983            Scale:              219.92   \n",
      "--------------------------------------------------------------------\n",
      "            Coef.    Std.Err.      t      P>|t|     [0.025    0.975]\n",
      "--------------------------------------------------------------------\n",
      "TMAX_AVG   -0.8813     1.4884   -0.5921   0.5541   -3.8076    2.0450\n",
      "TMAX_STD    4.6596     2.5594    1.8206   0.0694   -0.3722    9.6914\n",
      "TMIN_AVG    8.3948     2.0279    4.1396   0.0000    4.4079   12.3817\n",
      "TMIN_STD    2.1579     2.1022    1.0265   0.3053   -1.9750    6.2908\n",
      "DAYL_AVG   -0.0009     0.0020   -0.4418   0.6589   -0.0049    0.0031\n",
      "DAYL_STD    0.0024     0.0055    0.4350   0.6638   -0.0083    0.0131\n",
      "SRAD_AVG    0.2635     0.1833    1.4373   0.1514   -0.0969    0.6239\n",
      "SRAD_STD   -0.2924     0.1278   -2.2880   0.0227   -0.5436   -0.0411\n",
      "------------------------------------------------------------------\n",
      "Omnibus:               15.186       Durbin-Watson:          1.653 \n",
      "Prob(Omnibus):         0.001        Jarque-Bera (JB):       20.368\n",
      "Skew:                  -0.329       Prob(JB):               0.000 \n",
      "Kurtosis:              3.886        Condition No.:          192400\n",
      "==================================================================\n",
      "* The condition number is large (2e+05). This might indicate\n",
      "strong multicollinearity or other numerical problems.\n",
      "                 0\n",
      "TMAX_AVG -0.881291\n",
      "TMAX_STD  4.659585\n",
      "TMIN_AVG  8.394805\n",
      "TMIN_STD  2.157875\n",
      "DAYL_AVG -0.000900\n",
      "DAYL_STD  0.002371\n",
      "SRAD_AVG  0.263501\n",
      "SRAD_STD -0.292368\n"
     ]
    },
    {
     "data": {
      "text/plain": [
       "Index(['TMAX_AVG', 'TMAX_STD', 'TMIN_AVG', 'TMIN_STD', 'DAYL_AVG', 'DAYL_STD',\n",
       "       'SRAD_AVG', 'SRAD_STD'],\n",
       "      dtype='object')"
      ]
     },
     "execution_count": 496,
     "metadata": {},
     "output_type": "execute_result"
    }
   ],
   "source": [
    "trainheat_env=heat_stress_env.loc[:400]\n",
    "testheat_env=heat_stress_env.loc[401:]\n",
    "testheat_env=testheat_env[['ENV_ID','ENV_YIELD_MEAN','TMAX_AVG', 'TMAX_STD', 'TMIN_AVG', 'TMIN_STD', 'DAYL_AVG', 'DAYL_STD',\n",
    "       'SRAD_AVG', 'SRAD_STD']]\n",
    "\n",
    "features_=['TMAX_AVG','TMAX_STD','TMIN_AVG','TMIN_STD','DAYL_AVG','DAYL_STD','SRAD_AVG','SRAD_STD']\n",
    "X = trainheat_env[features_]\n",
    "y = trainheat_env[\"ENV_YIELD_MEAN\"]\n",
    "\n",
    "# Note the difference in argument order\n",
    "model = sm.OLS(y, X).fit()\n",
    "predictions = model.predict(X) # make the predictions by the model\n",
    "\n",
    "# Print out the statistics\n",
    "print(model.summary2())\n",
    "\n",
    "coeff_df=pd.DataFrame(model.params)\n",
    "print(coeff_df)\n",
    "tc=coeff_df.transpose()\n",
    "tc.columns\n"
   ]
  },
  {
   "cell_type": "code",
   "execution_count": 497,
   "metadata": {},
   "outputs": [
    {
     "name": "stdout",
     "output_type": "stream",
     "text": [
      "sqmeanerror YIELDREG    37.84038\n",
      "dtype: float64\n",
      "sqstderror YIELDREG    56.95416\n",
      "dtype: float64\n"
     ]
    }
   ],
   "source": [
    "#Test coefficients with test data\n",
    "\n",
    "coeff_=tc['TMAX_AVG']\n",
    "testheat_env['TMAX_AVG']=testheat_env['TMAX_AVG'].apply (lambda x: coeff_ * x )\n",
    "coeff_=tc['TMAX_STD']\n",
    "testheat_env['TMAX_STD']=testheat_env['TMAX_STD'].apply (lambda x: coeff_ * x )\n",
    "coeff_=tc['TMIN_AVG']\n",
    "testheat_env['TMIN_AVG']=testheat_env['TMIN_AVG'].apply (lambda x: coeff_ * x )\n",
    "coeff_=tc['TMIN_STD']\n",
    "testheat_env['TMIN_STD']=testheat_env['TMIN_STD'].apply (lambda x: coeff_ * x )\n",
    "coeff_=tc['DAYL_AVG']\n",
    "testheat_env['DAYL_AVG']=testheat_env['DAYL_AVG'].apply (lambda x: coeff_ * x )\n",
    "coeff_=tc['DAYL_STD']\n",
    "testheat_env['DAYL_STD']=testheat_env['DAYL_STD'].apply (lambda x: coeff_ * x )\n",
    "coeff_=tc['SRAD_AVG']\n",
    "testheat_env['SRAD_AVG']=testheat_env['SRAD_AVG'].apply (lambda x: coeff_ * x )\n",
    "coeff_=tc['SRAD_STD']\n",
    "testheat_env['SRAD_STD']=testheat_env['SRAD_STD'].apply (lambda x: coeff_ * x )\n",
    "\n",
    "testheatreg_env=testheat_env[['TMAX_AVG', 'TMAX_STD', 'TMIN_AVG', 'TMIN_STD', 'DAYL_AVG', 'DAYL_STD',\n",
    "       'SRAD_AVG', 'SRAD_STD']]\n",
    "real_=testheat_env[\"ENV_YIELD_MEAN\"]\n",
    "regress_=[]\n",
    "regress_=list(testheatreg_env.sum(1))\n",
    "regress_=pd.DataFrame(regress_, columns=['YIELDREG'])\n",
    "real_=pd.DataFrame(list(real_), columns=['YIELDREG'])\n",
    "# print(regress_)\n",
    "# print(real_)\n",
    "error_=(real_-regress_)**2\n",
    "# print(error_)\n",
    "print('sqmeanerror',error_.mean()**0.5)\n",
    "print('sqstderror',error_.std()**0.5)\n"
   ]
  },
  {
   "cell_type": "code",
   "execution_count": null,
   "metadata": {},
   "outputs": [],
   "source": []
  },
  {
   "cell_type": "code",
   "execution_count": 515,
   "metadata": {},
   "outputs": [
    {
     "name": "stdout",
     "output_type": "stream",
     "text": [
      "                 Results: Ordinary least squares\n",
      "==================================================================\n",
      "Model:              OLS              Adj. R-squared:     0.982    \n",
      "Dependent Variable: ENV_YIELD_MEAN   AIC:                3304.8131\n",
      "Date:               2018-11-30 11:40 BIC:                3328.7769\n",
      "No. Observations:   401              Log-Likelihood:     -1646.4  \n",
      "Df Model:           6                F-statistic:        3700.    \n",
      "Df Residuals:       395              Prob (F-statistic): 0.00     \n",
      "R-squared:          0.983            Scale:              218.92   \n",
      "--------------------------------------------------------------------\n",
      "            Coef.    Std.Err.      t      P>|t|     [0.025    0.975]\n",
      "--------------------------------------------------------------------\n",
      "TMAX_AVG   -0.4855     1.1132   -0.4362   0.6630   -2.6741    1.7030\n",
      "TMAX_STD    5.0057     2.1721    2.3045   0.0217    0.7354    9.2760\n",
      "TMIN_AVG    7.6073     1.0241    7.4281   0.0000    5.5939    9.6207\n",
      "TMIN_STD    1.8440     1.9743    0.9340   0.3509   -2.0374    5.7255\n",
      "SRAD_AVG    0.1882     0.0748    2.5180   0.0122    0.0413    0.3352\n",
      "SRAD_STD   -0.2973     0.0900   -3.3030   0.0010   -0.4742   -0.1203\n",
      "------------------------------------------------------------------\n",
      "Omnibus:               14.728       Durbin-Watson:          1.653 \n",
      "Prob(Omnibus):         0.001        Jarque-Bera (JB):       19.415\n",
      "Skew:                  -0.327       Prob(JB):               0.000 \n",
      "Kurtosis:              3.857        Condition No.:          1296  \n",
      "==================================================================\n",
      "* The condition number is large (1e+03). This might indicate\n",
      "strong multicollinearity or other numerical problems.\n",
      "                 0\n",
      "TMAX_AVG -0.485546\n",
      "TMAX_STD  5.005680\n",
      "TMIN_AVG  7.607290\n",
      "TMIN_STD  1.844040\n",
      "SRAD_AVG  0.188223\n",
      "SRAD_STD -0.297270\n"
     ]
    },
    {
     "data": {
      "text/plain": [
       "Index(['TMAX_AVG', 'TMAX_STD', 'TMIN_AVG', 'TMIN_STD', 'SRAD_AVG', 'SRAD_STD'], dtype='object')"
      ]
     },
     "execution_count": 515,
     "metadata": {},
     "output_type": "execute_result"
    }
   ],
   "source": [
    "#Taking Out DAYL as P Value is too large\n",
    "trainheat_env=heat_stress_env.loc[:400]\n",
    "testheat_env=heat_stress_env.loc[401:]\n",
    "testheat_env=testheat_env[['ENV_ID','ENV_YIELD_MEAN','TMAX_AVG', 'TMAX_STD', 'TMIN_AVG', 'TMIN_STD', 'DAYL_AVG', 'DAYL_STD',\n",
    "       'SRAD_AVG', 'SRAD_STD']]\n",
    "\n",
    "features_=['TMAX_AVG','TMAX_STD','TMIN_AVG','TMIN_STD','SRAD_AVG','SRAD_STD']\n",
    "X = trainheat_env[features_]\n",
    "y = trainheat_env[\"ENV_YIELD_MEAN\"]\n",
    "\n",
    "# Note the difference in argument order\n",
    "model = sm.OLS(y, X).fit()\n",
    "predictions = model.predict(X) # make the predictions by the model\n",
    "\n",
    "# Print out the statistics\n",
    "print(model.summary2())\n",
    "\n",
    "coeff_df=pd.DataFrame(model.params)\n",
    "print(coeff_df)\n",
    "tc=coeff_df.transpose()\n",
    "tc.columns\n"
   ]
  },
  {
   "cell_type": "code",
   "execution_count": 516,
   "metadata": {},
   "outputs": [
    {
     "name": "stdout",
     "output_type": "stream",
     "text": [
      "sqmeanerror YIELDREG    37.799961\n",
      "dtype: float64\n",
      "sqstderror YIELDREG    56.677163\n",
      "dtype: float64\n"
     ]
    }
   ],
   "source": [
    "#Test coefficients with test data\n",
    "\n",
    "coeff_=tc['TMAX_AVG']\n",
    "testheat_env['TMAX_AVG']=testheat_env['TMAX_AVG'].apply (lambda x: coeff_ * x )\n",
    "coeff_=tc['TMAX_STD']\n",
    "testheat_env['TMAX_STD']=testheat_env['TMAX_STD'].apply (lambda x: coeff_ * x )\n",
    "coeff_=tc['TMIN_AVG']\n",
    "testheat_env['TMIN_AVG']=testheat_env['TMIN_AVG'].apply (lambda x: coeff_ * x )\n",
    "coeff_=tc['TMIN_STD']\n",
    "testheat_env['TMIN_STD']=testheat_env['TMIN_STD'].apply (lambda x: coeff_ * x )\n",
    "coeff_=tc['SRAD_AVG']\n",
    "testheat_env['SRAD_AVG']=testheat_env['SRAD_AVG'].apply (lambda x: coeff_ * x )\n",
    "coeff_=tc['SRAD_STD']\n",
    "testheat_env['SRAD_STD']=testheat_env['SRAD_STD'].apply (lambda x: coeff_ * x )\n",
    "\n",
    "\n",
    "testheatreg_env=testheat_env[['TMAX_AVG', 'TMAX_STD', 'TMIN_AVG', 'TMIN_STD',\n",
    "       'SRAD_AVG', 'SRAD_STD']]\n",
    "real_=testheat_env[\"ENV_YIELD_MEAN\"]\n",
    "regress_=[]\n",
    "regress_=list(testheatreg_env.sum(1))\n",
    "regress_=pd.DataFrame(regress_, columns=['YIELDREG'])\n",
    "real_=pd.DataFrame(list(real_), columns=['YIELDREG'])\n",
    "# print(regress_)\n",
    "# print(real_)\n",
    "error_=(real_-regress_)**2\n",
    "# print(error_)\n",
    "print('sqmeanerror',error_.mean()**0.5)\n",
    "print('sqstderror',error_.std()**0.5)"
   ]
  },
  {
   "cell_type": "code",
   "execution_count": null,
   "metadata": {},
   "outputs": [],
   "source": [
    "\n"
   ]
  },
  {
   "cell_type": "code",
   "execution_count": 534,
   "metadata": {},
   "outputs": [
    {
     "name": "stdout",
     "output_type": "stream",
     "text": [
      "                 Results: Ordinary least squares\n",
      "==================================================================\n",
      "Model:              OLS              Adj. R-squared:     0.982    \n",
      "Dependent Variable: ENV_YIELD_MEAN   AIC:                3311.7646\n",
      "Date:               2018-11-30 12:07 BIC:                3327.7404\n",
      "No. Observations:   401              Log-Likelihood:     -1651.9  \n",
      "Df Model:           4                F-statistic:        5425.    \n",
      "Df Residuals:       397              Prob (F-statistic): 0.00     \n",
      "R-squared:          0.982            Scale:              223.85   \n",
      "--------------------------------------------------------------------\n",
      "              Coef.    Std.Err.     t      P>|t|     [0.025   0.975]\n",
      "--------------------------------------------------------------------\n",
      "TMAX_AVG      2.1037     0.5767   3.6478   0.0003    0.9699   3.2374\n",
      "TMAX_STD      2.1553     1.9356   1.1135   0.2662   -1.6500   5.9606\n",
      "TMIN_AVG      5.7322     0.8525   6.7239   0.0000    4.0562   7.4082\n",
      "TMIN_STD      4.1380     1.8688   2.2142   0.0274    0.4639   7.8120\n",
      "------------------------------------------------------------------\n",
      "Omnibus:               17.571       Durbin-Watson:          1.633 \n",
      "Prob(Omnibus):         0.000        Jarque-Bera (JB):       23.614\n",
      "Skew:                  -0.373       Prob(JB):               0.000 \n",
      "Kurtosis:              3.926        Condition No.:          76    \n",
      "==================================================================\n",
      "\n",
      "                 0\n",
      "TMAX_AVG  2.103662\n",
      "TMAX_STD  2.155283\n",
      "TMIN_AVG  5.732214\n",
      "TMIN_STD  4.137954\n"
     ]
    },
    {
     "data": {
      "text/plain": [
       "Index(['TMAX_AVG', 'TMAX_STD', 'TMIN_AVG', 'TMIN_STD'], dtype='object')"
      ]
     },
     "execution_count": 534,
     "metadata": {},
     "output_type": "execute_result"
    }
   ],
   "source": [
    "#Taking Out SRAD due to multicolinearity and no improvement in previous iteration\n",
    "trainheat_env=heat_stress_env.loc[:400]\n",
    "testheat_env=heat_stress_env.loc[401:]\n",
    "testheat_env=testheat_env[['ENV_ID','ENV_YIELD_MEAN','TMAX_AVG', 'TMAX_STD', 'TMIN_AVG', 'TMIN_STD', 'DAYL_AVG', 'DAYL_STD',\n",
    "       'SRAD_AVG', 'SRAD_STD']]\n",
    "\n",
    "\n",
    "\n",
    "features_=['TMAX_AVG','TMAX_STD','TMIN_AVG','TMIN_STD']\n",
    "X = trainheat_env[features_]\n",
    "y = trainheat_env[\"ENV_YIELD_MEAN\"]\n",
    "\n",
    "# Note the difference in argument order\n",
    "model = sm.OLS(y, X).fit()\n",
    "predictions = model.predict(X) # make the predictions by the model\n",
    "\n",
    "# Print out the statistics\n",
    "print(model.summary2())\n",
    "\n",
    "coeff_df=pd.DataFrame(model.params)\n",
    "print(coeff_df)\n",
    "tc=coeff_df.transpose()\n",
    "tc.columns\n"
   ]
  },
  {
   "cell_type": "code",
   "execution_count": 535,
   "metadata": {},
   "outputs": [
    {
     "name": "stdout",
     "output_type": "stream",
     "text": [
      "sqmeanerror YIELDREG    37.473368\n",
      "dtype: float64\n",
      "sqstderror YIELDREG    56.642275\n",
      "dtype: float64\n"
     ]
    }
   ],
   "source": [
    "#Test coefficients with test data\n",
    "\n",
    "coeff_=tc['TMAX_AVG']\n",
    "testheat_env['TMAX_AVG']=testheat_env['TMAX_AVG'].apply (lambda x: coeff_ * x )\n",
    "coeff_=tc['TMAX_STD']\n",
    "testheat_env['TMAX_STD']=testheat_env['TMAX_STD'].apply (lambda x: coeff_ * x )\n",
    "coeff_=tc['TMIN_AVG']\n",
    "testheat_env['TMIN_AVG']=testheat_env['TMIN_AVG'].apply (lambda x: coeff_ * x )\n",
    "coeff_=tc['TMIN_STD']\n",
    "testheat_env['TMIN_STD']=testheat_env['TMIN_STD'].apply (lambda x: coeff_ * x )\n",
    "\n",
    "testheatreg_env=testheat_env[['TMAX_AVG', 'TMAX_STD', 'TMIN_AVG', 'TMIN_STD']]\n",
    "real_=testheat_env[\"ENV_YIELD_MEAN\"]\n",
    "regress_=[]\n",
    "regress_=list(testheatreg_env.sum(1))\n",
    "regress_=pd.DataFrame(regress_, columns=['YIELDREG'])\n",
    "real_=pd.DataFrame(list(real_), columns=['YIELDREG'])\n",
    "# print(regress_)\n",
    "# print(real_)\n",
    "error_=(real_-regress_)**2\n",
    "# print(error_)\n",
    "print('sqmeanerror',error_.mean()**0.5)\n",
    "print('sqstderror',error_.std()**0.5)\n",
    "\n"
   ]
  },
  {
   "cell_type": "code",
   "execution_count": 521,
   "metadata": {},
   "outputs": [
    {
     "data": {
      "text/html": [
       "<div>\n",
       "<style scoped>\n",
       "    .dataframe tbody tr th:only-of-type {\n",
       "        vertical-align: middle;\n",
       "    }\n",
       "\n",
       "    .dataframe tbody tr th {\n",
       "        vertical-align: top;\n",
       "    }\n",
       "\n",
       "    .dataframe thead th {\n",
       "        text-align: right;\n",
       "    }\n",
       "</style>\n",
       "<table border=\"1\" class=\"dataframe\">\n",
       "  <thead>\n",
       "    <tr style=\"text-align: right;\">\n",
       "      <th></th>\n",
       "      <th>TMAX_AVG</th>\n",
       "      <th>TMAX_STD</th>\n",
       "      <th>TMIN_AVG</th>\n",
       "      <th>TMIN_STD</th>\n",
       "    </tr>\n",
       "  </thead>\n",
       "  <tbody>\n",
       "    <tr>\n",
       "      <th>0</th>\n",
       "      <td>2.103662</td>\n",
       "      <td>2.155283</td>\n",
       "      <td>5.732214</td>\n",
       "      <td>4.137954</td>\n",
       "    </tr>\n",
       "  </tbody>\n",
       "</table>\n",
       "</div>"
      ],
      "text/plain": [
       "   TMAX_AVG  TMAX_STD  TMIN_AVG  TMIN_STD\n",
       "0  2.103662  2.155283  5.732214  4.137954"
      ]
     },
     "execution_count": 521,
     "metadata": {},
     "output_type": "execute_result"
    }
   ],
   "source": [
    "heat_coeff=tc\n",
    "heat_coeff"
   ]
  },
  {
   "cell_type": "markdown",
   "metadata": {},
   "source": [
    "# DROUGHT LR"
   ]
  },
  {
   "cell_type": "code",
   "execution_count": 504,
   "metadata": {},
   "outputs": [
    {
     "name": "stdout",
     "output_type": "stream",
     "text": [
      "                 Results: Ordinary least squares\n",
      "==================================================================\n",
      "Model:              OLS              Adj. R-squared:     0.981    \n",
      "Dependent Variable: ENV_YIELD_MEAN   AIC:                3334.7336\n",
      "Date:               2018-11-30 11:03 BIC:                3366.6853\n",
      "No. Observations:   401              Log-Likelihood:     -1659.4  \n",
      "Df Model:           8                F-statistic:        2585.    \n",
      "Df Residuals:       393              Prob (F-statistic): 0.00     \n",
      "R-squared:          0.981            Scale:              234.73   \n",
      "--------------------------------------------------------------------\n",
      "            Coef.    Std.Err.      t      P>|t|     [0.025    0.975]\n",
      "--------------------------------------------------------------------\n",
      "PREC_AVG   -4.7865     3.0649   -1.5617   0.1192   -10.8121   1.2391\n",
      "PREC_STD    4.4281     1.0583    4.1843   0.0000     2.3476   6.5087\n",
      "KSAT        3.0154     0.4163    7.2433   0.0000     2.1969   3.8338\n",
      "SWE_AVG    -0.6899     0.3668   -1.8806   0.0608    -1.4111   0.0313\n",
      "SWE_STD     0.3461     0.2939    1.1777   0.2396    -0.2317   0.9240\n",
      "VP_AVG      0.0735     0.0165    4.4437   0.0000     0.0410   0.1061\n",
      "VP_STD     -0.0377     0.0201   -1.8738   0.0617    -0.0773   0.0019\n",
      "AWC         2.0996     0.3539    5.9322   0.0000     1.4038   2.7954\n",
      "------------------------------------------------------------------\n",
      "Omnibus:              6.192         Durbin-Watson:           1.528\n",
      "Prob(Omnibus):        0.045         Jarque-Bera (JB):        8.694\n",
      "Skew:                 -0.068        Prob(JB):                0.013\n",
      "Kurtosis:             3.708         Condition No.:           4313 \n",
      "==================================================================\n",
      "* The condition number is large (4e+03). This might indicate\n",
      "strong multicollinearity or other numerical problems.\n",
      "                 0\n",
      "PREC_AVG -4.786521\n",
      "PREC_STD  4.428105\n",
      "KSAT      3.015390\n",
      "SWE_AVG  -0.689880\n",
      "SWE_STD   0.346130\n",
      "VP_AVG    0.073524\n",
      "VP_STD   -0.037736\n",
      "AWC       2.099606\n"
     ]
    },
    {
     "data": {
      "text/plain": [
       "Index(['PREC_AVG', 'PREC_STD', 'KSAT', 'SWE_AVG', 'SWE_STD', 'VP_AVG',\n",
       "       'VP_STD', 'AWC'],\n",
       "      dtype='object')"
      ]
     },
     "execution_count": 504,
     "metadata": {},
     "output_type": "execute_result"
    }
   ],
   "source": [
    "#DROUGHT\n",
    "\n",
    "traindr_env=drought_stress_env.loc[:400]\n",
    "testdr_env=drought_stress_env.loc[401:]\n",
    "testdr_env=testdr_env[['ENV_ID','ENV_YIELD_MEAN','PREC_AVG','PREC_STD','KSAT',\n",
    "                              'SWE_AVG','SWE_STD','VP_AVG','VP_STD','AWC']]\n",
    "\n",
    "\n",
    "features_=['PREC_AVG','PREC_STD','KSAT',\n",
    "                              'SWE_AVG','SWE_STD','VP_AVG','VP_STD','AWC']\n",
    "X = traindr_env[features_]\n",
    "y = traindr_env[\"ENV_YIELD_MEAN\"]\n",
    "\n",
    "# Note the difference in argument order\n",
    "model = sm.OLS(y, X).fit()\n",
    "predictions = model.predict(X) # make the predictions by the model\n",
    "\n",
    "# Print out the statistics\n",
    "print(model.summary2())\n",
    "\n",
    "coeff_df=pd.DataFrame(model.params)\n",
    "print(coeff_df)\n",
    "tc=coeff_df.transpose()\n",
    "tc.columns\n"
   ]
  },
  {
   "cell_type": "code",
   "execution_count": 505,
   "metadata": {},
   "outputs": [
    {
     "name": "stdout",
     "output_type": "stream",
     "text": [
      "                 Results: Ordinary least squares\n",
      "==================================================================\n",
      "Model:              OLS              Adj. R-squared:     0.981    \n",
      "Dependent Variable: ENV_YIELD_MEAN   AIC:                3342.2176\n",
      "Date:               2018-11-30 11:15 BIC:                3366.1814\n",
      "No. Observations:   401              Log-Likelihood:     -1665.1  \n",
      "Df Model:           6                F-statistic:        3364.    \n",
      "Df Residuals:       395              Prob (F-statistic): 0.00     \n",
      "R-squared:          0.981            Scale:              240.32   \n",
      "-------------------------------------------------------------------\n",
      "              Coef.    Std.Err.     t     P>|t|    [0.025    0.975]\n",
      "-------------------------------------------------------------------\n",
      "PREC_AVG     -12.1006    1.8652  -6.4875  0.0000  -15.7676  -8.4336\n",
      "PREC_STD       5.8866    0.9426   6.2449  0.0000    4.0334   7.7398\n",
      "KSAT           2.8337    0.4177   6.7839  0.0000    2.0125   3.6549\n",
      "VP_AVG         0.1073    0.0133   8.0929  0.0000    0.0813   0.1334\n",
      "VP_STD        -0.0620    0.0190  -3.2595  0.0012   -0.0994  -0.0246\n",
      "AWC            1.7699    0.3390   5.2205  0.0000    1.1034   2.4364\n",
      "------------------------------------------------------------------\n",
      "Omnibus:               7.874        Durbin-Watson:          1.536 \n",
      "Prob(Omnibus):         0.020        Jarque-Bera (JB):       11.069\n",
      "Skew:                  -0.139       Prob(JB):               0.004 \n",
      "Kurtosis:              3.765        Condition No.:          2638  \n",
      "==================================================================\n",
      "* The condition number is large (3e+03). This might indicate\n",
      "strong multicollinearity or other numerical problems.\n",
      "                  0\n",
      "PREC_AVG -12.100589\n",
      "PREC_STD   5.886576\n",
      "KSAT       2.833665\n",
      "VP_AVG     0.107337\n",
      "VP_STD    -0.062023\n",
      "AWC        1.769904\n"
     ]
    },
    {
     "data": {
      "text/plain": [
       "Index(['PREC_AVG', 'PREC_STD', 'KSAT', 'VP_AVG', 'VP_STD', 'AWC'], dtype='object')"
      ]
     },
     "execution_count": 505,
     "metadata": {},
     "output_type": "execute_result"
    }
   ],
   "source": [
    "traindr_env=drought_stress_env.loc[:400]\n",
    "testdr_env=drought_stress_env.loc[401:]\n",
    "testdr_env=testdr_env[['ENV_ID','ENV_YIELD_MEAN','PREC_AVG','PREC_STD','KSAT',\n",
    "                              'SWE_AVG','SWE_STD','VP_AVG','VP_STD','AWC']]\n",
    "\n",
    "#REMOVING SWE due to p value and low coeff\n",
    "\n",
    "features_=['PREC_AVG','PREC_STD','KSAT','VP_AVG','VP_STD','AWC']\n",
    "X = traindr_env[features_]\n",
    "y = traindr_env[\"ENV_YIELD_MEAN\"]\n",
    "\n",
    "# Note the difference in argument order\n",
    "model = sm.OLS(y, X).fit()\n",
    "predictions = model.predict(X) # make the predictions by the model\n",
    "\n",
    "# Print out the statistics\n",
    "print(model.summary2())\n",
    "\n",
    "coeff_df=pd.DataFrame(model.params)\n",
    "print(coeff_df)\n",
    "tc=coeff_df.transpose()\n",
    "tc.columns\n"
   ]
  },
  {
   "cell_type": "code",
   "execution_count": 506,
   "metadata": {},
   "outputs": [
    {
     "name": "stdout",
     "output_type": "stream",
     "text": [
      "sqmeanerror YIELDREG    38.425607\n",
      "dtype: float64\n",
      "sqstderror YIELDREG    62.835857\n",
      "dtype: float64\n"
     ]
    }
   ],
   "source": [
    "#Test coefficients with test data\n",
    "\n",
    "\n",
    "'PREC_AVG','PREC_STD','KSAT','VP_AVG','VP_STD','AWC'\n",
    "\n",
    "coeff_=tc['PREC_AVG']\n",
    "testdr_env['PREC_AVG']=testdr_env['PREC_AVG'].apply (lambda x: coeff_ * x )\n",
    "coeff_=tc['PREC_STD']\n",
    "testdr_env['PREC_STD']=testdr_env['PREC_STD'].apply (lambda x: coeff_ * x )\n",
    "coeff_=tc['KSAT']\n",
    "testdr_env['KSAT']=testdr_env['KSAT'].apply (lambda x: coeff_ * x )\n",
    "coeff_=tc['VP_AVG']\n",
    "testdr_env['VP_AVG']=testdr_env['VP_AVG'].apply (lambda x: coeff_ * x )\n",
    "coeff_=tc['VP_STD']\n",
    "testdr_env['VP_STD']=testdr_env['VP_STD'].apply (lambda x: coeff_ * x )\n",
    "coeff_=tc['AWC']\n",
    "testdr_env['AWC']=testdr_env['AWC'].apply (lambda x: coeff_ * x )\n",
    "\n",
    "\n",
    "testdrreg_env=testdr_env[['PREC_AVG','PREC_STD','KSAT','VP_AVG','VP_STD','AWC']]\n",
    "real_=testdr_env[\"ENV_YIELD_MEAN\"]\n",
    "regress_=[]\n",
    "regress_=list(testdrreg_env.sum(1))\n",
    "regress_=pd.DataFrame(regress_, columns=['YIELDREG'])\n",
    "real_=pd.DataFrame(list(real_), columns=['YIELDREG'])\n",
    "# print(regress_)\n",
    "# print(real_)\n",
    "error_=(real_-regress_)**2\n",
    "# print(error_)\n",
    "print('sqmeanerror',error_.mean()**0.5)\n",
    "print('sqstderror',error_.std()**0.5)\n"
   ]
  },
  {
   "cell_type": "code",
   "execution_count": 522,
   "metadata": {},
   "outputs": [
    {
     "name": "stdout",
     "output_type": "stream",
     "text": [
      "                 Results: Ordinary least squares\n",
      "==================================================================\n",
      "Model:              OLS              Adj. R-squared:     0.977    \n",
      "Dependent Variable: ENV_YIELD_MEAN   AIC:                3403.6910\n",
      "Date:               2018-11-30 11:46 BIC:                3419.6668\n",
      "No. Observations:   401              Log-Likelihood:     -1697.8  \n",
      "Df Model:           4                F-statistic:        4293.    \n",
      "Df Residuals:       397              Prob (F-statistic): 0.00     \n",
      "R-squared:          0.977            Scale:              281.52   \n",
      "--------------------------------------------------------------------\n",
      "            Coef.    Std.Err.      t      P>|t|     [0.025    0.975]\n",
      "--------------------------------------------------------------------\n",
      "PREC_AVG   -3.4617     1.4986   -2.3099   0.0214   -6.4079   -0.5155\n",
      "PREC_STD    5.7836     0.8061    7.1748   0.0000    4.1989    7.3684\n",
      "KSAT        3.5621     0.4047    8.8025   0.0000    2.7665    4.3576\n",
      "AWC         3.1812     0.1914   16.6218   0.0000    2.8049    3.5574\n",
      "------------------------------------------------------------------\n",
      "Omnibus:               7.354        Durbin-Watson:          1.374 \n",
      "Prob(Omnibus):         0.025        Jarque-Bera (JB):       10.583\n",
      "Skew:                  -0.107       Prob(JB):               0.005 \n",
      "Kurtosis:              3.767        Condition No.:          45    \n",
      "==================================================================\n",
      "\n",
      "                 0\n",
      "PREC_AVG -3.461698\n",
      "PREC_STD  5.783615\n",
      "KSAT      3.562070\n",
      "AWC       3.181174\n"
     ]
    },
    {
     "data": {
      "text/plain": [
       "Index(['PREC_AVG', 'PREC_STD', 'KSAT', 'AWC'], dtype='object')"
      ]
     },
     "execution_count": 522,
     "metadata": {},
     "output_type": "execute_result"
    }
   ],
   "source": [
    "traindr_env=drought_stress_env.loc[:400]\n",
    "testdr_env=drought_stress_env.loc[401:]\n",
    "testdr_env=testdr_env[['ENV_ID','ENV_YIELD_MEAN','PREC_AVG','PREC_STD','KSAT',\n",
    "                              'SWE_AVG','SWE_STD','VP_AVG','VP_STD','AWC']]\n",
    "\n",
    "#REMOVING VP due to low coeff\n",
    "\n",
    "features_=['PREC_AVG','PREC_STD','KSAT','AWC']\n",
    "X = traindr_env[features_]\n",
    "y = traindr_env[\"ENV_YIELD_MEAN\"]\n",
    "\n",
    "# Note the difference in argument order\n",
    "model = sm.OLS(y, X).fit()\n",
    "predictions = model.predict(X) # make the predictions by the model\n",
    "\n",
    "# Print out the statistics\n",
    "print(model.summary2())\n",
    "\n",
    "coeff_df=pd.DataFrame(model.params)\n",
    "print(coeff_df)\n",
    "tc=coeff_df.transpose()\n",
    "tc.columns"
   ]
  },
  {
   "cell_type": "code",
   "execution_count": 523,
   "metadata": {},
   "outputs": [
    {
     "name": "stdout",
     "output_type": "stream",
     "text": [
      "sqmeanerror YIELDREG    26.160086\n",
      "dtype: float64\n",
      "sqstderror YIELDREG    33.444837\n",
      "dtype: float64\n"
     ]
    }
   ],
   "source": [
    "#Test coefficients with test data\n",
    "\n",
    "\n",
    "# 'PREC_AVG','PREC_STD','KSAT','VP_AVG','VP_STD','AWC'\n",
    "\n",
    "coeff_=tc['PREC_AVG']\n",
    "testdr_env['PREC_AVG']=testdr_env['PREC_AVG'].apply (lambda x: coeff_ * x )\n",
    "coeff_=tc['PREC_STD']\n",
    "testdr_env['PREC_STD']=testdr_env['PREC_STD'].apply (lambda x: coeff_ * x )\n",
    "coeff_=tc['KSAT']\n",
    "testdr_env['KSAT']=testdr_env['KSAT'].apply (lambda x: coeff_ * x )\n",
    "\n",
    "\n",
    "coeff_=tc['AWC']\n",
    "testdr_env['AWC']=testdr_env['AWC'].apply (lambda x: coeff_ * x )\n",
    "\n",
    "\n",
    "testdrreg_env=testdr_env[['PREC_AVG','PREC_STD','KSAT','AWC']]\n",
    "real_=testdr_env[\"ENV_YIELD_MEAN\"]\n",
    "regress_=[]\n",
    "regress_=list(testdrreg_env.sum(1))\n",
    "regress_=pd.DataFrame(regress_, columns=['YIELDREG'])\n",
    "real_=pd.DataFrame(list(real_), columns=['YIELDREG'])\n",
    "# print(regress_)\n",
    "# print(real_)\n",
    "error_=(real_-regress_)**2\n",
    "# print(error_)\n",
    "print('sqmeanerror',error_.mean()**0.5)\n",
    "print('sqstderror',error_.std()**0.5)\n"
   ]
  },
  {
   "cell_type": "code",
   "execution_count": 524,
   "metadata": {},
   "outputs": [
    {
     "data": {
      "text/html": [
       "<div>\n",
       "<style scoped>\n",
       "    .dataframe tbody tr th:only-of-type {\n",
       "        vertical-align: middle;\n",
       "    }\n",
       "\n",
       "    .dataframe tbody tr th {\n",
       "        vertical-align: top;\n",
       "    }\n",
       "\n",
       "    .dataframe thead th {\n",
       "        text-align: right;\n",
       "    }\n",
       "</style>\n",
       "<table border=\"1\" class=\"dataframe\">\n",
       "  <thead>\n",
       "    <tr style=\"text-align: right;\">\n",
       "      <th></th>\n",
       "      <th>PREC_AVG</th>\n",
       "      <th>PREC_STD</th>\n",
       "      <th>KSAT</th>\n",
       "      <th>AWC</th>\n",
       "    </tr>\n",
       "  </thead>\n",
       "  <tbody>\n",
       "    <tr>\n",
       "      <th>0</th>\n",
       "      <td>-3.461698</td>\n",
       "      <td>5.783615</td>\n",
       "      <td>3.56207</td>\n",
       "      <td>3.181174</td>\n",
       "    </tr>\n",
       "  </tbody>\n",
       "</table>\n",
       "</div>"
      ],
      "text/plain": [
       "   PREC_AVG  PREC_STD     KSAT       AWC\n",
       "0 -3.461698  5.783615  3.56207  3.181174"
      ]
     },
     "execution_count": 524,
     "metadata": {},
     "output_type": "execute_result"
    }
   ],
   "source": [
    "drought_coeff=tc\n",
    "drought_coeff"
   ]
  }
 ],
 "metadata": {
  "kernelspec": {
   "display_name": "Python 3",
   "language": "python",
   "name": "python3"
  },
  "language_info": {
   "codemirror_mode": {
    "name": "ipython",
    "version": 3
   },
   "file_extension": ".py",
   "mimetype": "text/x-python",
   "name": "python",
   "nbconvert_exporter": "python",
   "pygments_lexer": "ipython3",
   "version": "3.6.5"
  }
 },
 "nbformat": 4,
 "nbformat_minor": 2
}
