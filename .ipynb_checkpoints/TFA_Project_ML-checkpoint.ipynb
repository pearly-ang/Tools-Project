{
 "cells": [
  {
   "cell_type": "markdown",
   "metadata": {},
   "source": [
    "# ML trials"
   ]
  },
  {
   "cell_type": "code",
   "execution_count": 119,
   "metadata": {},
   "outputs": [],
   "source": [
    "import pandas as pd\n",
    "import numpy as np\n",
    "\n",
    "performance_data = pd.read_csv('performance_data.csv')\n",
    "submission_template = pd.read_csv('submission_template.csv')\n",
    "weather_data = pd.read_csv('weather_data.csv')"
   ]
  },
  {
   "cell_type": "code",
   "execution_count": 61,
   "metadata": {},
   "outputs": [
    {
     "data": {
      "text/plain": [
       "Index(['HYBRID_ID', 'ENV_ID', 'HYBRID_MG', 'ENV_MG', 'YIELD', 'YEAR', 'LAT',\n",
       "       'LONG', 'PLANT_DATE', 'HARVEST_DATE', 'IRRIGATION', 'ENV_YIELD_MEAN',\n",
       "       'ENV_YIELD_STD', 'ELEVATION', 'CLAY', 'SILT', 'SAND', 'AWC', 'PH', 'OM',\n",
       "       'CEC', 'KSAT'],\n",
       "      dtype='object')"
      ]
     },
     "execution_count": 61,
     "metadata": {},
     "output_type": "execute_result"
    }
   ],
   "source": [
    "performance_data.columns"
   ]
  },
  {
   "cell_type": "code",
   "execution_count": 62,
   "metadata": {},
   "outputs": [
    {
     "data": {
      "text/html": [
       "<div>\n",
       "<style scoped>\n",
       "    .dataframe tbody tr th:only-of-type {\n",
       "        vertical-align: middle;\n",
       "    }\n",
       "\n",
       "    .dataframe tbody tr th {\n",
       "        vertical-align: top;\n",
       "    }\n",
       "\n",
       "    .dataframe thead th {\n",
       "        text-align: right;\n",
       "    }\n",
       "</style>\n",
       "<table border=\"1\" class=\"dataframe\">\n",
       "  <thead>\n",
       "    <tr style=\"text-align: right;\">\n",
       "      <th></th>\n",
       "      <th>ENV_ID</th>\n",
       "      <th>DAY_NUM</th>\n",
       "      <th>DAYL</th>\n",
       "      <th>PREC</th>\n",
       "      <th>SRAD</th>\n",
       "      <th>SWE</th>\n",
       "      <th>TMAX</th>\n",
       "      <th>TMIN</th>\n",
       "      <th>VP</th>\n",
       "    </tr>\n",
       "  </thead>\n",
       "  <tbody>\n",
       "    <tr>\n",
       "      <th>0</th>\n",
       "      <td>Env_1</td>\n",
       "      <td>1</td>\n",
       "      <td>29030.400391</td>\n",
       "      <td>0</td>\n",
       "      <td>92.800003</td>\n",
       "      <td>24</td>\n",
       "      <td>-14.5</td>\n",
       "      <td>-21.0</td>\n",
       "      <td>120</td>\n",
       "    </tr>\n",
       "    <tr>\n",
       "      <th>1</th>\n",
       "      <td>Env_1</td>\n",
       "      <td>2</td>\n",
       "      <td>29030.400391</td>\n",
       "      <td>0</td>\n",
       "      <td>166.399994</td>\n",
       "      <td>24</td>\n",
       "      <td>-7.0</td>\n",
       "      <td>-26.0</td>\n",
       "      <td>80</td>\n",
       "    </tr>\n",
       "    <tr>\n",
       "      <th>2</th>\n",
       "      <td>Env_1</td>\n",
       "      <td>3</td>\n",
       "      <td>29030.400391</td>\n",
       "      <td>0</td>\n",
       "      <td>144.000000</td>\n",
       "      <td>24</td>\n",
       "      <td>0.0</td>\n",
       "      <td>-12.5</td>\n",
       "      <td>240</td>\n",
       "    </tr>\n",
       "    <tr>\n",
       "      <th>3</th>\n",
       "      <td>Env_1</td>\n",
       "      <td>4</td>\n",
       "      <td>29030.400391</td>\n",
       "      <td>0</td>\n",
       "      <td>112.000000</td>\n",
       "      <td>24</td>\n",
       "      <td>-3.5</td>\n",
       "      <td>-11.5</td>\n",
       "      <td>240</td>\n",
       "    </tr>\n",
       "    <tr>\n",
       "      <th>4</th>\n",
       "      <td>Env_1</td>\n",
       "      <td>5</td>\n",
       "      <td>29030.400391</td>\n",
       "      <td>1</td>\n",
       "      <td>153.600006</td>\n",
       "      <td>24</td>\n",
       "      <td>2.5</td>\n",
       "      <td>-11.5</td>\n",
       "      <td>240</td>\n",
       "    </tr>\n",
       "  </tbody>\n",
       "</table>\n",
       "</div>"
      ],
      "text/plain": [
       "  ENV_ID  DAY_NUM          DAYL  PREC        SRAD  SWE  TMAX  TMIN   VP\n",
       "0  Env_1        1  29030.400391     0   92.800003   24 -14.5 -21.0  120\n",
       "1  Env_1        2  29030.400391     0  166.399994   24  -7.0 -26.0   80\n",
       "2  Env_1        3  29030.400391     0  144.000000   24   0.0 -12.5  240\n",
       "3  Env_1        4  29030.400391     0  112.000000   24  -3.5 -11.5  240\n",
       "4  Env_1        5  29030.400391     1  153.600006   24   2.5 -11.5  240"
      ]
     },
     "execution_count": 62,
     "metadata": {},
     "output_type": "execute_result"
    }
   ],
   "source": [
    "weather_data.head()"
   ]
  },
  {
   "cell_type": "markdown",
   "metadata": {},
   "source": [
    "## Transforming weather data into useful metrics"
   ]
  },
  {
   "cell_type": "code",
   "execution_count": 63,
   "metadata": {},
   "outputs": [
    {
     "data": {
      "text/html": [
       "<div>\n",
       "<style scoped>\n",
       "    .dataframe tbody tr th:only-of-type {\n",
       "        vertical-align: middle;\n",
       "    }\n",
       "\n",
       "    .dataframe tbody tr th {\n",
       "        vertical-align: top;\n",
       "    }\n",
       "\n",
       "    .dataframe thead th {\n",
       "        text-align: right;\n",
       "    }\n",
       "</style>\n",
       "<table border=\"1\" class=\"dataframe\">\n",
       "  <thead>\n",
       "    <tr style=\"text-align: right;\">\n",
       "      <th></th>\n",
       "      <th>DAYL_AVG</th>\n",
       "      <th>PREC_AVG</th>\n",
       "      <th>SRAD_AVG</th>\n",
       "      <th>SWE_AVG</th>\n",
       "      <th>TMAX_AVG</th>\n",
       "      <th>TMIN_AVG</th>\n",
       "      <th>VP_AVG</th>\n",
       "      <th>DAY_NUM_STD</th>\n",
       "      <th>DAYL_STD</th>\n",
       "      <th>PREC_STD</th>\n",
       "      <th>SRAD_STD</th>\n",
       "      <th>SWE_STD</th>\n",
       "      <th>TMAX_STD</th>\n",
       "      <th>TMIN_STD</th>\n",
       "      <th>VP_STD</th>\n",
       "    </tr>\n",
       "    <tr>\n",
       "      <th>ENV_ID</th>\n",
       "      <th></th>\n",
       "      <th></th>\n",
       "      <th></th>\n",
       "      <th></th>\n",
       "      <th></th>\n",
       "      <th></th>\n",
       "      <th></th>\n",
       "      <th></th>\n",
       "      <th></th>\n",
       "      <th></th>\n",
       "      <th></th>\n",
       "      <th></th>\n",
       "      <th></th>\n",
       "      <th></th>\n",
       "      <th></th>\n",
       "    </tr>\n",
       "  </thead>\n",
       "  <tbody>\n",
       "    <tr>\n",
       "      <th>Env_1</th>\n",
       "      <td>43200.000043</td>\n",
       "      <td>1.684932</td>\n",
       "      <td>276.111781</td>\n",
       "      <td>11.167123</td>\n",
       "      <td>8.093151</td>\n",
       "      <td>-3.256164</td>\n",
       "      <td>630.356164</td>\n",
       "      <td>105.510663</td>\n",
       "      <td>10075.200862</td>\n",
       "      <td>4.544882</td>\n",
       "      <td>131.085275</td>\n",
       "      <td>16.046875</td>\n",
       "      <td>14.926959</td>\n",
       "      <td>13.574307</td>\n",
       "      <td>535.634711</td>\n",
       "    </tr>\n",
       "    <tr>\n",
       "      <th>Env_10</th>\n",
       "      <td>43200.946768</td>\n",
       "      <td>3.079452</td>\n",
       "      <td>294.978630</td>\n",
       "      <td>19.868493</td>\n",
       "      <td>12.095890</td>\n",
       "      <td>2.241096</td>\n",
       "      <td>874.191781</td>\n",
       "      <td>105.510663</td>\n",
       "      <td>8183.382184</td>\n",
       "      <td>5.974924</td>\n",
       "      <td>134.977729</td>\n",
       "      <td>31.810984</td>\n",
       "      <td>11.625704</td>\n",
       "      <td>9.839269</td>\n",
       "      <td>559.526111</td>\n",
       "    </tr>\n",
       "    <tr>\n",
       "      <th>Env_100</th>\n",
       "      <td>43200.000070</td>\n",
       "      <td>2.901370</td>\n",
       "      <td>296.714521</td>\n",
       "      <td>20.679452</td>\n",
       "      <td>12.616438</td>\n",
       "      <td>0.632877</td>\n",
       "      <td>820.054795</td>\n",
       "      <td>105.510663</td>\n",
       "      <td>8795.413435</td>\n",
       "      <td>7.152662</td>\n",
       "      <td>119.593751</td>\n",
       "      <td>30.413609</td>\n",
       "      <td>12.877466</td>\n",
       "      <td>12.410814</td>\n",
       "      <td>614.102577</td>\n",
       "    </tr>\n",
       "    <tr>\n",
       "      <th>Env_1000</th>\n",
       "      <td>43200.946854</td>\n",
       "      <td>2.000000</td>\n",
       "      <td>352.368219</td>\n",
       "      <td>0.997260</td>\n",
       "      <td>18.323288</td>\n",
       "      <td>2.883562</td>\n",
       "      <td>824.876712</td>\n",
       "      <td>105.510663</td>\n",
       "      <td>6955.702533</td>\n",
       "      <td>6.970897</td>\n",
       "      <td>111.010912</td>\n",
       "      <td>2.447805</td>\n",
       "      <td>11.374718</td>\n",
       "      <td>10.219944</td>\n",
       "      <td>674.104452</td>\n",
       "    </tr>\n",
       "    <tr>\n",
       "      <th>Env_1001</th>\n",
       "      <td>43200.946854</td>\n",
       "      <td>2.561644</td>\n",
       "      <td>341.681097</td>\n",
       "      <td>2.443836</td>\n",
       "      <td>17.701370</td>\n",
       "      <td>2.924658</td>\n",
       "      <td>862.246575</td>\n",
       "      <td>105.510663</td>\n",
       "      <td>6955.702533</td>\n",
       "      <td>8.697269</td>\n",
       "      <td>112.386846</td>\n",
       "      <td>5.729262</td>\n",
       "      <td>11.039508</td>\n",
       "      <td>10.119774</td>\n",
       "      <td>629.404388</td>\n",
       "    </tr>\n",
       "  </tbody>\n",
       "</table>\n",
       "</div>"
      ],
      "text/plain": [
       "              DAYL_AVG  PREC_AVG    SRAD_AVG    SWE_AVG   TMAX_AVG  TMIN_AVG  \\\n",
       "ENV_ID                                                                         \n",
       "Env_1     43200.000043  1.684932  276.111781  11.167123   8.093151 -3.256164   \n",
       "Env_10    43200.946768  3.079452  294.978630  19.868493  12.095890  2.241096   \n",
       "Env_100   43200.000070  2.901370  296.714521  20.679452  12.616438  0.632877   \n",
       "Env_1000  43200.946854  2.000000  352.368219   0.997260  18.323288  2.883562   \n",
       "Env_1001  43200.946854  2.561644  341.681097   2.443836  17.701370  2.924658   \n",
       "\n",
       "              VP_AVG  DAY_NUM_STD      DAYL_STD  PREC_STD    SRAD_STD  \\\n",
       "ENV_ID                                                                  \n",
       "Env_1     630.356164   105.510663  10075.200862  4.544882  131.085275   \n",
       "Env_10    874.191781   105.510663   8183.382184  5.974924  134.977729   \n",
       "Env_100   820.054795   105.510663   8795.413435  7.152662  119.593751   \n",
       "Env_1000  824.876712   105.510663   6955.702533  6.970897  111.010912   \n",
       "Env_1001  862.246575   105.510663   6955.702533  8.697269  112.386846   \n",
       "\n",
       "            SWE_STD   TMAX_STD   TMIN_STD      VP_STD  \n",
       "ENV_ID                                                 \n",
       "Env_1     16.046875  14.926959  13.574307  535.634711  \n",
       "Env_10    31.810984  11.625704   9.839269  559.526111  \n",
       "Env_100   30.413609  12.877466  12.410814  614.102577  \n",
       "Env_1000   2.447805  11.374718  10.219944  674.104452  \n",
       "Env_1001   5.729262  11.039508  10.119774  629.404388  "
      ]
     },
     "execution_count": 63,
     "metadata": {},
     "output_type": "execute_result"
    }
   ],
   "source": [
    "weather_data_grouped_mean = weather_data.groupby(by='ENV_ID').mean()\n",
    "weather_data_grouped_std = weather_data.groupby(by='ENV_ID').std()\n",
    "weather_data_grouped_mean.head()\n",
    "weather_data_grouped_std.head()\n",
    "weather_data_grouped = weather_data_grouped_mean.join(weather_data_grouped_std,\n",
    "                                                      lsuffix='_AVG',\n",
    "                                                     rsuffix='_STD')\n",
    "weather_data_grouped = weather_data_grouped.drop('DAY_NUM_AVG',axis=1)\n",
    "weather_data_grouped.head()"
   ]
  },
  {
   "cell_type": "markdown",
   "metadata": {},
   "source": [
    "## Joining performance and weather data"
   ]
  },
  {
   "cell_type": "code",
   "execution_count": 68,
   "metadata": {},
   "outputs": [
    {
     "data": {
      "text/html": [
       "<div>\n",
       "<style scoped>\n",
       "    .dataframe tbody tr th:only-of-type {\n",
       "        vertical-align: middle;\n",
       "    }\n",
       "\n",
       "    .dataframe tbody tr th {\n",
       "        vertical-align: top;\n",
       "    }\n",
       "\n",
       "    .dataframe thead th {\n",
       "        text-align: right;\n",
       "    }\n",
       "</style>\n",
       "<table border=\"1\" class=\"dataframe\">\n",
       "  <thead>\n",
       "    <tr style=\"text-align: right;\">\n",
       "      <th></th>\n",
       "      <th>HYBRID_ID</th>\n",
       "      <th>ENV_ID</th>\n",
       "      <th>YIELD</th>\n",
       "      <th>TMAX_AVG</th>\n",
       "      <th>TMAX_STD</th>\n",
       "      <th>TMIN_AVG</th>\n",
       "      <th>TMIN_STD</th>\n",
       "      <th>DAYL_AVG</th>\n",
       "      <th>DAYL_STD</th>\n",
       "      <th>SRAD_AVG</th>\n",
       "      <th>SRAD_STD</th>\n",
       "    </tr>\n",
       "  </thead>\n",
       "  <tbody>\n",
       "    <tr>\n",
       "      <th>0</th>\n",
       "      <td>H2782</td>\n",
       "      <td>Env_1</td>\n",
       "      <td>107.9577</td>\n",
       "      <td>8.093151</td>\n",
       "      <td>14.926959</td>\n",
       "      <td>-3.256164</td>\n",
       "      <td>13.574307</td>\n",
       "      <td>43200.000043</td>\n",
       "      <td>10075.200862</td>\n",
       "      <td>276.111781</td>\n",
       "      <td>131.085275</td>\n",
       "    </tr>\n",
       "    <tr>\n",
       "      <th>1</th>\n",
       "      <td>H2782</td>\n",
       "      <td>Env_2</td>\n",
       "      <td>85.7498</td>\n",
       "      <td>8.178082</td>\n",
       "      <td>14.860702</td>\n",
       "      <td>-3.290411</td>\n",
       "      <td>13.446089</td>\n",
       "      <td>43200.000054</td>\n",
       "      <td>10001.326165</td>\n",
       "      <td>278.706849</td>\n",
       "      <td>130.288514</td>\n",
       "    </tr>\n",
       "    <tr>\n",
       "      <th>2</th>\n",
       "      <td>H2240</td>\n",
       "      <td>Env_3</td>\n",
       "      <td>74.6116</td>\n",
       "      <td>9.805479</td>\n",
       "      <td>14.311170</td>\n",
       "      <td>-1.224658</td>\n",
       "      <td>12.901740</td>\n",
       "      <td>43200.000054</td>\n",
       "      <td>10001.326165</td>\n",
       "      <td>274.112876</td>\n",
       "      <td>122.067104</td>\n",
       "    </tr>\n",
       "    <tr>\n",
       "      <th>3</th>\n",
       "      <td>H1527</td>\n",
       "      <td>Env_3</td>\n",
       "      <td>83.8191</td>\n",
       "      <td>9.805479</td>\n",
       "      <td>14.311170</td>\n",
       "      <td>-1.224658</td>\n",
       "      <td>12.901740</td>\n",
       "      <td>43200.000054</td>\n",
       "      <td>10001.326165</td>\n",
       "      <td>274.112876</td>\n",
       "      <td>122.067104</td>\n",
       "    </tr>\n",
       "    <tr>\n",
       "      <th>4</th>\n",
       "      <td>H1369</td>\n",
       "      <td>Env_3</td>\n",
       "      <td>81.7917</td>\n",
       "      <td>9.805479</td>\n",
       "      <td>14.311170</td>\n",
       "      <td>-1.224658</td>\n",
       "      <td>12.901740</td>\n",
       "      <td>43200.000054</td>\n",
       "      <td>10001.326165</td>\n",
       "      <td>274.112876</td>\n",
       "      <td>122.067104</td>\n",
       "    </tr>\n",
       "  </tbody>\n",
       "</table>\n",
       "</div>"
      ],
      "text/plain": [
       "  HYBRID_ID ENV_ID     YIELD  TMAX_AVG   TMAX_STD  TMIN_AVG   TMIN_STD  \\\n",
       "0     H2782  Env_1  107.9577  8.093151  14.926959 -3.256164  13.574307   \n",
       "1     H2782  Env_2   85.7498  8.178082  14.860702 -3.290411  13.446089   \n",
       "2     H2240  Env_3   74.6116  9.805479  14.311170 -1.224658  12.901740   \n",
       "3     H1527  Env_3   83.8191  9.805479  14.311170 -1.224658  12.901740   \n",
       "4     H1369  Env_3   81.7917  9.805479  14.311170 -1.224658  12.901740   \n",
       "\n",
       "       DAYL_AVG      DAYL_STD    SRAD_AVG    SRAD_STD  \n",
       "0  43200.000043  10075.200862  276.111781  131.085275  \n",
       "1  43200.000054  10001.326165  278.706849  130.288514  \n",
       "2  43200.000054  10001.326165  274.112876  122.067104  \n",
       "3  43200.000054  10001.326165  274.112876  122.067104  \n",
       "4  43200.000054  10001.326165  274.112876  122.067104  "
      ]
     },
     "execution_count": 68,
     "metadata": {},
     "output_type": "execute_result"
    }
   ],
   "source": [
    "joined_df = performance_data.join(weather_data_grouped,on='ENV_ID')\n",
    "joined_df.head()\n",
    "joined_df.columns\n",
    "\n",
    "heat_stress_df = joined_df[['HYBRID_ID','ENV_ID', 'YIELD', 'TMAX_AVG','TMAX_STD',\n",
    "                            'TMIN_AVG','TMIN_STD','DAYL_AVG','DAYL_STD',\n",
    "                           'SRAD_AVG','SRAD_STD']]\n",
    "drought_stress_df = joined_df[['HYBRID_ID','ENV_ID','YIELD','PREC_AVG','PREC_STD','KSAT', #removed 'IRRIGATION\n",
    "                              'SWE_AVG','SWE_STD','VP_AVG','VP_STD','AWC']]\n",
    "#drought_stress_df['IRRIGATION'].unique()\n",
    "heat_stress_df.head()"
   ]
  },
  {
   "cell_type": "markdown",
   "metadata": {},
   "source": [
    "## Decision Tree Regressor\n",
    "#### Heat stress\n",
    "#### Drought stress"
   ]
  },
  {
   "cell_type": "code",
   "execution_count": 107,
   "metadata": {},
   "outputs": [
    {
     "name": "stdout",
     "output_type": "stream",
     "text": [
      "Training R-Square(Heat Stress): 0.6088\n",
      "Testing R-Square(Heat Stress): 0.6054\n"
     ]
    }
   ],
   "source": [
    "from sklearn.model_selection import train_test_split\n",
    "from sklearn.tree import DecisionTreeRegressor\n",
    "from sklearn import tree\n",
    "\n",
    "#heat stress\n",
    "train_h, test_h = train_test_split(heat_stress_df, test_size = 0.2)\n",
    "x_train_h = train_h.iloc[:, 3:]\n",
    "y_train_h = train_h['YIELD']\n",
    "x_test_h = test_h.iloc[:, 3:]\n",
    "y_test_h = test_h['YIELD']\n",
    "\n",
    "#model\n",
    "model_h = tree.DecisionTreeRegressor(max_depth=20)\n",
    "model_h.fit(x_train_h,y_train_h)\n",
    "\n",
    "#model quality\n",
    "print(f\"Training R-Square(Heat Stress): {model_h.score(x_train_h,y_train_h):.4}\")\n",
    "print(f\"Testing R-Square(Heat Stress): {model_h.score(x_test_h,y_test_h):.4}\")"
   ]
  },
  {
   "cell_type": "code",
   "execution_count": 109,
   "metadata": {},
   "outputs": [
    {
     "name": "stdout",
     "output_type": "stream",
     "text": [
      "Training R-Square(Drought Stress): 0.6225\n",
      "Testing R-Square(Drought Stress): 0.615\n"
     ]
    }
   ],
   "source": [
    "#drought stress\n",
    "train_d, test_d = train_test_split(drought_stress_df, test_size = 0.2)\n",
    "x_train_d = train_d.iloc[:, 3:]\n",
    "y_train_d = train_d['YIELD']\n",
    "x_test_d = test_d.iloc[:, 3:]\n",
    "y_test_d = test_d['YIELD']\n",
    "\n",
    "#model\n",
    "model_d = tree.DecisionTreeRegressor(max_depth=20)\n",
    "model_d.fit(x_train_d,y_train_d)\n",
    "\n",
    "#model quality\n",
    "print(f\"Training R-Square(Drought Stress): {model_d.score(x_train_d,y_train_d):.4}\")\n",
    "print(f\"Testing R-Square(Drought Stress): {model_d.score(x_test_d,y_test_d):.4}\")"
   ]
  },
  {
   "cell_type": "code",
   "execution_count": 121,
   "metadata": {},
   "outputs": [
    {
     "ename": "ValueError",
     "evalue": "could not convert string to float: 'RID_ID'",
     "output_type": "error",
     "traceback": [
      "\u001b[0;31m---------------------------------------------------------------------------\u001b[0m",
      "\u001b[0;31mValueError\u001b[0m                                Traceback (most recent call last)",
      "\u001b[0;32m<ipython-input-121-9c8048036f99>\u001b[0m in \u001b[0;36m<module>\u001b[0;34m()\u001b[0m\n\u001b[1;32m      1\u001b[0m \u001b[0mq\u001b[0m\u001b[0;34m=\u001b[0m\u001b[0;36m0\u001b[0m\u001b[0;34m\u001b[0m\u001b[0m\n\u001b[1;32m      2\u001b[0m \u001b[0;32mfor\u001b[0m \u001b[0mi\u001b[0m \u001b[0;32min\u001b[0m \u001b[0mheat_stress_df\u001b[0m\u001b[0;34m:\u001b[0m\u001b[0;34m\u001b[0m\u001b[0m\n\u001b[0;32m----> 3\u001b[0;31m     \u001b[0mheat_stress_df\u001b[0m\u001b[0;34m.\u001b[0m\u001b[0mloc\u001b[0m\u001b[0;34m[\u001b[0m\u001b[0mq\u001b[0m\u001b[0;34m,\u001b[0m\u001b[0;34m'heat_pred'\u001b[0m\u001b[0;34m]\u001b[0m \u001b[0;34m=\u001b[0m \u001b[0mmodel_h\u001b[0m\u001b[0;34m.\u001b[0m\u001b[0mpredict\u001b[0m\u001b[0;34m(\u001b[0m\u001b[0mnp\u001b[0m\u001b[0;34m.\u001b[0m\u001b[0marray\u001b[0m\u001b[0;34m(\u001b[0m\u001b[0mi\u001b[0m\u001b[0;34m[\u001b[0m\u001b[0;36m3\u001b[0m\u001b[0;34m:\u001b[0m\u001b[0;34m]\u001b[0m\u001b[0;34m)\u001b[0m\u001b[0;34m)\u001b[0m\u001b[0;34m\u001b[0m\u001b[0m\n\u001b[0m\u001b[1;32m      4\u001b[0m \u001b[0;31m#heat_stress_df.iloc[:, 3:].apply(lambda x: model_h.predict(x))\u001b[0m\u001b[0;34m\u001b[0m\u001b[0;34m\u001b[0m\u001b[0m\n",
      "\u001b[0;32m/anaconda3/lib/python3.6/site-packages/sklearn/tree/tree.py\u001b[0m in \u001b[0;36mpredict\u001b[0;34m(self, X, check_input)\u001b[0m\n\u001b[1;32m    410\u001b[0m         \"\"\"\n\u001b[1;32m    411\u001b[0m         \u001b[0mcheck_is_fitted\u001b[0m\u001b[0;34m(\u001b[0m\u001b[0mself\u001b[0m\u001b[0;34m,\u001b[0m \u001b[0;34m'tree_'\u001b[0m\u001b[0;34m)\u001b[0m\u001b[0;34m\u001b[0m\u001b[0m\n\u001b[0;32m--> 412\u001b[0;31m         \u001b[0mX\u001b[0m \u001b[0;34m=\u001b[0m \u001b[0mself\u001b[0m\u001b[0;34m.\u001b[0m\u001b[0m_validate_X_predict\u001b[0m\u001b[0;34m(\u001b[0m\u001b[0mX\u001b[0m\u001b[0;34m,\u001b[0m \u001b[0mcheck_input\u001b[0m\u001b[0;34m)\u001b[0m\u001b[0;34m\u001b[0m\u001b[0m\n\u001b[0m\u001b[1;32m    413\u001b[0m         \u001b[0mproba\u001b[0m \u001b[0;34m=\u001b[0m \u001b[0mself\u001b[0m\u001b[0;34m.\u001b[0m\u001b[0mtree_\u001b[0m\u001b[0;34m.\u001b[0m\u001b[0mpredict\u001b[0m\u001b[0;34m(\u001b[0m\u001b[0mX\u001b[0m\u001b[0;34m)\u001b[0m\u001b[0;34m\u001b[0m\u001b[0m\n\u001b[1;32m    414\u001b[0m         \u001b[0mn_samples\u001b[0m \u001b[0;34m=\u001b[0m \u001b[0mX\u001b[0m\u001b[0;34m.\u001b[0m\u001b[0mshape\u001b[0m\u001b[0;34m[\u001b[0m\u001b[0;36m0\u001b[0m\u001b[0;34m]\u001b[0m\u001b[0;34m\u001b[0m\u001b[0m\n",
      "\u001b[0;32m/anaconda3/lib/python3.6/site-packages/sklearn/tree/tree.py\u001b[0m in \u001b[0;36m_validate_X_predict\u001b[0;34m(self, X, check_input)\u001b[0m\n\u001b[1;32m    371\u001b[0m         \u001b[0;34m\"\"\"Validate X whenever one tries to predict, apply, predict_proba\"\"\"\u001b[0m\u001b[0;34m\u001b[0m\u001b[0m\n\u001b[1;32m    372\u001b[0m         \u001b[0;32mif\u001b[0m \u001b[0mcheck_input\u001b[0m\u001b[0;34m:\u001b[0m\u001b[0;34m\u001b[0m\u001b[0m\n\u001b[0;32m--> 373\u001b[0;31m             \u001b[0mX\u001b[0m \u001b[0;34m=\u001b[0m \u001b[0mcheck_array\u001b[0m\u001b[0;34m(\u001b[0m\u001b[0mX\u001b[0m\u001b[0;34m,\u001b[0m \u001b[0mdtype\u001b[0m\u001b[0;34m=\u001b[0m\u001b[0mDTYPE\u001b[0m\u001b[0;34m,\u001b[0m \u001b[0maccept_sparse\u001b[0m\u001b[0;34m=\u001b[0m\u001b[0;34m\"csr\"\u001b[0m\u001b[0;34m)\u001b[0m\u001b[0;34m\u001b[0m\u001b[0m\n\u001b[0m\u001b[1;32m    374\u001b[0m             if issparse(X) and (X.indices.dtype != np.intc or\n\u001b[1;32m    375\u001b[0m                                 X.indptr.dtype != np.intc):\n",
      "\u001b[0;32m/anaconda3/lib/python3.6/site-packages/sklearn/utils/validation.py\u001b[0m in \u001b[0;36mcheck_array\u001b[0;34m(array, accept_sparse, dtype, order, copy, force_all_finite, ensure_2d, allow_nd, ensure_min_samples, ensure_min_features, warn_on_dtype, estimator)\u001b[0m\n\u001b[1;32m    431\u001b[0m                                       force_all_finite)\n\u001b[1;32m    432\u001b[0m     \u001b[0;32melse\u001b[0m\u001b[0;34m:\u001b[0m\u001b[0;34m\u001b[0m\u001b[0m\n\u001b[0;32m--> 433\u001b[0;31m         \u001b[0marray\u001b[0m \u001b[0;34m=\u001b[0m \u001b[0mnp\u001b[0m\u001b[0;34m.\u001b[0m\u001b[0marray\u001b[0m\u001b[0;34m(\u001b[0m\u001b[0marray\u001b[0m\u001b[0;34m,\u001b[0m \u001b[0mdtype\u001b[0m\u001b[0;34m=\u001b[0m\u001b[0mdtype\u001b[0m\u001b[0;34m,\u001b[0m \u001b[0morder\u001b[0m\u001b[0;34m=\u001b[0m\u001b[0morder\u001b[0m\u001b[0;34m,\u001b[0m \u001b[0mcopy\u001b[0m\u001b[0;34m=\u001b[0m\u001b[0mcopy\u001b[0m\u001b[0;34m)\u001b[0m\u001b[0;34m\u001b[0m\u001b[0m\n\u001b[0m\u001b[1;32m    434\u001b[0m \u001b[0;34m\u001b[0m\u001b[0m\n\u001b[1;32m    435\u001b[0m         \u001b[0;32mif\u001b[0m \u001b[0mensure_2d\u001b[0m\u001b[0;34m:\u001b[0m\u001b[0;34m\u001b[0m\u001b[0m\n",
      "\u001b[0;31mValueError\u001b[0m: could not convert string to float: 'RID_ID'"
     ]
    }
   ],
   "source": [
    "q=0\n",
    "for i in heat_stress_df:\n",
    "    heat_stress_df.loc[q,'heat_pred'] = model_h.predict(np.array(i[3:]))\n",
    "#heat_stress_df.iloc[:, 3:].apply(lambda x: model_h.predict(x))"
   ]
  },
  {
   "cell_type": "code",
   "execution_count": 123,
   "metadata": {},
   "outputs": [
    {
     "data": {
      "text/plain": [
       "Index(['HYBRID_ID', 'ENV_ID', 'YIELD', 'TMAX_AVG', 'TMAX_STD', 'TMIN_AVG',\n",
       "       'TMIN_STD', 'DAYL_AVG', 'DAYL_STD', 'SRAD_AVG', 'SRAD_STD'],\n",
       "      dtype='object')"
      ]
     },
     "execution_count": 123,
     "metadata": {},
     "output_type": "execute_result"
    }
   ],
   "source": [
    "heat_stress_df.columns"
   ]
  },
  {
   "cell_type": "markdown",
   "metadata": {},
   "source": [
    "#### Feature Importances "
   ]
  },
  {
   "cell_type": "code",
   "execution_count": 105,
   "metadata": {},
   "outputs": [
    {
     "data": {
      "text/plain": [
       "{'DAYL_AVG': 0.07857671973574108,\n",
       " 'DAYL_STD': 0.15888379604162034,\n",
       " 'SRAD_AVG': 0.21240194004964558,\n",
       " 'SRAD_STD': 0.07635892488787693,\n",
       " 'TMAX_AVG': 0.13805741350994546,\n",
       " 'TMAX_STD': 0.13499318190202692,\n",
       " 'TMIN_AVG': 0.06975530101366316,\n",
       " 'TMIN_STD': 0.1309727228594805}"
      ]
     },
     "execution_count": 105,
     "metadata": {},
     "output_type": "execute_result"
    }
   ],
   "source": [
    "#weights for heat model\n",
    "test_h_param = ['TMAX_AVG','TMAX_STD', 'TMIN_AVG','TMIN_STD','DAYL_AVG','DAYL_STD', 'SRAD_AVG','SRAD_STD']\n",
    "weights_h = list(model_d.feature_importances_)\n",
    "features_h = dict(zip(test_h_param, weights_h))\n",
    "features_h"
   ]
  },
  {
   "cell_type": "code",
   "execution_count": 103,
   "metadata": {},
   "outputs": [
    {
     "data": {
      "text/plain": [
       "{'AWC': 0.07635892488787693,\n",
       " 'KSAT': 0.06975530101366316,\n",
       " 'PREC_AVG': 0.13805741350994546,\n",
       " 'PREC_STD': 0.13499318190202692,\n",
       " 'SWE_AVG': 0.1309727228594805,\n",
       " 'SWE_STD': 0.07857671973574108,\n",
       " 'VP_AVG': 0.15888379604162034,\n",
       " 'VP_STD': 0.21240194004964558}"
      ]
     },
     "execution_count": 103,
     "metadata": {},
     "output_type": "execute_result"
    }
   ],
   "source": [
    "#weights for drought model\n",
    "test_d_param = ['PREC_AVG','PREC_STD','KSAT','SWE_AVG','SWE_STD','VP_AVG','VP_STD','AWC']\n",
    "weights_d = list(model_d.feature_importances_)\n",
    "features_d = dict(zip(test_d_param, weights_d))\n",
    "features_d"
   ]
  },
  {
   "cell_type": "code",
   "execution_count": 90,
   "metadata": {},
   "outputs": [
    {
     "name": "stderr",
     "output_type": "stream",
     "text": [
      "/anaconda3/lib/python3.6/site-packages/matplotlib/cbook/deprecation.py:106: MatplotlibDeprecationWarning: Adding an axes using the same arguments as a previous axes currently reuses the earlier instance.  In a future version, a new instance will always be created and returned.  Meanwhile, this warning can be suppressed, and the future behavior ensured, by passing a unique label to each axes instance.\n",
      "  warnings.warn(message, mplDeprecation, stacklevel=1)\n"
     ]
    },
    {
     "data": {
      "text/plain": [
       "Text(0.5,0,'Relative Importance')"
      ]
     },
     "execution_count": 90,
     "metadata": {},
     "output_type": "execute_result"
    },
    {
     "data": {
      "image/png": "[encoded data removed]",
      "text/plain": [
       "<matplotlib.figure.Figure at 0x138fa7c18>"
      ]
     },
     "metadata": {},
     "output_type": "display_data"
    },
    {
     "data": {
      "image/png": "[encoded data removed]",
      "text/plain": [
       "<matplotlib.figure.Figure at 0x12f16ba20>"
      ]
     },
     "metadata": {},
     "output_type": "display_data"
    }
   ],
   "source": [
    "feature_names_h = [key_h for key_h in heat_stress_df.iloc[:,3:]]\n",
    "#relative importance heat stress\n",
    "import matplotlib.pyplot as plt\n",
    "%matplotlib inline\n",
    "importances = model_h.feature_importances_\n",
    "indices = np.argsort(importances)\n",
    "#plt.subplot(1, 1, 1)\n",
    "plt.figure(figsize=(5,5))\n",
    "plt.title('Heat Stress Feature Importances')\n",
    "plt.barh(range(len(indices)), importances[indices], color='b', align='center')\n",
    "plt.yticks(range(len(indices)),feature_names_h)\n",
    "plt.xlabel('Relative Importance')\n",
    "\n",
    "feature_names_d = [key_d for key_d in drought_stress_df.iloc[:,3:]]\n",
    "#relative importance drought stress\n",
    "plt.subplot(1, 1, 1)\n",
    "importances = model_d.feature_importances_\n",
    "indices = np.argsort(importances)\n",
    "plt.figure(figsize=(5,5))\n",
    "plt.title('Drought Stress Feature Importances')\n",
    "plt.barh(range(len(indices)), importances[indices], color='b', align='center')\n",
    "plt.yticks(range(len(indices)),feature_names_d)\n",
    "plt.xlabel('Relative Importance')"
   ]
  },
  {
   "cell_type": "markdown",
   "metadata": {},
   "source": [
    "#### Prediction (heat)"
   ]
  },
  {
   "cell_type": "code",
   "execution_count": 112,
   "metadata": {},
   "outputs": [],
   "source": [
    "joined_df.head()\n",
    "joined_df['heat_prod'] = joined_df['DAYL_AVG']*0.07857671973574108 + \\\n",
    "joined_df['DAYL_STD']*0.15888379604162034 + \\\n",
    "joined_df['SRAD_AVG']*0.21240194004964558 + \\\n",
    "joined_df['SRAD_STD']*0.07635892488787693 + \\\n",
    "joined_df['TMAX_AVG']*0.13805741350994546 + \\\n",
    "joined_df['TMAX_STD']*0.13499318190202692 + \\\n",
    "joined_df['TMIN_AVG']*0.06975530101366316 + \\\n",
    "joined_df['TMIN_STD']*0.1309727228594805\n",
    "#df.apply(lambda x: )"
   ]
  },
  {
   "cell_type": "code",
   "execution_count": 113,
   "metadata": {},
   "outputs": [
    {
     "data": {
      "text/html": [
       "<div>\n",
       "<style scoped>\n",
       "    .dataframe tbody tr th:only-of-type {\n",
       "        vertical-align: middle;\n",
       "    }\n",
       "\n",
       "    .dataframe tbody tr th {\n",
       "        vertical-align: top;\n",
       "    }\n",
       "\n",
       "    .dataframe thead th {\n",
       "        text-align: right;\n",
       "    }\n",
       "</style>\n",
       "<table border=\"1\" class=\"dataframe\">\n",
       "  <thead>\n",
       "    <tr style=\"text-align: right;\">\n",
       "      <th></th>\n",
       "      <th>HYBRID_ID</th>\n",
       "      <th>ENV_ID</th>\n",
       "      <th>HYBRID_MG</th>\n",
       "      <th>ENV_MG</th>\n",
       "      <th>YIELD</th>\n",
       "      <th>YEAR</th>\n",
       "      <th>LAT</th>\n",
       "      <th>LONG</th>\n",
       "      <th>PLANT_DATE</th>\n",
       "      <th>HARVEST_DATE</th>\n",
       "      <th>...</th>\n",
       "      <th>VP_AVG</th>\n",
       "      <th>DAY_NUM_STD</th>\n",
       "      <th>DAYL_STD</th>\n",
       "      <th>PREC_STD</th>\n",
       "      <th>SRAD_STD</th>\n",
       "      <th>SWE_STD</th>\n",
       "      <th>TMAX_STD</th>\n",
       "      <th>TMIN_STD</th>\n",
       "      <th>VP_STD</th>\n",
       "      <th>heat_prod</th>\n",
       "    </tr>\n",
       "  </thead>\n",
       "  <tbody>\n",
       "    <tr>\n",
       "      <th>0</th>\n",
       "      <td>H2782</td>\n",
       "      <td>Env_1</td>\n",
       "      <td>0</td>\n",
       "      <td>0</td>\n",
       "      <td>107.9577</td>\n",
       "      <td>2008</td>\n",
       "      <td>49.5</td>\n",
       "      <td>-98.0</td>\n",
       "      <td>2008-05-06</td>\n",
       "      <td>2008-11-03</td>\n",
       "      <td>...</td>\n",
       "      <td>630.356164</td>\n",
       "      <td>105.510663</td>\n",
       "      <td>10075.200862</td>\n",
       "      <td>4.544882</td>\n",
       "      <td>131.085275</td>\n",
       "      <td>16.046875</td>\n",
       "      <td>14.926959</td>\n",
       "      <td>13.574307</td>\n",
       "      <td>535.634711</td>\n",
       "      <td>5068.639750</td>\n",
       "    </tr>\n",
       "    <tr>\n",
       "      <th>1</th>\n",
       "      <td>H2782</td>\n",
       "      <td>Env_2</td>\n",
       "      <td>0</td>\n",
       "      <td>0</td>\n",
       "      <td>85.7498</td>\n",
       "      <td>2008</td>\n",
       "      <td>49.3</td>\n",
       "      <td>-98.1</td>\n",
       "      <td>2008-05-14</td>\n",
       "      <td>2008-10-22</td>\n",
       "      <td>...</td>\n",
       "      <td>612.602740</td>\n",
       "      <td>105.510663</td>\n",
       "      <td>10001.326165</td>\n",
       "      <td>4.372688</td>\n",
       "      <td>130.288514</td>\n",
       "      <td>13.847730</td>\n",
       "      <td>14.860702</td>\n",
       "      <td>13.446089</td>\n",
       "      <td>528.588280</td>\n",
       "      <td>5057.376215</td>\n",
       "    </tr>\n",
       "    <tr>\n",
       "      <th>2</th>\n",
       "      <td>H2240</td>\n",
       "      <td>Env_3</td>\n",
       "      <td>0</td>\n",
       "      <td>0</td>\n",
       "      <td>74.6116</td>\n",
       "      <td>2011</td>\n",
       "      <td>49.3</td>\n",
       "      <td>-98.0</td>\n",
       "      <td>2011-05-17</td>\n",
       "      <td>2011-10-17</td>\n",
       "      <td>...</td>\n",
       "      <td>717.917808</td>\n",
       "      <td>105.510663</td>\n",
       "      <td>10001.326165</td>\n",
       "      <td>4.047351</td>\n",
       "      <td>122.067104</td>\n",
       "      <td>7.829079</td>\n",
       "      <td>14.311170</td>\n",
       "      <td>12.901740</td>\n",
       "      <td>585.217198</td>\n",
       "      <td>5055.995962</td>\n",
       "    </tr>\n",
       "    <tr>\n",
       "      <th>3</th>\n",
       "      <td>H1527</td>\n",
       "      <td>Env_3</td>\n",
       "      <td>0</td>\n",
       "      <td>0</td>\n",
       "      <td>83.8191</td>\n",
       "      <td>2011</td>\n",
       "      <td>49.3</td>\n",
       "      <td>-98.0</td>\n",
       "      <td>2011-05-17</td>\n",
       "      <td>2011-10-17</td>\n",
       "      <td>...</td>\n",
       "      <td>717.917808</td>\n",
       "      <td>105.510663</td>\n",
       "      <td>10001.326165</td>\n",
       "      <td>4.047351</td>\n",
       "      <td>122.067104</td>\n",
       "      <td>7.829079</td>\n",
       "      <td>14.311170</td>\n",
       "      <td>12.901740</td>\n",
       "      <td>585.217198</td>\n",
       "      <td>5055.995962</td>\n",
       "    </tr>\n",
       "    <tr>\n",
       "      <th>4</th>\n",
       "      <td>H1369</td>\n",
       "      <td>Env_3</td>\n",
       "      <td>0</td>\n",
       "      <td>0</td>\n",
       "      <td>81.7917</td>\n",
       "      <td>2011</td>\n",
       "      <td>49.3</td>\n",
       "      <td>-98.0</td>\n",
       "      <td>2011-05-17</td>\n",
       "      <td>2011-10-17</td>\n",
       "      <td>...</td>\n",
       "      <td>717.917808</td>\n",
       "      <td>105.510663</td>\n",
       "      <td>10001.326165</td>\n",
       "      <td>4.047351</td>\n",
       "      <td>122.067104</td>\n",
       "      <td>7.829079</td>\n",
       "      <td>14.311170</td>\n",
       "      <td>12.901740</td>\n",
       "      <td>585.217198</td>\n",
       "      <td>5055.995962</td>\n",
       "    </tr>\n",
       "  </tbody>\n",
       "</table>\n",
       "<p>5 rows × 38 columns</p>\n",
       "</div>"
      ],
      "text/plain": [
       "  HYBRID_ID ENV_ID  HYBRID_MG  ENV_MG     YIELD  YEAR   LAT  LONG  PLANT_DATE  \\\n",
       "0     H2782  Env_1          0       0  107.9577  2008  49.5 -98.0  2008-05-06   \n",
       "1     H2782  Env_2          0       0   85.7498  2008  49.3 -98.1  2008-05-14   \n",
       "2     H2240  Env_3          0       0   74.6116  2011  49.3 -98.0  2011-05-17   \n",
       "3     H1527  Env_3          0       0   83.8191  2011  49.3 -98.0  2011-05-17   \n",
       "4     H1369  Env_3          0       0   81.7917  2011  49.3 -98.0  2011-05-17   \n",
       "\n",
       "  HARVEST_DATE     ...           VP_AVG  DAY_NUM_STD      DAYL_STD  PREC_STD  \\\n",
       "0   2008-11-03     ...       630.356164   105.510663  10075.200862  4.544882   \n",
       "1   2008-10-22     ...       612.602740   105.510663  10001.326165  4.372688   \n",
       "2   2011-10-17     ...       717.917808   105.510663  10001.326165  4.047351   \n",
       "3   2011-10-17     ...       717.917808   105.510663  10001.326165  4.047351   \n",
       "4   2011-10-17     ...       717.917808   105.510663  10001.326165  4.047351   \n",
       "\n",
       "     SRAD_STD    SWE_STD   TMAX_STD   TMIN_STD      VP_STD    heat_prod  \n",
       "0  131.085275  16.046875  14.926959  13.574307  535.634711  5068.639750  \n",
       "1  130.288514  13.847730  14.860702  13.446089  528.588280  5057.376215  \n",
       "2  122.067104   7.829079  14.311170  12.901740  585.217198  5055.995962  \n",
       "3  122.067104   7.829079  14.311170  12.901740  585.217198  5055.995962  \n",
       "4  122.067104   7.829079  14.311170  12.901740  585.217198  5055.995962  \n",
       "\n",
       "[5 rows x 38 columns]"
      ]
     },
     "execution_count": 113,
     "metadata": {},
     "output_type": "execute_result"
    }
   ],
   "source": [
    "joined_df.head()"
   ]
  },
  {
   "cell_type": "markdown",
   "metadata": {},
   "source": [
    "#### heat and drought stress"
   ]
  },
  {
   "cell_type": "code",
   "execution_count": null,
   "metadata": {},
   "outputs": [],
   "source": [
    "#total heat stress\n",
    "#for crop level\n",
    "#difference between predicted heat regression and actual\n",
    "#difference between predicted drought regression and actual"
   ]
  },
  {
   "cell_type": "markdown",
   "metadata": {},
   "source": [
    "## Linear Regression (variant threshold analysis)"
   ]
  },
  {
   "cell_type": "code",
   "execution_count": 124,
   "metadata": {},
   "outputs": [],
   "source": [
    "#ML model\n",
    "#performance_data\n",
    "from sklearn.model_selection import train_test_split\n",
    "train, test = train_test_split(joined_df, test_size = 0.3)\n",
    "x_train = train.iloc[:, 11:]\n",
    "y_train = train['YIELD']\n",
    "x_test = test.iloc[:, 11:]\n",
    "y_test = test['YIELD']"
   ]
  },
  {
   "cell_type": "code",
   "execution_count": 125,
   "metadata": {},
   "outputs": [],
   "source": [
    "from sklearn import linear_model\n",
    "model = linear_model.LinearRegression()\n",
    "model.fit(x_train, y_train)\n",
    "\n",
    "testing_predictions = model.predict(x_test)\n",
    "\n",
    "#optiomnal filtering of specific yield predictions\n",
    "def get_classification(predictions,threshold):\n",
    "    classes = np.zeros_like(testing_predictions)\n",
    "    for i in range(len(classes)):\n",
    "        if predictions[i] > threshold:\n",
    "            classes[i] = predictions[i]\n",
    "    return classes"
   ]
  },
  {
   "cell_type": "code",
   "execution_count": 126,
   "metadata": {},
   "outputs": [
    {
     "data": {
      "text/plain": [
       "{'H1007': 1,\n",
       " 'H1009': 2,\n",
       " 'H1013': 1,\n",
       " 'H1019': 2,\n",
       " 'H1037': 3,\n",
       " 'H1054': 1,\n",
       " 'H1084': 2,\n",
       " 'H1117': 3,\n",
       " 'H1173': 1,\n",
       " 'H1175': 2,\n",
       " 'H1183': 1,\n",
       " 'H1206': 1,\n",
       " 'H1209': 1,\n",
       " 'H1228': 2,\n",
       " 'H1234': 1,\n",
       " 'H1237': 1,\n",
       " 'H1258': 1,\n",
       " 'H1309': 1,\n",
       " 'H1381': 1,\n",
       " 'H1466': 1,\n",
       " 'H1517': 1,\n",
       " 'H1531': 1,\n",
       " 'H1704': 1,\n",
       " 'H1734': 1,\n",
       " 'H1800': 1,\n",
       " 'H2340': 1,\n",
       " 'H2490': 1,\n",
       " 'H2713': 1,\n",
       " 'H2909': 1,\n",
       " 'H2918': 1,\n",
       " 'H3247': 1}"
      ]
     },
     "execution_count": 126,
     "metadata": {},
     "output_type": "execute_result"
    }
   ],
   "source": [
    "def model_eval(predictions, y_test, test, predict_delta):\n",
    "    top_hybrids = dict()\n",
    "    for i in range(len(y_test)):\n",
    "        temp_hyb = ''\n",
    "        if int(y_test.iloc[i]) > (int(predictions[i]) + int(predict_delta)):\n",
    "            temp_hyb = str(test.iloc[i, 0])\n",
    "            if not temp_hyb in top_hybrids.keys():\n",
    "                top_hybrids[temp_hyb] = 1\n",
    "            else:\n",
    "                top_hybrids[temp_hyb] += 1\n",
    "    return top_hybrids\n",
    "#y_test.iloc[0]\n",
    "len(y_test)\n",
    "#len(test)\n",
    "#\tHYBRID_ID\n",
    "model_eval(testing_predictions, y_test, test, 50)"
   ]
  }
 ],
 "metadata": {
  "kernelspec": {
   "display_name": "Python 3",
   "language": "python",
   "name": "python3"
  },
  "language_info": {
   "codemirror_mode": {
    "name": "ipython",
    "version": 3
   },
   "file_extension": ".py",
   "mimetype": "text/x-python",
   "name": "python",
   "nbconvert_exporter": "python",
   "pygments_lexer": "ipython3",
   "version": "3.6.4"
  }
 },
 "nbformat": 4,
 "nbformat_minor": 2
}
