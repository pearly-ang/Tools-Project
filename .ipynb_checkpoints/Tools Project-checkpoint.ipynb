{
 "cells": [
  {
   "cell_type": "code",
<<<<<<< HEAD
   "execution_count": 1,
=======
   "execution_count": 2,
>>>>>>> 198a8043a63499b45c090d4113f2085b61b80b10
   "metadata": {},
   "outputs": [],
   "source": [
    "import pandas as pd\n",
    "import numpy as np\n",
    "import time\n",
    "import matplotlib.pyplot as plt\n",
    "import seaborn as sns"
   ]
  },
  {
   "cell_type": "code",
<<<<<<< HEAD
   "execution_count": 2,
=======
   "execution_count": 3,
>>>>>>> 198a8043a63499b45c090d4113f2085b61b80b10
   "metadata": {},
   "outputs": [],
   "source": [
    "df = pd.read_csv('performance_data.csv')"
   ]
  },
  {
   "cell_type": "code",
<<<<<<< HEAD
   "execution_count": 3,
=======
   "execution_count": 4,
>>>>>>> 198a8043a63499b45c090d4113f2085b61b80b10
   "metadata": {},
   "outputs": [
    {
     "data": {
      "text/html": [
       "<div>\n",
       "<style scoped>\n",
       "    .dataframe tbody tr th:only-of-type {\n",
       "        vertical-align: middle;\n",
       "    }\n",
       "\n",
       "    .dataframe tbody tr th {\n",
       "        vertical-align: top;\n",
       "    }\n",
       "\n",
       "    .dataframe thead th {\n",
       "        text-align: right;\n",
       "    }\n",
       "</style>\n",
       "<table border=\"1\" class=\"dataframe\">\n",
       "  <thead>\n",
       "    <tr style=\"text-align: right;\">\n",
       "      <th></th>\n",
       "      <th>HYBRID_ID</th>\n",
       "      <th>ENV_ID</th>\n",
       "      <th>HYBRID_MG</th>\n",
       "      <th>ENV_MG</th>\n",
       "      <th>YIELD</th>\n",
       "      <th>YEAR</th>\n",
       "      <th>LAT</th>\n",
       "      <th>LONG</th>\n",
       "      <th>PLANT_DATE</th>\n",
       "      <th>HARVEST_DATE</th>\n",
       "      <th>...</th>\n",
       "      <th>ENV_YIELD_STD</th>\n",
       "      <th>ELEVATION</th>\n",
       "      <th>CLAY</th>\n",
       "      <th>SILT</th>\n",
       "      <th>SAND</th>\n",
       "      <th>AWC</th>\n",
       "      <th>PH</th>\n",
       "      <th>OM</th>\n",
       "      <th>CEC</th>\n",
       "      <th>KSAT</th>\n",
       "    </tr>\n",
       "  </thead>\n",
       "  <tbody>\n",
       "    <tr>\n",
       "      <th>0</th>\n",
       "      <td>H2782</td>\n",
       "      <td>Env_1</td>\n",
       "      <td>0</td>\n",
       "      <td>0</td>\n",
       "      <td>107.9577</td>\n",
       "      <td>2008</td>\n",
       "      <td>49.5</td>\n",
       "      <td>-98.0</td>\n",
       "      <td>2008-05-06</td>\n",
       "      <td>2008-11-03</td>\n",
       "      <td>...</td>\n",
       "      <td>7.591866</td>\n",
       "      <td>870.65</td>\n",
       "      <td>22.7</td>\n",
       "      <td>23.0</td>\n",
       "      <td>54.5</td>\n",
       "      <td>18.65</td>\n",
       "      <td>7.2</td>\n",
       "      <td>6.1</td>\n",
       "      <td>24.2</td>\n",
       "      <td>9.4</td>\n",
       "    </tr>\n",
       "    <tr>\n",
       "      <th>1</th>\n",
       "      <td>H2782</td>\n",
       "      <td>Env_2</td>\n",
       "      <td>0</td>\n",
       "      <td>0</td>\n",
       "      <td>85.7498</td>\n",
       "      <td>2008</td>\n",
       "      <td>49.3</td>\n",
       "      <td>-98.1</td>\n",
       "      <td>2008-05-14</td>\n",
       "      <td>2008-10-22</td>\n",
       "      <td>...</td>\n",
       "      <td>7.184953</td>\n",
       "      <td>942.41</td>\n",
       "      <td>22.7</td>\n",
       "      <td>22.0</td>\n",
       "      <td>55.8</td>\n",
       "      <td>18.75</td>\n",
       "      <td>7.3</td>\n",
       "      <td>6.9</td>\n",
       "      <td>25.2</td>\n",
       "      <td>10.2</td>\n",
       "    </tr>\n",
       "    <tr>\n",
       "      <th>2</th>\n",
       "      <td>H2240</td>\n",
       "      <td>Env_3</td>\n",
       "      <td>0</td>\n",
       "      <td>0</td>\n",
       "      <td>74.6116</td>\n",
       "      <td>2011</td>\n",
       "      <td>49.3</td>\n",
       "      <td>-98.0</td>\n",
       "      <td>2011-05-17</td>\n",
       "      <td>2011-10-17</td>\n",
       "      <td>...</td>\n",
       "      <td>4.583234</td>\n",
       "      <td>903.46</td>\n",
       "      <td>22.8</td>\n",
       "      <td>21.5</td>\n",
       "      <td>55.8</td>\n",
       "      <td>18.95</td>\n",
       "      <td>7.4</td>\n",
       "      <td>6.7</td>\n",
       "      <td>25.5</td>\n",
       "      <td>9.9</td>\n",
       "    </tr>\n",
       "    <tr>\n",
       "      <th>3</th>\n",
       "      <td>H1527</td>\n",
       "      <td>Env_3</td>\n",
       "      <td>0</td>\n",
       "      <td>0</td>\n",
       "      <td>83.8191</td>\n",
       "      <td>2011</td>\n",
       "      <td>49.3</td>\n",
       "      <td>-98.0</td>\n",
       "      <td>2011-05-17</td>\n",
       "      <td>2011-10-17</td>\n",
       "      <td>...</td>\n",
       "      <td>4.583234</td>\n",
       "      <td>903.46</td>\n",
       "      <td>22.8</td>\n",
       "      <td>21.5</td>\n",
       "      <td>55.8</td>\n",
       "      <td>18.95</td>\n",
       "      <td>7.4</td>\n",
       "      <td>6.7</td>\n",
       "      <td>25.5</td>\n",
       "      <td>9.9</td>\n",
       "    </tr>\n",
       "    <tr>\n",
       "      <th>4</th>\n",
       "      <td>H1369</td>\n",
       "      <td>Env_3</td>\n",
       "      <td>0</td>\n",
       "      <td>0</td>\n",
       "      <td>81.7917</td>\n",
       "      <td>2011</td>\n",
       "      <td>49.3</td>\n",
       "      <td>-98.0</td>\n",
       "      <td>2011-05-17</td>\n",
       "      <td>2011-10-17</td>\n",
       "      <td>...</td>\n",
       "      <td>4.583234</td>\n",
       "      <td>903.46</td>\n",
       "      <td>22.8</td>\n",
       "      <td>21.5</td>\n",
       "      <td>55.8</td>\n",
       "      <td>18.95</td>\n",
       "      <td>7.4</td>\n",
       "      <td>6.7</td>\n",
       "      <td>25.5</td>\n",
       "      <td>9.9</td>\n",
       "    </tr>\n",
       "  </tbody>\n",
       "</table>\n",
       "<p>5 rows × 22 columns</p>\n",
       "</div>"
      ],
      "text/plain": [
       "  HYBRID_ID ENV_ID  HYBRID_MG  ENV_MG     YIELD  YEAR   LAT  LONG  PLANT_DATE  \\\n",
       "0     H2782  Env_1          0       0  107.9577  2008  49.5 -98.0  2008-05-06   \n",
       "1     H2782  Env_2          0       0   85.7498  2008  49.3 -98.1  2008-05-14   \n",
       "2     H2240  Env_3          0       0   74.6116  2011  49.3 -98.0  2011-05-17   \n",
       "3     H1527  Env_3          0       0   83.8191  2011  49.3 -98.0  2011-05-17   \n",
       "4     H1369  Env_3          0       0   81.7917  2011  49.3 -98.0  2011-05-17   \n",
       "\n",
       "  HARVEST_DATE  ...  ENV_YIELD_STD  ELEVATION  CLAY  SILT  SAND    AWC   PH  \\\n",
       "0   2008-11-03  ...       7.591866     870.65  22.7  23.0  54.5  18.65  7.2   \n",
       "1   2008-10-22  ...       7.184953     942.41  22.7  22.0  55.8  18.75  7.3   \n",
       "2   2011-10-17  ...       4.583234     903.46  22.8  21.5  55.8  18.95  7.4   \n",
       "3   2011-10-17  ...       4.583234     903.46  22.8  21.5  55.8  18.95  7.4   \n",
       "4   2011-10-17  ...       4.583234     903.46  22.8  21.5  55.8  18.95  7.4   \n",
       "\n",
       "    OM   CEC  KSAT  \n",
       "0  6.1  24.2   9.4  \n",
       "1  6.9  25.2  10.2  \n",
       "2  6.7  25.5   9.9  \n",
       "3  6.7  25.5   9.9  \n",
       "4  6.7  25.5   9.9  \n",
       "\n",
       "[5 rows x 22 columns]"
      ]
     },
<<<<<<< HEAD
     "execution_count": 3,
=======
     "execution_count": 4,
>>>>>>> 198a8043a63499b45c090d4113f2085b61b80b10
     "metadata": {},
     "output_type": "execute_result"
    }
   ],
   "source": [
    "df.head()"
   ]
  },
  {
   "cell_type": "code",
<<<<<<< HEAD
   "execution_count": 4,
=======
   "execution_count": 5,
>>>>>>> 198a8043a63499b45c090d4113f2085b61b80b10
   "metadata": {},
   "outputs": [],
   "source": [
    "df1 = pd.read_csv('weather_data.csv')"
   ]
  },
  {
   "cell_type": "code",
<<<<<<< HEAD
   "execution_count": 5,
=======
   "execution_count": 6,
>>>>>>> 198a8043a63499b45c090d4113f2085b61b80b10
   "metadata": {},
   "outputs": [
    {
     "data": {
      "text/html": [
       "<div>\n",
       "<style scoped>\n",
       "    .dataframe tbody tr th:only-of-type {\n",
       "        vertical-align: middle;\n",
       "    }\n",
       "\n",
       "    .dataframe tbody tr th {\n",
       "        vertical-align: top;\n",
       "    }\n",
       "\n",
       "    .dataframe thead th {\n",
       "        text-align: right;\n",
       "    }\n",
       "</style>\n",
       "<table border=\"1\" class=\"dataframe\">\n",
       "  <thead>\n",
       "    <tr style=\"text-align: right;\">\n",
       "      <th></th>\n",
       "      <th>ENV_ID</th>\n",
       "      <th>DAY_NUM</th>\n",
       "      <th>DAYL</th>\n",
       "      <th>PREC</th>\n",
       "      <th>SRAD</th>\n",
       "      <th>SWE</th>\n",
       "      <th>TMAX</th>\n",
       "      <th>TMIN</th>\n",
       "      <th>VP</th>\n",
       "    </tr>\n",
       "  </thead>\n",
       "  <tbody>\n",
       "    <tr>\n",
       "      <th>0</th>\n",
       "      <td>Env_1</td>\n",
       "      <td>1</td>\n",
       "      <td>29030.400391</td>\n",
       "      <td>0</td>\n",
       "      <td>92.800003</td>\n",
       "      <td>24</td>\n",
       "      <td>-14.5</td>\n",
       "      <td>-21.0</td>\n",
       "      <td>120</td>\n",
       "    </tr>\n",
       "    <tr>\n",
       "      <th>1</th>\n",
       "      <td>Env_1</td>\n",
       "      <td>2</td>\n",
       "      <td>29030.400391</td>\n",
       "      <td>0</td>\n",
       "      <td>166.399994</td>\n",
       "      <td>24</td>\n",
       "      <td>-7.0</td>\n",
       "      <td>-26.0</td>\n",
       "      <td>80</td>\n",
       "    </tr>\n",
       "    <tr>\n",
       "      <th>2</th>\n",
       "      <td>Env_1</td>\n",
       "      <td>3</td>\n",
       "      <td>29030.400391</td>\n",
       "      <td>0</td>\n",
       "      <td>144.000000</td>\n",
       "      <td>24</td>\n",
       "      <td>0.0</td>\n",
       "      <td>-12.5</td>\n",
       "      <td>240</td>\n",
       "    </tr>\n",
       "    <tr>\n",
       "      <th>3</th>\n",
       "      <td>Env_1</td>\n",
       "      <td>4</td>\n",
       "      <td>29030.400391</td>\n",
       "      <td>0</td>\n",
       "      <td>112.000000</td>\n",
       "      <td>24</td>\n",
       "      <td>-3.5</td>\n",
       "      <td>-11.5</td>\n",
       "      <td>240</td>\n",
       "    </tr>\n",
       "    <tr>\n",
       "      <th>4</th>\n",
       "      <td>Env_1</td>\n",
       "      <td>5</td>\n",
       "      <td>29030.400391</td>\n",
       "      <td>1</td>\n",
       "      <td>153.600006</td>\n",
       "      <td>24</td>\n",
       "      <td>2.5</td>\n",
       "      <td>-11.5</td>\n",
       "      <td>240</td>\n",
       "    </tr>\n",
       "  </tbody>\n",
       "</table>\n",
       "</div>"
      ],
      "text/plain": [
       "  ENV_ID  DAY_NUM          DAYL  PREC        SRAD  SWE  TMAX  TMIN   VP\n",
       "0  Env_1        1  29030.400391     0   92.800003   24 -14.5 -21.0  120\n",
       "1  Env_1        2  29030.400391     0  166.399994   24  -7.0 -26.0   80\n",
       "2  Env_1        3  29030.400391     0  144.000000   24   0.0 -12.5  240\n",
       "3  Env_1        4  29030.400391     0  112.000000   24  -3.5 -11.5  240\n",
       "4  Env_1        5  29030.400391     1  153.600006   24   2.5 -11.5  240"
      ]
     },
<<<<<<< HEAD
     "execution_count": 5,
=======
     "execution_count": 6,
>>>>>>> 198a8043a63499b45c090d4113f2085b61b80b10
     "metadata": {},
     "output_type": "execute_result"
    }
   ],
   "source": [
    "df1.head()"
   ]
  },
  {
   "cell_type": "code",
<<<<<<< HEAD
   "execution_count": 6,
=======
   "execution_count": 7,
>>>>>>> 198a8043a63499b45c090d4113f2085b61b80b10
   "metadata": {},
   "outputs": [
    {
     "data": {
      "text/plain": [
<<<<<<< HEAD
       "<matplotlib.collections.PathCollection at 0x10833a4a8>"
      ]
     },
     "execution_count": 6,
=======
       "<matplotlib.collections.PathCollection at 0x10f55d240>"
      ]
     },
     "execution_count": 7,
>>>>>>> 198a8043a63499b45c090d4113f2085b61b80b10
     "metadata": {},
     "output_type": "execute_result"
    },
    {
     "data": {
      "image/png": "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\n",
      "text/plain": [
<<<<<<< HEAD
       "<matplotlib.figure.Figure at 0x1a0f095c88>"
=======
       "<Figure size 432x288 with 1 Axes>"
>>>>>>> 198a8043a63499b45c090d4113f2085b61b80b10
      ]
     },
     "metadata": {},
     "output_type": "display_data"
    }
   ],
   "source": [
    "%matplotlib inline\n",
    "plt.scatter(df['YIELD'],df['ELEVATION'])"
   ]
  },
  {
   "cell_type": "code",
<<<<<<< HEAD
   "execution_count": 7,
=======
   "execution_count": 8,
>>>>>>> 198a8043a63499b45c090d4113f2085b61b80b10
   "metadata": {},
   "outputs": [
    {
     "data": {
      "text/plain": [
<<<<<<< HEAD
       "<matplotlib.collections.PathCollection at 0x1a0f56c2b0>"
      ]
     },
     "execution_count": 7,
=======
       "<matplotlib.collections.PathCollection at 0x1a1742c828>"
      ]
     },
     "execution_count": 8,
>>>>>>> 198a8043a63499b45c090d4113f2085b61b80b10
     "metadata": {},
     "output_type": "execute_result"
    },
    {
     "data": {
<<<<<<< HEAD
      "image/png": "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\n",
      "text/plain": [
       "<matplotlib.figure.Figure at 0x108310a20>"
=======
      "image/png": "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\n",
      "text/plain": [
       "<Figure size 432x288 with 1 Axes>"
>>>>>>> 198a8043a63499b45c090d4113f2085b61b80b10
      ]
     },
     "metadata": {},
     "output_type": "display_data"
    }
   ],
   "source": [
    "%matplotlib inline\n",
    "plt.scatter(df['ENV_ID'],df['YIELD'])"
   ]
  },
  {
   "cell_type": "code",
<<<<<<< HEAD
   "execution_count": 8,
=======
   "execution_count": 9,
>>>>>>> 198a8043a63499b45c090d4113f2085b61b80b10
   "metadata": {},
   "outputs": [
    {
     "data": {
      "text/plain": [
<<<<<<< HEAD
       "<matplotlib.axes._subplots.AxesSubplot at 0x1a10c70b38>"
      ]
     },
     "execution_count": 8,
=======
       "<matplotlib.axes._subplots.AxesSubplot at 0x1a187ed550>"
      ]
     },
     "execution_count": 9,
>>>>>>> 198a8043a63499b45c090d4113f2085b61b80b10
     "metadata": {},
     "output_type": "execute_result"
    },
    {
     "data": {
<<<<<<< HEAD
      "image/png": "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\n",
      "text/plain": [
       "<matplotlib.figure.Figure at 0x1a0f095e48>"
=======
      "image/png": "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\n",
      "text/plain": [
       "<Figure size 432x288 with 1 Axes>"
>>>>>>> 198a8043a63499b45c090d4113f2085b61b80b10
      ]
     },
     "metadata": {},
     "output_type": "display_data"
    }
   ],
   "source": [
    "df.groupby(['ENV_ID']).size().plot(kind='bar')"
   ]
  },
  {
   "cell_type": "code",
<<<<<<< HEAD
   "execution_count": 9,
=======
   "execution_count": 10,
>>>>>>> 198a8043a63499b45c090d4113f2085b61b80b10
   "metadata": {},
   "outputs": [
    {
     "name": "stdout",
     "output_type": "stream",
     "text": [
      "<class 'pandas.core.frame.DataFrame'>\n",
      "RangeIndex: 387427 entries, 0 to 387426\n",
      "Data columns (total 22 columns):\n",
      "HYBRID_ID         387427 non-null object\n",
      "ENV_ID            387427 non-null object\n",
      "HYBRID_MG         387427 non-null int64\n",
      "ENV_MG            387427 non-null int64\n",
      "YIELD             387427 non-null float64\n",
      "YEAR              387427 non-null int64\n",
      "LAT               387427 non-null float64\n",
      "LONG              387427 non-null float64\n",
      "PLANT_DATE        387427 non-null object\n",
      "HARVEST_DATE      387427 non-null object\n",
      "IRRIGATION        379143 non-null object\n",
      "ENV_YIELD_MEAN    387427 non-null float64\n",
      "ENV_YIELD_STD     387427 non-null float64\n",
      "ELEVATION         387427 non-null float64\n",
      "CLAY              387427 non-null float64\n",
      "SILT              387427 non-null float64\n",
      "SAND              387427 non-null float64\n",
      "AWC               387427 non-null float64\n",
      "PH                387427 non-null float64\n",
      "OM                387427 non-null float64\n",
      "CEC               387427 non-null float64\n",
      "KSAT              387427 non-null float64\n",
      "dtypes: float64(14), int64(3), object(5)\n",
      "memory usage: 65.0+ MB\n"
     ]
    }
   ],
   "source": [
    "#This is Xavi editing!\n",
    "df.info()\n",
    "#hey pearly"
   ]
  },
  {
   "cell_type": "code",
   "execution_count": 11,
   "metadata": {},
   "outputs": [
    {
     "data": {
      "text/html": [
       "<div>\n",
       "<style scoped>\n",
       "    .dataframe tbody tr th:only-of-type {\n",
       "        vertical-align: middle;\n",
       "    }\n",
       "\n",
       "    .dataframe tbody tr th {\n",
       "        vertical-align: top;\n",
       "    }\n",
       "\n",
       "    .dataframe thead th {\n",
       "        text-align: right;\n",
       "    }\n",
       "</style>\n",
       "<table border=\"1\" class=\"dataframe\">\n",
       "  <thead>\n",
       "    <tr style=\"text-align: right;\">\n",
       "      <th></th>\n",
       "      <th>HYBRID_MG</th>\n",
       "      <th>ENV_MG</th>\n",
       "      <th>YIELD</th>\n",
       "      <th>YEAR</th>\n",
       "      <th>LAT</th>\n",
       "      <th>LONG</th>\n",
       "      <th>ENV_YIELD_MEAN</th>\n",
       "      <th>ENV_YIELD_STD</th>\n",
       "      <th>ELEVATION</th>\n",
       "      <th>CLAY</th>\n",
       "      <th>SILT</th>\n",
       "      <th>SAND</th>\n",
       "      <th>AWC</th>\n",
       "      <th>PH</th>\n",
       "      <th>OM</th>\n",
       "      <th>CEC</th>\n",
       "      <th>KSAT</th>\n",
       "    </tr>\n",
       "  </thead>\n",
       "  <tbody>\n",
       "    <tr>\n",
       "      <th>count</th>\n",
       "      <td>387427.000000</td>\n",
       "      <td>387427.000000</td>\n",
       "      <td>387427.000000</td>\n",
       "      <td>387427.000000</td>\n",
       "      <td>387427.000000</td>\n",
       "      <td>387427.000000</td>\n",
       "      <td>387427.000000</td>\n",
       "      <td>387427.000000</td>\n",
       "      <td>387427.000000</td>\n",
       "      <td>387427.000000</td>\n",
       "      <td>387427.000000</td>\n",
       "      <td>387427.000000</td>\n",
       "      <td>387427.000000</td>\n",
       "      <td>387427.000000</td>\n",
       "      <td>387427.000000</td>\n",
       "      <td>387427.000000</td>\n",
       "      <td>387427.000000</td>\n",
       "    </tr>\n",
       "    <tr>\n",
       "      <th>mean</th>\n",
       "      <td>5.132190</td>\n",
       "      <td>5.480511</td>\n",
       "      <td>120.738228</td>\n",
       "      <td>2012.781236</td>\n",
       "      <td>41.661369</td>\n",
       "      <td>-91.262012</td>\n",
       "      <td>120.291649</td>\n",
       "      <td>13.378154</td>\n",
       "      <td>1159.748470</td>\n",
       "      <td>24.429210</td>\n",
       "      <td>48.748303</td>\n",
       "      <td>26.796305</td>\n",
       "      <td>23.715754</td>\n",
       "      <td>6.397536</td>\n",
       "      <td>5.556450</td>\n",
       "      <td>25.454481</td>\n",
       "      <td>2.367292</td>\n",
       "    </tr>\n",
       "    <tr>\n",
       "      <th>std</th>\n",
       "      <td>1.707665</td>\n",
       "      <td>1.800359</td>\n",
       "      <td>21.995931</td>\n",
       "      <td>2.602693</td>\n",
       "      <td>2.360795</td>\n",
       "      <td>5.839294</td>\n",
       "      <td>17.447066</td>\n",
       "      <td>2.975853</td>\n",
       "      <td>702.488253</td>\n",
       "      <td>4.136108</td>\n",
       "      <td>10.626200</td>\n",
       "      <td>12.379756</td>\n",
       "      <td>2.083614</td>\n",
       "      <td>0.375251</td>\n",
       "      <td>2.223076</td>\n",
       "      <td>3.704428</td>\n",
       "      <td>1.672286</td>\n",
       "    </tr>\n",
       "    <tr>\n",
       "      <th>min</th>\n",
       "      <td>0.000000</td>\n",
       "      <td>0.000000</td>\n",
       "      <td>6.031800</td>\n",
       "      <td>2008.000000</td>\n",
       "      <td>26.100000</td>\n",
       "      <td>-104.900000</td>\n",
       "      <td>28.077529</td>\n",
       "      <td>2.807647</td>\n",
       "      <td>-2.500000</td>\n",
       "      <td>6.800000</td>\n",
       "      <td>9.300000</td>\n",
       "      <td>0.000000</td>\n",
       "      <td>11.400000</td>\n",
       "      <td>4.700000</td>\n",
       "      <td>1.600000</td>\n",
       "      <td>8.033333</td>\n",
       "      <td>0.500000</td>\n",
       "    </tr>\n",
       "    <tr>\n",
       "      <th>25%</th>\n",
       "      <td>4.000000</td>\n",
       "      <td>4.000000</td>\n",
       "      <td>107.817400</td>\n",
       "      <td>2011.000000</td>\n",
       "      <td>40.300000</td>\n",
       "      <td>-95.200000</td>\n",
       "      <td>109.749895</td>\n",
       "      <td>11.588648</td>\n",
       "      <td>754.390000</td>\n",
       "      <td>21.800000</td>\n",
       "      <td>40.500000</td>\n",
       "      <td>17.200000</td>\n",
       "      <td>22.500000</td>\n",
       "      <td>6.200000</td>\n",
       "      <td>4.000000</td>\n",
       "      <td>23.200000</td>\n",
       "      <td>1.200000</td>\n",
       "    </tr>\n",
       "    <tr>\n",
       "      <th>50%</th>\n",
       "      <td>5.000000</td>\n",
       "      <td>6.000000</td>\n",
       "      <td>122.128700</td>\n",
       "      <td>2013.000000</td>\n",
       "      <td>41.500000</td>\n",
       "      <td>-91.900000</td>\n",
       "      <td>121.749200</td>\n",
       "      <td>12.949489</td>\n",
       "      <td>1004.810000</td>\n",
       "      <td>24.700000</td>\n",
       "      <td>48.300000</td>\n",
       "      <td>27.000000</td>\n",
       "      <td>24.000000</td>\n",
       "      <td>6.300000</td>\n",
       "      <td>5.000000</td>\n",
       "      <td>25.700000</td>\n",
       "      <td>1.800000</td>\n",
       "    </tr>\n",
       "    <tr>\n",
       "      <th>75%</th>\n",
       "      <td>7.000000</td>\n",
       "      <td>7.000000</td>\n",
       "      <td>135.356250</td>\n",
       "      <td>2015.000000</td>\n",
       "      <td>43.300000</td>\n",
       "      <td>-87.600000</td>\n",
       "      <td>131.434895</td>\n",
       "      <td>15.037107</td>\n",
       "      <td>1278.860000</td>\n",
       "      <td>27.200000</td>\n",
       "      <td>57.500000</td>\n",
       "      <td>35.700000</td>\n",
       "      <td>25.350000</td>\n",
       "      <td>6.600000</td>\n",
       "      <td>6.900000</td>\n",
       "      <td>27.700000</td>\n",
       "      <td>3.100000</td>\n",
       "    </tr>\n",
       "    <tr>\n",
       "      <th>max</th>\n",
       "      <td>8.000000</td>\n",
       "      <td>9.000000</td>\n",
       "      <td>230.607000</td>\n",
       "      <td>2017.000000</td>\n",
       "      <td>49.500000</td>\n",
       "      <td>-71.500000</td>\n",
       "      <td>181.664953</td>\n",
       "      <td>41.182394</td>\n",
       "      <td>4905.310000</td>\n",
       "      <td>39.500000</td>\n",
       "      <td>72.800000</td>\n",
       "      <td>83.300000</td>\n",
       "      <td>28.250000</td>\n",
       "      <td>7.900000</td>\n",
       "      <td>20.300000</td>\n",
       "      <td>43.200000</td>\n",
       "      <td>14.700000</td>\n",
       "    </tr>\n",
       "  </tbody>\n",
       "</table>\n",
       "</div>"
      ],
      "text/plain": [
       "           HYBRID_MG         ENV_MG          YIELD           YEAR  \\\n",
       "count  387427.000000  387427.000000  387427.000000  387427.000000   \n",
       "mean        5.132190       5.480511     120.738228    2012.781236   \n",
       "std         1.707665       1.800359      21.995931       2.602693   \n",
       "min         0.000000       0.000000       6.031800    2008.000000   \n",
       "25%         4.000000       4.000000     107.817400    2011.000000   \n",
       "50%         5.000000       6.000000     122.128700    2013.000000   \n",
       "75%         7.000000       7.000000     135.356250    2015.000000   \n",
       "max         8.000000       9.000000     230.607000    2017.000000   \n",
       "\n",
       "                 LAT           LONG  ENV_YIELD_MEAN  ENV_YIELD_STD  \\\n",
       "count  387427.000000  387427.000000   387427.000000  387427.000000   \n",
       "mean       41.661369     -91.262012      120.291649      13.378154   \n",
       "std         2.360795       5.839294       17.447066       2.975853   \n",
       "min        26.100000    -104.900000       28.077529       2.807647   \n",
       "25%        40.300000     -95.200000      109.749895      11.588648   \n",
       "50%        41.500000     -91.900000      121.749200      12.949489   \n",
       "75%        43.300000     -87.600000      131.434895      15.037107   \n",
       "max        49.500000     -71.500000      181.664953      41.182394   \n",
       "\n",
       "           ELEVATION           CLAY           SILT           SAND  \\\n",
       "count  387427.000000  387427.000000  387427.000000  387427.000000   \n",
       "mean     1159.748470      24.429210      48.748303      26.796305   \n",
       "std       702.488253       4.136108      10.626200      12.379756   \n",
       "min        -2.500000       6.800000       9.300000       0.000000   \n",
       "25%       754.390000      21.800000      40.500000      17.200000   \n",
       "50%      1004.810000      24.700000      48.300000      27.000000   \n",
       "75%      1278.860000      27.200000      57.500000      35.700000   \n",
       "max      4905.310000      39.500000      72.800000      83.300000   \n",
       "\n",
       "                 AWC             PH             OM            CEC  \\\n",
       "count  387427.000000  387427.000000  387427.000000  387427.000000   \n",
       "mean       23.715754       6.397536       5.556450      25.454481   \n",
       "std         2.083614       0.375251       2.223076       3.704428   \n",
       "min        11.400000       4.700000       1.600000       8.033333   \n",
       "25%        22.500000       6.200000       4.000000      23.200000   \n",
       "50%        24.000000       6.300000       5.000000      25.700000   \n",
       "75%        25.350000       6.600000       6.900000      27.700000   \n",
       "max        28.250000       7.900000      20.300000      43.200000   \n",
       "\n",
       "                KSAT  \n",
       "count  387427.000000  \n",
       "mean        2.367292  \n",
       "std         1.672286  \n",
       "min         0.500000  \n",
       "25%         1.200000  \n",
       "50%         1.800000  \n",
       "75%         3.100000  \n",
       "max        14.700000  "
      ]
     },
     "execution_count": 11,
     "metadata": {},
     "output_type": "execute_result"
    }
   ],
   "source": [
    "df.describe()"
   ]
  },
  {
   "cell_type": "code",
   "execution_count": null,
   "metadata": {},
   "outputs": [],
   "source": []
  }
 ],
 "metadata": {
  "kernelspec": {
   "display_name": "Python 3",
   "language": "python",
   "name": "python3"
  },
  "language_info": {
   "codemirror_mode": {
    "name": "ipython",
    "version": 3
   },
   "file_extension": ".py",
   "mimetype": "text/x-python",
   "name": "python",
   "nbconvert_exporter": "python",
   "pygments_lexer": "ipython3",
   "version": "3.6.5"
  }
 },
 "nbformat": 4,
 "nbformat_minor": 2
}
