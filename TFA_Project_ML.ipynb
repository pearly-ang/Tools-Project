{
 "cells": [
  {
   "cell_type": "markdown",
   "metadata": {},
   "source": [
    "# ML trials"
   ]
  },
  {
   "cell_type": "code",
   "execution_count": 119,
   "metadata": {},
   "outputs": [],
   "source": [
    "import pandas as pd\n",
    "import numpy as np\n",
    "\n",
    "performance_data = pd.read_csv('performance_data.csv')\n",
    "submission_template = pd.read_csv('submission_template.csv')\n",
    "weather_data = pd.read_csv('weather_data.csv')"
   ]
  },
  {
   "cell_type": "code",
   "execution_count": 61,
   "metadata": {},
   "outputs": [
    {
     "data": {
      "text/plain": [
       "Index(['HYBRID_ID', 'ENV_ID', 'HYBRID_MG', 'ENV_MG', 'YIELD', 'YEAR', 'LAT',\n",
       "       'LONG', 'PLANT_DATE', 'HARVEST_DATE', 'IRRIGATION', 'ENV_YIELD_MEAN',\n",
       "       'ENV_YIELD_STD', 'ELEVATION', 'CLAY', 'SILT', 'SAND', 'AWC', 'PH', 'OM',\n",
       "       'CEC', 'KSAT'],\n",
       "      dtype='object')"
      ]
     },
     "execution_count": 61,
     "metadata": {},
     "output_type": "execute_result"
    }
   ],
   "source": [
    "performance_data.columns"
   ]
  },
  {
   "cell_type": "code",
   "execution_count": 62,
   "metadata": {},
   "outputs": [
    {
     "data": {
      "text/html": [
       "<div>\n",
       "<style scoped>\n",
       "    .dataframe tbody tr th:only-of-type {\n",
       "        vertical-align: middle;\n",
       "    }\n",
       "\n",
       "    .dataframe tbody tr th {\n",
       "        vertical-align: top;\n",
       "    }\n",
       "\n",
       "    .dataframe thead th {\n",
       "        text-align: right;\n",
       "    }\n",
       "</style>\n",
       "<table border=\"1\" class=\"dataframe\">\n",
       "  <thead>\n",
       "    <tr style=\"text-align: right;\">\n",
       "      <th></th>\n",
       "      <th>ENV_ID</th>\n",
       "      <th>DAY_NUM</th>\n",
       "      <th>DAYL</th>\n",
       "      <th>PREC</th>\n",
       "      <th>SRAD</th>\n",
       "      <th>SWE</th>\n",
       "      <th>TMAX</th>\n",
       "      <th>TMIN</th>\n",
       "      <th>VP</th>\n",
       "    </tr>\n",
       "  </thead>\n",
       "  <tbody>\n",
       "    <tr>\n",
       "      <th>0</th>\n",
       "      <td>Env_1</td>\n",
       "      <td>1</td>\n",
       "      <td>29030.400391</td>\n",
       "      <td>0</td>\n",
       "      <td>92.800003</td>\n",
       "      <td>24</td>\n",
       "      <td>-14.5</td>\n",
       "      <td>-21.0</td>\n",
       "      <td>120</td>\n",
       "    </tr>\n",
       "    <tr>\n",
       "      <th>1</th>\n",
       "      <td>Env_1</td>\n",
       "      <td>2</td>\n",
       "      <td>29030.400391</td>\n",
       "      <td>0</td>\n",
       "      <td>166.399994</td>\n",
       "      <td>24</td>\n",
       "      <td>-7.0</td>\n",
       "      <td>-26.0</td>\n",
       "      <td>80</td>\n",
       "    </tr>\n",
       "    <tr>\n",
       "      <th>2</th>\n",
       "      <td>Env_1</td>\n",
       "      <td>3</td>\n",
       "      <td>29030.400391</td>\n",
       "      <td>0</td>\n",
       "      <td>144.000000</td>\n",
       "      <td>24</td>\n",
       "      <td>0.0</td>\n",
       "      <td>-12.5</td>\n",
       "      <td>240</td>\n",
       "    </tr>\n",
       "    <tr>\n",
       "      <th>3</th>\n",
       "      <td>Env_1</td>\n",
       "      <td>4</td>\n",
       "      <td>29030.400391</td>\n",
       "      <td>0</td>\n",
       "      <td>112.000000</td>\n",
       "      <td>24</td>\n",
       "      <td>-3.5</td>\n",
       "      <td>-11.5</td>\n",
       "      <td>240</td>\n",
       "    </tr>\n",
       "    <tr>\n",
       "      <th>4</th>\n",
       "      <td>Env_1</td>\n",
       "      <td>5</td>\n",
       "      <td>29030.400391</td>\n",
       "      <td>1</td>\n",
       "      <td>153.600006</td>\n",
       "      <td>24</td>\n",
       "      <td>2.5</td>\n",
       "      <td>-11.5</td>\n",
       "      <td>240</td>\n",
       "    </tr>\n",
       "  </tbody>\n",
       "</table>\n",
       "</div>"
      ],
      "text/plain": [
       "  ENV_ID  DAY_NUM          DAYL  PREC        SRAD  SWE  TMAX  TMIN   VP\n",
       "0  Env_1        1  29030.400391     0   92.800003   24 -14.5 -21.0  120\n",
       "1  Env_1        2  29030.400391     0  166.399994   24  -7.0 -26.0   80\n",
       "2  Env_1        3  29030.400391     0  144.000000   24   0.0 -12.5  240\n",
       "3  Env_1        4  29030.400391     0  112.000000   24  -3.5 -11.5  240\n",
       "4  Env_1        5  29030.400391     1  153.600006   24   2.5 -11.5  240"
      ]
     },
     "execution_count": 62,
     "metadata": {},
     "output_type": "execute_result"
    }
   ],
   "source": [
    "weather_data.head()"
   ]
  },
  {
   "cell_type": "markdown",
   "metadata": {},
   "source": [
    "## Transforming weather data into useful metrics"
   ]
  },
  {
   "cell_type": "code",
   "execution_count": 63,
   "metadata": {},
   "outputs": [
    {
     "data": {
      "text/html": [
       "<div>\n",
       "<style scoped>\n",
       "    .dataframe tbody tr th:only-of-type {\n",
       "        vertical-align: middle;\n",
       "    }\n",
       "\n",
       "    .dataframe tbody tr th {\n",
       "        vertical-align: top;\n",
       "    }\n",
       "\n",
       "    .dataframe thead th {\n",
       "        text-align: right;\n",
       "    }\n",
       "</style>\n",
       "<table border=\"1\" class=\"dataframe\">\n",
       "  <thead>\n",
       "    <tr style=\"text-align: right;\">\n",
       "      <th></th>\n",
       "      <th>DAYL_AVG</th>\n",
       "      <th>PREC_AVG</th>\n",
       "      <th>SRAD_AVG</th>\n",
       "      <th>SWE_AVG</th>\n",
       "      <th>TMAX_AVG</th>\n",
       "      <th>TMIN_AVG</th>\n",
       "      <th>VP_AVG</th>\n",
       "      <th>DAY_NUM_STD</th>\n",
       "      <th>DAYL_STD</th>\n",
       "      <th>PREC_STD</th>\n",
       "      <th>SRAD_STD</th>\n",
       "      <th>SWE_STD</th>\n",
       "      <th>TMAX_STD</th>\n",
       "      <th>TMIN_STD</th>\n",
       "      <th>VP_STD</th>\n",
       "    </tr>\n",
       "    <tr>\n",
       "      <th>ENV_ID</th>\n",
       "      <th></th>\n",
       "      <th></th>\n",
       "      <th></th>\n",
       "      <th></th>\n",
       "      <th></th>\n",
       "      <th></th>\n",
       "      <th></th>\n",
       "      <th></th>\n",
       "      <th></th>\n",
       "      <th></th>\n",
       "      <th></th>\n",
       "      <th></th>\n",
       "      <th></th>\n",
       "      <th></th>\n",
       "      <th></th>\n",
       "    </tr>\n",
       "  </thead>\n",
       "  <tbody>\n",
       "    <tr>\n",
       "      <th>Env_1</th>\n",
       "      <td>43200.000043</td>\n",
       "      <td>1.684932</td>\n",
       "      <td>276.111781</td>\n",
       "      <td>11.167123</td>\n",
       "      <td>8.093151</td>\n",
       "      <td>-3.256164</td>\n",
       "      <td>630.356164</td>\n",
       "      <td>105.510663</td>\n",
       "      <td>10075.200862</td>\n",
       "      <td>4.544882</td>\n",
       "      <td>131.085275</td>\n",
       "      <td>16.046875</td>\n",
       "      <td>14.926959</td>\n",
       "      <td>13.574307</td>\n",
       "      <td>535.634711</td>\n",
       "    </tr>\n",
       "    <tr>\n",
       "      <th>Env_10</th>\n",
       "      <td>43200.946768</td>\n",
       "      <td>3.079452</td>\n",
       "      <td>294.978630</td>\n",
       "      <td>19.868493</td>\n",
       "      <td>12.095890</td>\n",
       "      <td>2.241096</td>\n",
       "      <td>874.191781</td>\n",
       "      <td>105.510663</td>\n",
       "      <td>8183.382184</td>\n",
       "      <td>5.974924</td>\n",
       "      <td>134.977729</td>\n",
       "      <td>31.810984</td>\n",
       "      <td>11.625704</td>\n",
       "      <td>9.839269</td>\n",
       "      <td>559.526111</td>\n",
       "    </tr>\n",
       "    <tr>\n",
       "      <th>Env_100</th>\n",
       "      <td>43200.000070</td>\n",
       "      <td>2.901370</td>\n",
       "      <td>296.714521</td>\n",
       "      <td>20.679452</td>\n",
       "      <td>12.616438</td>\n",
       "      <td>0.632877</td>\n",
       "      <td>820.054795</td>\n",
       "      <td>105.510663</td>\n",
       "      <td>8795.413435</td>\n",
       "      <td>7.152662</td>\n",
       "      <td>119.593751</td>\n",
       "      <td>30.413609</td>\n",
       "      <td>12.877466</td>\n",
       "      <td>12.410814</td>\n",
       "      <td>614.102577</td>\n",
       "    </tr>\n",
       "    <tr>\n",
       "      <th>Env_1000</th>\n",
       "      <td>43200.946854</td>\n",
       "      <td>2.000000</td>\n",
       "      <td>352.368219</td>\n",
       "      <td>0.997260</td>\n",
       "      <td>18.323288</td>\n",
       "      <td>2.883562</td>\n",
       "      <td>824.876712</td>\n",
       "      <td>105.510663</td>\n",
       "      <td>6955.702533</td>\n",
       "      <td>6.970897</td>\n",
       "      <td>111.010912</td>\n",
       "      <td>2.447805</td>\n",
       "      <td>11.374718</td>\n",
       "      <td>10.219944</td>\n",
       "      <td>674.104452</td>\n",
       "    </tr>\n",
       "    <tr>\n",
       "      <th>Env_1001</th>\n",
       "      <td>43200.946854</td>\n",
       "      <td>2.561644</td>\n",
       "      <td>341.681097</td>\n",
       "      <td>2.443836</td>\n",
       "      <td>17.701370</td>\n",
       "      <td>2.924658</td>\n",
       "      <td>862.246575</td>\n",
       "      <td>105.510663</td>\n",
       "      <td>6955.702533</td>\n",
       "      <td>8.697269</td>\n",
       "      <td>112.386846</td>\n",
       "      <td>5.729262</td>\n",
       "      <td>11.039508</td>\n",
       "      <td>10.119774</td>\n",
       "      <td>629.404388</td>\n",
       "    </tr>\n",
       "  </tbody>\n",
       "</table>\n",
       "</div>"
      ],
      "text/plain": [
       "              DAYL_AVG  PREC_AVG    SRAD_AVG    SWE_AVG   TMAX_AVG  TMIN_AVG  \\\n",
       "ENV_ID                                                                         \n",
       "Env_1     43200.000043  1.684932  276.111781  11.167123   8.093151 -3.256164   \n",
       "Env_10    43200.946768  3.079452  294.978630  19.868493  12.095890  2.241096   \n",
       "Env_100   43200.000070  2.901370  296.714521  20.679452  12.616438  0.632877   \n",
       "Env_1000  43200.946854  2.000000  352.368219   0.997260  18.323288  2.883562   \n",
       "Env_1001  43200.946854  2.561644  341.681097   2.443836  17.701370  2.924658   \n",
       "\n",
       "              VP_AVG  DAY_NUM_STD      DAYL_STD  PREC_STD    SRAD_STD  \\\n",
       "ENV_ID                                                                  \n",
       "Env_1     630.356164   105.510663  10075.200862  4.544882  131.085275   \n",
       "Env_10    874.191781   105.510663   8183.382184  5.974924  134.977729   \n",
       "Env_100   820.054795   105.510663   8795.413435  7.152662  119.593751   \n",
       "Env_1000  824.876712   105.510663   6955.702533  6.970897  111.010912   \n",
       "Env_1001  862.246575   105.510663   6955.702533  8.697269  112.386846   \n",
       "\n",
       "            SWE_STD   TMAX_STD   TMIN_STD      VP_STD  \n",
       "ENV_ID                                                 \n",
       "Env_1     16.046875  14.926959  13.574307  535.634711  \n",
       "Env_10    31.810984  11.625704   9.839269  559.526111  \n",
       "Env_100   30.413609  12.877466  12.410814  614.102577  \n",
       "Env_1000   2.447805  11.374718  10.219944  674.104452  \n",
       "Env_1001   5.729262  11.039508  10.119774  629.404388  "
      ]
     },
     "execution_count": 63,
     "metadata": {},
     "output_type": "execute_result"
    }
   ],
   "source": [
    "weather_data_grouped_mean = weather_data.groupby(by='ENV_ID').mean()\n",
    "weather_data_grouped_std = weather_data.groupby(by='ENV_ID').std()\n",
    "weather_data_grouped_mean.head()\n",
    "weather_data_grouped_std.head()\n",
    "weather_data_grouped = weather_data_grouped_mean.join(weather_data_grouped_std,\n",
    "                                                      lsuffix='_AVG',\n",
    "                                                     rsuffix='_STD')\n",
    "weather_data_grouped = weather_data_grouped.drop('DAY_NUM_AVG',axis=1)\n",
    "weather_data_grouped.head()"
   ]
  },
  {
   "cell_type": "markdown",
   "metadata": {},
   "source": [
    "## Joining performance and weather data"
   ]
  },
  {
   "cell_type": "code",
   "execution_count": 213,
   "metadata": {},
   "outputs": [
    {
     "data": {
      "text/html": [
       "<div>\n",
       "<style scoped>\n",
       "    .dataframe tbody tr th:only-of-type {\n",
       "        vertical-align: middle;\n",
       "    }\n",
       "\n",
       "    .dataframe tbody tr th {\n",
       "        vertical-align: top;\n",
       "    }\n",
       "\n",
       "    .dataframe thead th {\n",
       "        text-align: right;\n",
       "    }\n",
       "</style>\n",
       "<table border=\"1\" class=\"dataframe\">\n",
       "  <thead>\n",
       "    <tr style=\"text-align: right;\">\n",
       "      <th></th>\n",
       "      <th>HYBRID_ID</th>\n",
       "      <th>ENV_ID</th>\n",
       "      <th>YIELD</th>\n",
       "      <th>TMAX_AVG</th>\n",
       "      <th>TMAX_STD</th>\n",
       "      <th>TMIN_AVG</th>\n",
       "      <th>TMIN_STD</th>\n",
       "      <th>DAYL_AVG</th>\n",
       "      <th>DAYL_STD</th>\n",
       "      <th>SRAD_AVG</th>\n",
       "      <th>SRAD_STD</th>\n",
       "    </tr>\n",
       "  </thead>\n",
       "  <tbody>\n",
       "    <tr>\n",
       "      <th>0</th>\n",
       "      <td>H2782</td>\n",
       "      <td>Env_1</td>\n",
       "      <td>107.9577</td>\n",
       "      <td>8.093151</td>\n",
       "      <td>14.926959</td>\n",
       "      <td>-3.256164</td>\n",
       "      <td>13.574307</td>\n",
       "      <td>43200.000043</td>\n",
       "      <td>10075.200862</td>\n",
       "      <td>276.111781</td>\n",
       "      <td>131.085275</td>\n",
       "    </tr>\n",
       "    <tr>\n",
       "      <th>1</th>\n",
       "      <td>H2782</td>\n",
       "      <td>Env_2</td>\n",
       "      <td>85.7498</td>\n",
       "      <td>8.178082</td>\n",
       "      <td>14.860702</td>\n",
       "      <td>-3.290411</td>\n",
       "      <td>13.446089</td>\n",
       "      <td>43200.000054</td>\n",
       "      <td>10001.326165</td>\n",
       "      <td>278.706849</td>\n",
       "      <td>130.288514</td>\n",
       "    </tr>\n",
       "    <tr>\n",
       "      <th>2</th>\n",
       "      <td>H2240</td>\n",
       "      <td>Env_3</td>\n",
       "      <td>74.6116</td>\n",
       "      <td>9.805479</td>\n",
       "      <td>14.311170</td>\n",
       "      <td>-1.224658</td>\n",
       "      <td>12.901740</td>\n",
       "      <td>43200.000054</td>\n",
       "      <td>10001.326165</td>\n",
       "      <td>274.112876</td>\n",
       "      <td>122.067104</td>\n",
       "    </tr>\n",
       "    <tr>\n",
       "      <th>3</th>\n",
       "      <td>H1527</td>\n",
       "      <td>Env_3</td>\n",
       "      <td>83.8191</td>\n",
       "      <td>9.805479</td>\n",
       "      <td>14.311170</td>\n",
       "      <td>-1.224658</td>\n",
       "      <td>12.901740</td>\n",
       "      <td>43200.000054</td>\n",
       "      <td>10001.326165</td>\n",
       "      <td>274.112876</td>\n",
       "      <td>122.067104</td>\n",
       "    </tr>\n",
       "    <tr>\n",
       "      <th>4</th>\n",
       "      <td>H1369</td>\n",
       "      <td>Env_3</td>\n",
       "      <td>81.7917</td>\n",
       "      <td>9.805479</td>\n",
       "      <td>14.311170</td>\n",
       "      <td>-1.224658</td>\n",
       "      <td>12.901740</td>\n",
       "      <td>43200.000054</td>\n",
       "      <td>10001.326165</td>\n",
       "      <td>274.112876</td>\n",
       "      <td>122.067104</td>\n",
       "    </tr>\n",
       "  </tbody>\n",
       "</table>\n",
       "</div>"
      ],
      "text/plain": [
       "  HYBRID_ID ENV_ID     YIELD  TMAX_AVG   TMAX_STD  TMIN_AVG   TMIN_STD  \\\n",
       "0     H2782  Env_1  107.9577  8.093151  14.926959 -3.256164  13.574307   \n",
       "1     H2782  Env_2   85.7498  8.178082  14.860702 -3.290411  13.446089   \n",
       "2     H2240  Env_3   74.6116  9.805479  14.311170 -1.224658  12.901740   \n",
       "3     H1527  Env_3   83.8191  9.805479  14.311170 -1.224658  12.901740   \n",
       "4     H1369  Env_3   81.7917  9.805479  14.311170 -1.224658  12.901740   \n",
       "\n",
       "       DAYL_AVG      DAYL_STD    SRAD_AVG    SRAD_STD  \n",
       "0  43200.000043  10075.200862  276.111781  131.085275  \n",
       "1  43200.000054  10001.326165  278.706849  130.288514  \n",
       "2  43200.000054  10001.326165  274.112876  122.067104  \n",
       "3  43200.000054  10001.326165  274.112876  122.067104  \n",
       "4  43200.000054  10001.326165  274.112876  122.067104  "
      ]
     },
     "execution_count": 213,
     "metadata": {},
     "output_type": "execute_result"
    }
   ],
   "source": [
    "joined_df = performance_data.join(weather_data_grouped,on='ENV_ID')\n",
    "joined_df.head()\n",
    "joined_df.columns\n",
    "\n",
    "heat_stress_df = joined_df[['HYBRID_ID','ENV_ID', 'YIELD', 'TMAX_AVG','TMAX_STD',\n",
    "                            'TMIN_AVG','TMIN_STD','DAYL_AVG','DAYL_STD',\n",
    "                           'SRAD_AVG','SRAD_STD']]\n",
    "drought_stress_df = joined_df[['HYBRID_ID','ENV_ID','YIELD','PREC_AVG','PREC_STD','KSAT', #removed 'IRRIGATION\n",
    "                              'SWE_AVG','SWE_STD','VP_AVG','VP_STD','AWC']]\n",
    "#drought_stress_df['IRRIGATION'].unique()\n",
    "heat_stress_df.head()"
   ]
  },
  {
   "cell_type": "markdown",
   "metadata": {},
   "source": [
    "## Decision Tree Regressor\n",
    "#### Heat stress\n",
    "#### Drought stress"
   ]
  },
  {
   "cell_type": "code",
   "execution_count": 214,
   "metadata": {},
   "outputs": [
    {
     "name": "stdout",
     "output_type": "stream",
     "text": [
      "Training R-Square(Heat Stress): 0.6142\n",
      "Testing R-Square(Heat Stress): 0.6053\n"
     ]
    }
   ],
   "source": [
    "from sklearn.model_selection import train_test_split\n",
    "from sklearn.tree import DecisionTreeRegressor\n",
    "from sklearn import tree\n",
    "\n",
    "#heat stress\n",
    "train_h, test_h = train_test_split(heat_stress_df, test_size = 0.2)\n",
    "x_train_h = train_h.iloc[:, 3:]\n",
    "y_train_h = train_h['YIELD']\n",
    "x_test_h = test_h.iloc[:, 3:]\n",
    "y_test_h = test_h['YIELD']\n",
    "\n",
    "#model\n",
    "model_h = tree.DecisionTreeRegressor(max_depth=20)\n",
    "model_h.fit(x_train_h,y_train_h)\n",
    "\n",
    "#model quality\n",
    "print(f\"Training R-Square(Heat Stress): {model_h.score(x_train_h,y_train_h):.4}\")\n",
    "print(f\"Testing R-Square(Heat Stress): {model_h.score(x_test_h,y_test_h):.4}\")"
   ]
  },
  {
   "cell_type": "code",
   "execution_count": 215,
   "metadata": {},
   "outputs": [
    {
     "name": "stdout",
     "output_type": "stream",
     "text": [
      "Training R-Square(Drought Stress): 0.6214\n",
      "Testing R-Square(Drought Stress): 0.6197\n"
     ]
    }
   ],
   "source": [
    "#drought stress\n",
    "train_d, test_d = train_test_split(drought_stress_df, test_size = 0.2)\n",
    "x_train_d = train_d.iloc[:, 3:]\n",
    "y_train_d = train_d['YIELD']\n",
    "x_test_d = test_d.iloc[:, 3:]\n",
    "y_test_d = test_d['YIELD']\n",
    "\n",
    "#model\n",
    "model_d = tree.DecisionTreeRegressor(max_depth=20)\n",
    "model_d.fit(x_train_d,y_train_d)\n",
    "\n",
    "#model quality\n",
    "print(f\"Training R-Square(Drought Stress): {model_d.score(x_train_d,y_train_d):.4}\")\n",
    "print(f\"Testing R-Square(Drought Stress): {model_d.score(x_test_d,y_test_d):.4}\")"
   ]
  },
  {
   "cell_type": "code",
   "execution_count": 216,
   "metadata": {},
   "outputs": [
    {
     "data": {
      "text/plain": [
       "Index(['HYBRID_ID', 'ENV_ID', 'YIELD', 'TMAX_AVG', 'TMAX_STD', 'TMIN_AVG',\n",
       "       'TMIN_STD', 'DAYL_AVG', 'DAYL_STD', 'SRAD_AVG', 'SRAD_STD'],\n",
       "      dtype='object')"
      ]
     },
     "execution_count": 216,
     "metadata": {},
     "output_type": "execute_result"
    }
   ],
   "source": [
    "heat_stress_df.columns"
   ]
  },
  {
   "cell_type": "markdown",
   "metadata": {},
   "source": [
    "#### Feature Importances "
   ]
  },
  {
   "cell_type": "code",
   "execution_count": 217,
   "metadata": {},
   "outputs": [
    {
     "data": {
      "text/plain": [
       "{'DAYL_AVG': 0.07076781906931455,\n",
       " 'DAYL_STD': 0.1419752303918366,\n",
       " 'SRAD_AVG': 0.22689459600374295,\n",
       " 'SRAD_STD': 0.08022771075898637,\n",
       " 'TMAX_AVG': 0.1334852840994806,\n",
       " 'TMAX_STD': 0.11328643922584683,\n",
       " 'TMIN_AVG': 0.09318407171013852,\n",
       " 'TMIN_STD': 0.14017884874065345}"
      ]
     },
     "execution_count": 217,
     "metadata": {},
     "output_type": "execute_result"
    }
   ],
   "source": [
    "#ADD\n",
    "#weights for heat model\n",
    "test_h_param = ['TMAX_AVG','TMAX_STD', 'TMIN_AVG','TMIN_STD','DAYL_AVG','DAYL_STD', 'SRAD_AVG','SRAD_STD']\n",
    "weights_h = list(model_d.feature_importances_)\n",
    "features_h = dict(zip(test_h_param, weights_h))\n",
    "features_h"
   ]
  },
  {
   "cell_type": "code",
   "execution_count": 103,
   "metadata": {},
   "outputs": [
    {
     "data": {
      "text/plain": [
       "{'AWC': 0.07635892488787693,\n",
       " 'KSAT': 0.06975530101366316,\n",
       " 'PREC_AVG': 0.13805741350994546,\n",
       " 'PREC_STD': 0.13499318190202692,\n",
       " 'SWE_AVG': 0.1309727228594805,\n",
       " 'SWE_STD': 0.07857671973574108,\n",
       " 'VP_AVG': 0.15888379604162034,\n",
       " 'VP_STD': 0.21240194004964558}"
      ]
     },
     "execution_count": 103,
     "metadata": {},
     "output_type": "execute_result"
    }
   ],
   "source": [
    "#ADD\n",
    "#weights for drought model\n",
    "test_d_param = ['PREC_AVG','PREC_STD','KSAT','SWE_AVG','SWE_STD','VP_AVG','VP_STD','AWC']\n",
    "weights_d = list(model_d.feature_importances_)\n",
    "features_d = dict(zip(test_d_param, weights_d))\n",
    "features_d"
   ]
  },
  {
   "cell_type": "code",
   "execution_count": 218,
   "metadata": {},
   "outputs": [
    {
     "name": "stderr",
     "output_type": "stream",
     "text": [
      "/anaconda3/lib/python3.6/site-packages/matplotlib/cbook/deprecation.py:106: MatplotlibDeprecationWarning: Adding an axes using the same arguments as a previous axes currently reuses the earlier instance.  In a future version, a new instance will always be created and returned.  Meanwhile, this warning can be suppressed, and the future behavior ensured, by passing a unique label to each axes instance.\n",
      "  warnings.warn(message, mplDeprecation, stacklevel=1)\n"
     ]
    },
    {
     "data": {
      "text/plain": [
       "Text(0.5,0,'Relative Importance')"
      ]
     },
     "execution_count": 218,
     "metadata": {},
     "output_type": "execute_result"
    },
    {
     "data": {
      "image/png": "[encoded data removed]",
      "text/plain": [
       "<matplotlib.figure.Figure at 0x13801a278>"
      ]
     },
     "metadata": {},
     "output_type": "display_data"
    },
    {
     "data": {
      "image/png": "[encoded data removed]",
      "text/plain": [
       "<matplotlib.figure.Figure at 0x126f76da0>"
      ]
     },
     "metadata": {},
     "output_type": "display_data"
    }
   ],
   "source": [
    "#ADD\n",
    "feature_names_h = [key_h for key_h in heat_stress_df.iloc[:,3:]]\n",
    "#relative importance heat stress\n",
    "import matplotlib.pyplot as plt\n",
    "%matplotlib inline\n",
    "importances = model_h.feature_importances_\n",
    "indices = np.argsort(importances)\n",
    "#plt.subplot(1, 1, 1)\n",
    "plt.figure(figsize=(5,5))\n",
    "plt.title('Heat Stress Feature Importances')\n",
    "plt.barh(range(len(indices)), importances[indices], color='b', align='center')\n",
    "plt.yticks(range(len(indices)),feature_names_h)\n",
    "plt.xlabel('Relative Importance')\n",
    "\n",
    "feature_names_d = [key_d for key_d in drought_stress_df.iloc[:,3:]]\n",
    "#relative importance drought stress\n",
    "plt.subplot(1, 1, 1)\n",
    "importances = model_d.feature_importances_\n",
    "indices = np.argsort(importances)\n",
    "plt.figure(figsize=(5,5))\n",
    "plt.title('Drought Stress Feature Importances')\n",
    "plt.barh(range(len(indices)), importances[indices], color='b', align='center')\n",
    "plt.yticks(range(len(indices)),feature_names_d)\n",
    "plt.xlabel('Relative Importance')"
   ]
  },
  {
   "cell_type": "markdown",
   "metadata": {},
   "source": [
    "#### Prediction (heat)"
   ]
  },
  {
   "cell_type": "code",
   "execution_count": 234,
   "metadata": {},
   "outputs": [
    {
     "data": {
      "text/html": [
       "<div>\n",
       "<style scoped>\n",
       "    .dataframe tbody tr th:only-of-type {\n",
       "        vertical-align: middle;\n",
       "    }\n",
       "\n",
       "    .dataframe tbody tr th {\n",
       "        vertical-align: top;\n",
       "    }\n",
       "\n",
       "    .dataframe thead th {\n",
       "        text-align: right;\n",
       "    }\n",
       "</style>\n",
       "<table border=\"1\" class=\"dataframe\">\n",
       "  <thead>\n",
       "    <tr style=\"text-align: right;\">\n",
       "      <th></th>\n",
       "      <th>HYBRID_ID</th>\n",
       "      <th>ENV_ID</th>\n",
       "      <th>HYBRID_MG</th>\n",
       "      <th>ENV_MG</th>\n",
       "      <th>YIELD</th>\n",
       "      <th>YEAR</th>\n",
       "      <th>LAT</th>\n",
       "      <th>LONG</th>\n",
       "      <th>PLANT_DATE</th>\n",
       "      <th>HARVEST_DATE</th>\n",
       "      <th>...</th>\n",
       "      <th>TMAX_STD</th>\n",
       "      <th>TMIN_STD</th>\n",
       "      <th>VP_STD</th>\n",
       "      <th>prediction_h</th>\n",
       "      <th>model_h_delta</th>\n",
       "      <th>predicted_d</th>\n",
       "      <th>model_d_delta</th>\n",
       "      <th>d_resiliency</th>\n",
       "      <th>h_resiliency</th>\n",
       "      <th>predicted_h</th>\n",
       "    </tr>\n",
       "  </thead>\n",
       "  <tbody>\n",
       "    <tr>\n",
       "      <th>0</th>\n",
       "      <td>H2782</td>\n",
       "      <td>Env_1</td>\n",
       "      <td>0</td>\n",
       "      <td>0</td>\n",
       "      <td>107.9577</td>\n",
       "      <td>2008</td>\n",
       "      <td>49.5</td>\n",
       "      <td>-98.0</td>\n",
       "      <td>2008-05-06</td>\n",
       "      <td>2008-11-03</td>\n",
       "      <td>...</td>\n",
       "      <td>14.926959</td>\n",
       "      <td>13.574307</td>\n",
       "      <td>535.634711</td>\n",
       "      <td>107.957700</td>\n",
       "      <td>0.000000</td>\n",
       "      <td>107.957700</td>\n",
       "      <td>0.000000</td>\n",
       "      <td>0.000000</td>\n",
       "      <td>0.000000</td>\n",
       "      <td>107.957700</td>\n",
       "    </tr>\n",
       "    <tr>\n",
       "      <th>1</th>\n",
       "      <td>H2782</td>\n",
       "      <td>Env_2</td>\n",
       "      <td>0</td>\n",
       "      <td>0</td>\n",
       "      <td>85.7498</td>\n",
       "      <td>2008</td>\n",
       "      <td>49.3</td>\n",
       "      <td>-98.1</td>\n",
       "      <td>2008-05-14</td>\n",
       "      <td>2008-10-22</td>\n",
       "      <td>...</td>\n",
       "      <td>14.860702</td>\n",
       "      <td>13.446089</td>\n",
       "      <td>528.588280</td>\n",
       "      <td>85.749800</td>\n",
       "      <td>0.000000</td>\n",
       "      <td>85.749800</td>\n",
       "      <td>0.000000</td>\n",
       "      <td>0.000000</td>\n",
       "      <td>0.000000</td>\n",
       "      <td>85.749800</td>\n",
       "    </tr>\n",
       "    <tr>\n",
       "      <th>2</th>\n",
       "      <td>H2240</td>\n",
       "      <td>Env_3</td>\n",
       "      <td>0</td>\n",
       "      <td>0</td>\n",
       "      <td>74.6116</td>\n",
       "      <td>2011</td>\n",
       "      <td>49.3</td>\n",
       "      <td>-98.0</td>\n",
       "      <td>2011-05-17</td>\n",
       "      <td>2011-10-17</td>\n",
       "      <td>...</td>\n",
       "      <td>14.311170</td>\n",
       "      <td>12.901740</td>\n",
       "      <td>585.217198</td>\n",
       "      <td>81.192375</td>\n",
       "      <td>-6.580775</td>\n",
       "      <td>80.256567</td>\n",
       "      <td>-5.644967</td>\n",
       "      <td>-0.048804</td>\n",
       "      <td>-0.056748</td>\n",
       "      <td>81.192375</td>\n",
       "    </tr>\n",
       "    <tr>\n",
       "      <th>3</th>\n",
       "      <td>H1527</td>\n",
       "      <td>Env_3</td>\n",
       "      <td>0</td>\n",
       "      <td>0</td>\n",
       "      <td>83.8191</td>\n",
       "      <td>2011</td>\n",
       "      <td>49.3</td>\n",
       "      <td>-98.0</td>\n",
       "      <td>2011-05-17</td>\n",
       "      <td>2011-10-17</td>\n",
       "      <td>...</td>\n",
       "      <td>14.311170</td>\n",
       "      <td>12.901740</td>\n",
       "      <td>585.217198</td>\n",
       "      <td>81.192375</td>\n",
       "      <td>2.626725</td>\n",
       "      <td>80.256567</td>\n",
       "      <td>3.562533</td>\n",
       "      <td>0.030800</td>\n",
       "      <td>0.022651</td>\n",
       "      <td>81.192375</td>\n",
       "    </tr>\n",
       "    <tr>\n",
       "      <th>4</th>\n",
       "      <td>H1369</td>\n",
       "      <td>Env_3</td>\n",
       "      <td>0</td>\n",
       "      <td>0</td>\n",
       "      <td>81.7917</td>\n",
       "      <td>2011</td>\n",
       "      <td>49.3</td>\n",
       "      <td>-98.0</td>\n",
       "      <td>2011-05-17</td>\n",
       "      <td>2011-10-17</td>\n",
       "      <td>...</td>\n",
       "      <td>14.311170</td>\n",
       "      <td>12.901740</td>\n",
       "      <td>585.217198</td>\n",
       "      <td>81.192375</td>\n",
       "      <td>0.599325</td>\n",
       "      <td>80.256567</td>\n",
       "      <td>1.535133</td>\n",
       "      <td>0.013272</td>\n",
       "      <td>0.005168</td>\n",
       "      <td>81.192375</td>\n",
       "    </tr>\n",
       "  </tbody>\n",
       "</table>\n",
       "<p>5 rows × 44 columns</p>\n",
       "</div>"
      ],
      "text/plain": [
       "  HYBRID_ID ENV_ID  HYBRID_MG  ENV_MG     YIELD  YEAR   LAT  LONG  PLANT_DATE  \\\n",
       "0     H2782  Env_1          0       0  107.9577  2008  49.5 -98.0  2008-05-06   \n",
       "1     H2782  Env_2          0       0   85.7498  2008  49.3 -98.1  2008-05-14   \n",
       "2     H2240  Env_3          0       0   74.6116  2011  49.3 -98.0  2011-05-17   \n",
       "3     H1527  Env_3          0       0   83.8191  2011  49.3 -98.0  2011-05-17   \n",
       "4     H1369  Env_3          0       0   81.7917  2011  49.3 -98.0  2011-05-17   \n",
       "\n",
       "  HARVEST_DATE     ...        TMAX_STD   TMIN_STD      VP_STD  prediction_h  \\\n",
       "0   2008-11-03     ...       14.926959  13.574307  535.634711    107.957700   \n",
       "1   2008-10-22     ...       14.860702  13.446089  528.588280     85.749800   \n",
       "2   2011-10-17     ...       14.311170  12.901740  585.217198     81.192375   \n",
       "3   2011-10-17     ...       14.311170  12.901740  585.217198     81.192375   \n",
       "4   2011-10-17     ...       14.311170  12.901740  585.217198     81.192375   \n",
       "\n",
       "   model_h_delta  predicted_d  model_d_delta  d_resiliency  h_resiliency  \\\n",
       "0       0.000000   107.957700       0.000000      0.000000      0.000000   \n",
       "1       0.000000    85.749800       0.000000      0.000000      0.000000   \n",
       "2      -6.580775    80.256567      -5.644967     -0.048804     -0.056748   \n",
       "3       2.626725    80.256567       3.562533      0.030800      0.022651   \n",
       "4       0.599325    80.256567       1.535133      0.013272      0.005168   \n",
       "\n",
       "   predicted_h  \n",
       "0   107.957700  \n",
       "1    85.749800  \n",
       "2    81.192375  \n",
       "3    81.192375  \n",
       "4    81.192375  \n",
       "\n",
       "[5 rows x 44 columns]"
      ]
     },
     "execution_count": 234,
     "metadata": {},
     "output_type": "execute_result"
    }
   ],
   "source": [
    "#ADD\n",
    "#predicted yield based on heat stress related values\n",
    "\n",
    "joined_df['predicted_h'] = model_h.predict(joined_df[['TMAX_AVG','TMAX_STD',\n",
    "                                                      'TMIN_AVG', 'TMIN_STD', \n",
    "                                                      'DAYL_AVG','DAYL_STD', \n",
    "                                                      'SRAD_AVG','SRAD_STD']])\n",
    "joined_df['model_h_delta'] = (joined_df['YIELD'] - joined_df['prediction_h'])\n",
    "divisor_h = 115.96558371559628\n",
    "\n",
    "joined_df['h_resiliency'] = joined_df['model_h_delta']/ divisor_h\n",
    "joined_df.head()"
   ]
  },
  {
   "cell_type": "code",
   "execution_count": 247,
   "metadata": {},
   "outputs": [
    {
     "data": {
      "text/html": [
       "<div>\n",
       "<style scoped>\n",
       "    .dataframe tbody tr th:only-of-type {\n",
       "        vertical-align: middle;\n",
       "    }\n",
       "\n",
       "    .dataframe tbody tr th {\n",
       "        vertical-align: top;\n",
       "    }\n",
       "\n",
       "    .dataframe thead th {\n",
       "        text-align: right;\n",
       "    }\n",
       "</style>\n",
       "<table border=\"1\" class=\"dataframe\">\n",
       "  <thead>\n",
       "    <tr style=\"text-align: right;\">\n",
       "      <th></th>\n",
       "      <th>YIELD</th>\n",
       "      <th>predicted_h</th>\n",
       "      <th>model_h_delta</th>\n",
       "      <th>predicted_d</th>\n",
       "      <th>model_d_delta</th>\n",
       "      <th>d_resiliency</th>\n",
       "      <th>h_resiliency</th>\n",
       "    </tr>\n",
       "    <tr>\n",
       "      <th>HYBRID_ID</th>\n",
       "      <th></th>\n",
       "      <th></th>\n",
       "      <th></th>\n",
       "      <th></th>\n",
       "      <th></th>\n",
       "      <th></th>\n",
       "      <th></th>\n",
       "    </tr>\n",
       "  </thead>\n",
       "  <tbody>\n",
       "    <tr>\n",
       "      <th>H3901</th>\n",
       "      <td>147.417817</td>\n",
       "      <td>133.661091</td>\n",
       "      <td>13.756725</td>\n",
       "      <td>133.809836</td>\n",
       "      <td>13.607981</td>\n",
       "      <td>0.117648</td>\n",
       "      <td>0.118628</td>\n",
       "    </tr>\n",
       "    <tr>\n",
       "      <th>H1544</th>\n",
       "      <td>141.721321</td>\n",
       "      <td>128.562907</td>\n",
       "      <td>13.158414</td>\n",
       "      <td>128.646520</td>\n",
       "      <td>13.074801</td>\n",
       "      <td>0.113038</td>\n",
       "      <td>0.113468</td>\n",
       "    </tr>\n",
       "    <tr>\n",
       "      <th>H3931</th>\n",
       "      <td>150.016557</td>\n",
       "      <td>137.884474</td>\n",
       "      <td>12.132083</td>\n",
       "      <td>137.210777</td>\n",
       "      <td>12.805780</td>\n",
       "      <td>0.110713</td>\n",
       "      <td>0.104618</td>\n",
       "    </tr>\n",
       "    <tr>\n",
       "      <th>H4015</th>\n",
       "      <td>146.880695</td>\n",
       "      <td>134.032568</td>\n",
       "      <td>12.848127</td>\n",
       "      <td>134.100973</td>\n",
       "      <td>12.779722</td>\n",
       "      <td>0.110487</td>\n",
       "      <td>0.110793</td>\n",
       "    </tr>\n",
       "    <tr>\n",
       "      <th>H2722</th>\n",
       "      <td>124.433900</td>\n",
       "      <td>111.951599</td>\n",
       "      <td>12.482301</td>\n",
       "      <td>111.897094</td>\n",
       "      <td>12.536806</td>\n",
       "      <td>0.108387</td>\n",
       "      <td>0.107638</td>\n",
       "    </tr>\n",
       "  </tbody>\n",
       "</table>\n",
       "</div>"
      ],
      "text/plain": [
       "                YIELD  predicted_h  model_h_delta  predicted_d  model_d_delta  \\\n",
       "HYBRID_ID                                                                       \n",
       "H3901      147.417817   133.661091      13.756725   133.809836      13.607981   \n",
       "H1544      141.721321   128.562907      13.158414   128.646520      13.074801   \n",
       "H3931      150.016557   137.884474      12.132083   137.210777      12.805780   \n",
       "H4015      146.880695   134.032568      12.848127   134.100973      12.779722   \n",
       "H2722      124.433900   111.951599      12.482301   111.897094      12.536806   \n",
       "\n",
       "           d_resiliency  h_resiliency  \n",
       "HYBRID_ID                              \n",
       "H3901          0.117648      0.118628  \n",
       "H1544          0.113038      0.113468  \n",
       "H3931          0.110713      0.104618  \n",
       "H4015          0.110487      0.110793  \n",
       "H2722          0.108387      0.107638  "
      ]
     },
     "execution_count": 247,
     "metadata": {},
     "output_type": "execute_result"
    }
   ],
   "source": [
    "#ADD\n",
    "#group by 'HYBRID_ID'\n",
    "grouped_hybrid = joined_df[['HYBRID_ID', 'YIELD', 'predicted_h',\n",
    "                           'model_h_delta', 'predicted_d', 'model_d_delta', \n",
    "                           'd_resiliency', 'h_resiliency']].groupby('HYBRID_ID').mean()\n",
    "sorted_g_hybrid = grouped_hybrid.sort_values(['d_resiliency', 'h_resiliency'], ascending=False)\n",
    "\n",
    "sorted_g_hybrid.head()"
   ]
  },
  {
   "cell_type": "markdown",
   "metadata": {},
   "source": [
    "### Graphacical relationship between observed average yield per hybrid and drought resiliency"
   ]
  },
  {
   "cell_type": "code",
   "execution_count": 350,
   "metadata": {},
   "outputs": [
    {
     "name": "stderr",
     "output_type": "stream",
     "text": [
      "/anaconda3/lib/python3.6/site-packages/scipy/stats/stats.py:1706: FutureWarning: Using a non-tuple sequence for multidimensional indexing is deprecated; use `arr[tuple(seq)]` instead of `arr[seq]`. In the future this will be interpreted as an array index, `arr[np.array(seq)]`, which will result either in an error or a different result.\n",
      "  return np.add.reduce(sorted[indexer] * weights, axis=axis) / sumval\n"
     ]
    },
    {
     "data": {
      "image/png": "[encoded data removed]",
      "text/plain": [
       "<matplotlib.figure.Figure at 0x12a639390>"
      ]
     },
     "metadata": {},
     "output_type": "display_data"
    }
   ],
   "source": [
    "#ADD\n",
    "import seaborn as sns\n",
    "sns.set(color_codes=True)\n",
    "#D_res = sns.load_dataset(sorted_g_hybrid[['d_resiliency', 'YIELD']])\n",
    "ax = sns.regplot(x=sorted_g_hybrid['d_resiliency'], y=sorted_g_hybrid['YIELD'])"
   ]
  },
  {
   "cell_type": "markdown",
   "metadata": {},
   "source": [
    "### Graphacical relationship between observed average yield per hybrid and heat resiliency"
   ]
  },
  {
   "cell_type": "code",
   "execution_count": 349,
   "metadata": {},
   "outputs": [
    {
     "name": "stderr",
     "output_type": "stream",
     "text": [
      "/anaconda3/lib/python3.6/site-packages/scipy/stats/stats.py:1706: FutureWarning: Using a non-tuple sequence for multidimensional indexing is deprecated; use `arr[tuple(seq)]` instead of `arr[seq]`. In the future this will be interpreted as an array index, `arr[np.array(seq)]`, which will result either in an error or a different result.\n",
      "  return np.add.reduce(sorted[indexer] * weights, axis=axis) / sumval\n"
     ]
    },
    {
     "data": {
      "image/png": "[encoded data removed]",
      "text/plain": [
       "<matplotlib.figure.Figure at 0x129f8a358>"
      ]
     },
     "metadata": {},
     "output_type": "display_data"
    }
   ],
   "source": [
    "#ADD\n",
    "import seaborn as sns\n",
    "sns.set(color_codes=True)\n",
    "#D_res = sns.load_dataset(sorted_g_hybrid[['d_resiliency', 'YIELD']])\n",
    "ax = sns.regplot(x=sorted_g_hybrid['h_resiliency'], y=sorted_g_hybrid['YIELD'])"
   ]
  },
  {
   "cell_type": "markdown",
   "metadata": {},
   "source": [
    "## Combinding Drought and Heat Resilience"
   ]
  },
  {
   "cell_type": "code",
   "execution_count": 274,
   "metadata": {},
   "outputs": [
    {
     "data": {
      "text/plain": [
       "DecisionTreeRegressor(criterion='mse', max_depth=20, max_features=None,\n",
       "           max_leaf_nodes=None, min_impurity_decrease=0.0,\n",
       "           min_impurity_split=None, min_samples_leaf=1,\n",
       "           min_samples_split=2, min_weight_fraction_leaf=0.0,\n",
       "           presort=False, random_state=None, splitter='best')"
      ]
     },
     "execution_count": 274,
     "metadata": {},
     "output_type": "execute_result"
    }
   ],
   "source": [
    "#ADD\n",
    "#create decision tree model with d_resiliency and h_resiliency as x and yield as Y\n",
    "#linear tree regressor\n",
    "train_s, test_s = train_test_split(sorted_g_hybrid, test_size = 0.7)\n",
    "x_train_s = train_s.iloc[:, 5:]\n",
    "y_train_s = train_s['YIELD']\n",
    "x_test_s = test_s.iloc[:, 5:]\n",
    "y_test_s = test_s['YIELD']\n",
    "\n",
    "#model\n",
    "model_s = tree.DecisionTreeRegressor(max_depth=20)\n",
    "model_s.fit(x_train_s,y_train_s)\n",
    "\n",
    "#model quality\n",
    "#print(f\"Training R-Square(Heat Stress): {model_s.score(x_train_s,y_train_s):.4}\")\n",
    "#print(f\"Testing R-Square(Heat Stress): {model_s.score(x_test_s,y_test_s):.4}\")\n"
   ]
  },
  {
   "cell_type": "code",
   "execution_count": 275,
   "metadata": {},
   "outputs": [
    {
     "name": "stdout",
     "output_type": "stream",
     "text": [
      "[0.67948159 0.32051841]\n"
     ]
    },
    {
     "data": {
      "image/png": "[encoded data removed]",
      "text/plain": [
       "<matplotlib.figure.Figure at 0x126f29f28>"
      ]
     },
     "metadata": {},
     "output_type": "display_data"
    }
   ],
   "source": [
    "#ADD\n",
    "#feature importances - loosely speaking to model quality\n",
    "feature_names_s = [key_d for key_d in sorted_g_hybrid.iloc[:,5:]]\n",
    "importances_s = model_s.feature_importances_\n",
    "indices_s = np.argsort(importances_s)\n",
    "#create plot\n",
    "plt.figure(figsize=(5,5))\n",
    "plt.title('Heat and Drought Resilience')\n",
    "plt.barh(range(len(indices_s)), importances_s[indices_s], color='g', align='center')\n",
    "plt.yticks(range(len(indices_s)),feature_names_s)\n",
    "plt.xlabel('Relative Importance')\n",
    "\n",
    "print(importances_s)"
   ]
  },
  {
   "cell_type": "code",
   "execution_count": 337,
   "metadata": {},
   "outputs": [
    {
     "name": "stderr",
     "output_type": "stream",
     "text": [
      "/anaconda3/lib/python3.6/site-packages/scipy/stats/stats.py:1706: FutureWarning: Using a non-tuple sequence for multidimensional indexing is deprecated; use `arr[tuple(seq)]` instead of `arr[seq]`. In the future this will be interpreted as an array index, `arr[np.array(seq)]`, which will result either in an error or a different result.\n",
      "  return np.add.reduce(sorted[indexer] * weights, axis=axis) / sumval\n"
     ]
    },
    {
     "data": {
      "text/plain": [
       "count    2452.000000\n",
       "mean        0.038093\n",
       "std         0.163992\n",
       "min        -1.000000\n",
       "25%        -0.054354\n",
       "50%         0.048808\n",
       "75%         0.145309\n",
       "max         0.543034\n",
       "Name: resiliency_adj, dtype: float64"
      ]
     },
     "execution_count": 337,
     "metadata": {},
     "output_type": "execute_result"
    },
    {
     "data": {
      "image/png": "[encoded data removed]",
      "text/plain": [
       "<matplotlib.figure.Figure at 0x126edaef0>"
      ]
     },
     "metadata": {},
     "output_type": "display_data"
    }
   ],
   "source": [
    "#ADD\n",
    "#use the feature importances for the new model to weight and come up with an overall resiliency value for each Hybrid_id\n",
    "#[0.67948159 0.32051841] are the feature importance rankings for \n",
    "h_val = importances_s[0]\n",
    "d_val = importances_s[1]\n",
    "#create new combined resiliency column\n",
    "sorted_g_hybrid['resiliency'] = (sorted_g_hybrid['h_resiliency']*h_val) + (sorted_g_hybrid['d_resiliency']*d_val)\n",
    "\n",
    "#max(max, abs(min)) = 0.217875\n",
    "min_ = (sorted_g_hybrid.describe()['resiliency']['min']).astype(float)\n",
    "max_ = (sorted_g_hybrid.describe()['resiliency']['max']).astype(float)\n",
    "abs_max = abs(min_)\n",
    "if abs_max < max_:\n",
    "    abs_max = max_\n",
    "#use max abs of resiliency to adjust resiliency into a number between -1 and 1\n",
    "sorted_g_hybrid['resiliency_adj'] = sorted_g_hybrid['resiliency']/abs_max\n",
    "sorted_g_hybrid.sort_values('resiliency_adj', ascending = False)\n",
    "\n",
    "#plot\n",
    "sns.distplot(sorted_g_hybrid[['resiliency_adj']])\n",
    "(sorted_g_hybrid['resiliency_adj'].describe())"
   ]
  },
  {
   "cell_type": "markdown",
   "metadata": {},
   "source": [
    "# Most resilient hybrids"
   ]
  },
  {
   "cell_type": "code",
   "execution_count": 362,
   "metadata": {},
   "outputs": [
    {
     "data": {
      "text/html": [
       "<div>\n",
       "<style scoped>\n",
       "    .dataframe tbody tr th:only-of-type {\n",
       "        vertical-align: middle;\n",
       "    }\n",
       "\n",
       "    .dataframe tbody tr th {\n",
       "        vertical-align: top;\n",
       "    }\n",
       "\n",
       "    .dataframe thead th {\n",
       "        text-align: right;\n",
       "    }\n",
       "</style>\n",
       "<table border=\"1\" class=\"dataframe\">\n",
       "  <thead>\n",
       "    <tr style=\"text-align: right;\">\n",
       "      <th></th>\n",
       "      <th>YIELD</th>\n",
       "      <th>resiliency_adj</th>\n",
       "    </tr>\n",
       "    <tr>\n",
       "      <th>HYBRID_ID</th>\n",
       "      <th></th>\n",
       "      <th></th>\n",
       "    </tr>\n",
       "  </thead>\n",
       "  <tbody>\n",
       "    <tr>\n",
       "      <th>H3901</th>\n",
       "      <td>147.417817</td>\n",
       "      <td>0.543034</td>\n",
       "    </tr>\n",
       "    <tr>\n",
       "      <th>H1544</th>\n",
       "      <td>141.721321</td>\n",
       "      <td>0.520163</td>\n",
       "    </tr>\n",
       "    <tr>\n",
       "      <th>H3931</th>\n",
       "      <td>150.016557</td>\n",
       "      <td>0.489140</td>\n",
       "    </tr>\n",
       "    <tr>\n",
       "      <th>H4015</th>\n",
       "      <td>146.880695</td>\n",
       "      <td>0.508065</td>\n",
       "    </tr>\n",
       "    <tr>\n",
       "      <th>H2722</th>\n",
       "      <td>124.433900</td>\n",
       "      <td>0.495137</td>\n",
       "    </tr>\n",
       "    <tr>\n",
       "      <th>H3860</th>\n",
       "      <td>146.506361</td>\n",
       "      <td>0.493919</td>\n",
       "    </tr>\n",
       "    <tr>\n",
       "      <th>H3794</th>\n",
       "      <td>149.466700</td>\n",
       "      <td>0.491955</td>\n",
       "    </tr>\n",
       "    <tr>\n",
       "      <th>H1890</th>\n",
       "      <td>129.789724</td>\n",
       "      <td>0.482503</td>\n",
       "    </tr>\n",
       "    <tr>\n",
       "      <th>H2870</th>\n",
       "      <td>149.348408</td>\n",
       "      <td>0.459753</td>\n",
       "    </tr>\n",
       "    <tr>\n",
       "      <th>H1269</th>\n",
       "      <td>135.423958</td>\n",
       "      <td>0.449654</td>\n",
       "    </tr>\n",
       "  </tbody>\n",
       "</table>\n",
       "</div>"
      ],
      "text/plain": [
       "                YIELD  resiliency_adj\n",
       "HYBRID_ID                            \n",
       "H3901      147.417817        0.543034\n",
       "H1544      141.721321        0.520163\n",
       "H3931      150.016557        0.489140\n",
       "H4015      146.880695        0.508065\n",
       "H2722      124.433900        0.495137\n",
       "H3860      146.506361        0.493919\n",
       "H3794      149.466700        0.491955\n",
       "H1890      129.789724        0.482503\n",
       "H2870      149.348408        0.459753\n",
       "H1269      135.423958        0.449654"
      ]
     },
     "execution_count": 362,
     "metadata": {},
     "output_type": "execute_result"
    }
   ],
   "source": [
    "sorted_g_hybrid[['YIELD', 'resiliency_adj']][0:10]"
   ]
  },
  {
   "cell_type": "markdown",
   "metadata": {},
   "source": [
    "# Least Resilient hybrids"
   ]
  },
  {
   "cell_type": "code",
   "execution_count": 363,
   "metadata": {},
   "outputs": [
    {
     "data": {
      "text/html": [
       "<div>\n",
       "<style scoped>\n",
       "    .dataframe tbody tr th:only-of-type {\n",
       "        vertical-align: middle;\n",
       "    }\n",
       "\n",
       "    .dataframe tbody tr th {\n",
       "        vertical-align: top;\n",
       "    }\n",
       "\n",
       "    .dataframe thead th {\n",
       "        text-align: right;\n",
       "    }\n",
       "</style>\n",
       "<table border=\"1\" class=\"dataframe\">\n",
       "  <thead>\n",
       "    <tr style=\"text-align: right;\">\n",
       "      <th></th>\n",
       "      <th>YIELD</th>\n",
       "      <th>resiliency_adj</th>\n",
       "    </tr>\n",
       "    <tr>\n",
       "      <th>HYBRID_ID</th>\n",
       "      <th></th>\n",
       "      <th></th>\n",
       "    </tr>\n",
       "  </thead>\n",
       "  <tbody>\n",
       "    <tr>\n",
       "      <th>H2695</th>\n",
       "      <td>91.102237</td>\n",
       "      <td>-0.529978</td>\n",
       "    </tr>\n",
       "    <tr>\n",
       "      <th>H2240</th>\n",
       "      <td>85.142126</td>\n",
       "      <td>-0.564882</td>\n",
       "    </tr>\n",
       "    <tr>\n",
       "      <th>H3053</th>\n",
       "      <td>98.637589</td>\n",
       "      <td>-0.573298</td>\n",
       "    </tr>\n",
       "    <tr>\n",
       "      <th>H1297</th>\n",
       "      <td>82.162537</td>\n",
       "      <td>-0.578752</td>\n",
       "    </tr>\n",
       "    <tr>\n",
       "      <th>H1527</th>\n",
       "      <td>82.625710</td>\n",
       "      <td>-0.635744</td>\n",
       "    </tr>\n",
       "    <tr>\n",
       "      <th>H1053</th>\n",
       "      <td>87.538807</td>\n",
       "      <td>-0.701229</td>\n",
       "    </tr>\n",
       "    <tr>\n",
       "      <th>H1154</th>\n",
       "      <td>99.211477</td>\n",
       "      <td>-0.792248</td>\n",
       "    </tr>\n",
       "    <tr>\n",
       "      <th>H1151</th>\n",
       "      <td>99.861674</td>\n",
       "      <td>-0.796898</td>\n",
       "    </tr>\n",
       "    <tr>\n",
       "      <th>H1017</th>\n",
       "      <td>81.609217</td>\n",
       "      <td>-0.805523</td>\n",
       "    </tr>\n",
       "    <tr>\n",
       "      <th>H1998</th>\n",
       "      <td>103.554450</td>\n",
       "      <td>-1.000000</td>\n",
       "    </tr>\n",
       "  </tbody>\n",
       "</table>\n",
       "</div>"
      ],
      "text/plain": [
       "                YIELD  resiliency_adj\n",
       "HYBRID_ID                            \n",
       "H2695       91.102237       -0.529978\n",
       "H2240       85.142126       -0.564882\n",
       "H3053       98.637589       -0.573298\n",
       "H1297       82.162537       -0.578752\n",
       "H1527       82.625710       -0.635744\n",
       "H1053       87.538807       -0.701229\n",
       "H1154       99.211477       -0.792248\n",
       "H1151       99.861674       -0.796898\n",
       "H1017       81.609217       -0.805523\n",
       "H1998      103.554450       -1.000000"
      ]
     },
     "execution_count": 363,
     "metadata": {},
     "output_type": "execute_result"
    }
   ],
   "source": [
    "sorted_g_hybrid[['YIELD', 'resiliency_adj']][-10:]"
   ]
  },
  {
   "cell_type": "code",
   "execution_count": 231,
   "metadata": {},
   "outputs": [],
   "source": [
    "\n",
    "joined_df['predicted_d'] = model_d.predict(joined_df[['PREC_AVG', \n",
    "                                                      'PREC_STD','KSAT', \n",
    "                                                      'SWE_AVG','SWE_STD', \n",
    "                                                      'VP_AVG','VP_STD','AWC']])\n",
    "joined_df['model_d_delta'] = (joined_df['YIELD'] - joined_df['predicted_d'])\n",
    "#drought risiliency, divide model_d_delta by max(max, abs(min)) observed delta\n",
    "divisor_d = 115.666830\n",
    "joined_df['d_resiliency'] = joined_df['model_d_delta']/ divisor_d\n",
    "#joined_df['d_resiliency']"
   ]
  },
  {
   "cell_type": "code",
   "execution_count": 201,
   "metadata": {},
   "outputs": [],
   "source": [
    "# #avg of all heat related column values, difference between that value and value for each row\n",
    "# #that difference is multiplied by the factor importance value determined from the above ML model\n",
    "# #divide by the max(abs('heat_stress') so all values are between -1 and 1\n",
    "\n",
    "\n",
    "# avg = (joined_df.describe()).loc['mean']\n",
    "# std = (joined_df.describe()).loc['std']\n",
    "# divisor = 0.8650279601814361\n",
    "# joined_df['heat_stress'] = ((avg['DAYL_AVG'] - joined_df['DAYL_AVG'])*(-1)*0.07857671973574108 + \\\n",
    "# ((avg['DAYL_STD'] - joined_df['DAYL_STD'])/std['DAYL_STD'])*0.15888379604162034 + \\\n",
    "# ((avg['SRAD_AVG'] - joined_df['SRAD_AVG'])/std['DAYL_STD'])*0.21240194004964558 + \\\n",
    "# ((avg['SRAD_STD'] - joined_df['SRAD_STD'])/std['DAYL_STD'])*0.07635892488787693 + \\\n",
    "# ((avg['TMAX_AVG'] - joined_df['TMAX_AVG'])/std['DAYL_STD'])*0.13805741350994546 + \\\n",
    "# ((avg['TMAX_STD'] - joined_df['TMAX_STD'])/std['DAYL_STD'])*0.13499318190202692 + \\\n",
    "# ((avg['TMIN_AVG'] - joined_df['TMIN_AVG'])/std['DAYL_STD'])*0.06975530101366316 + \\\n",
    "# ((avg['TMIN_STD'] - joined_df['TMIN_STD'])/std['DAYL_STD'])*0.1309727228594805)/divisor\n",
    "\n",
    "# joined_df.head()\n",
    "\n",
    "\n"
   ]
  },
  {
   "cell_type": "code",
   "execution_count": null,
   "metadata": {},
   "outputs": [],
   "source": [
    "# "
   ]
  },
  {
   "cell_type": "code",
   "execution_count": null,
   "metadata": {},
   "outputs": [],
   "source": []
  },
  {
   "cell_type": "code",
   "execution_count": null,
   "metadata": {},
   "outputs": [],
   "source": []
  },
  {
   "cell_type": "markdown",
   "metadata": {},
   "source": [
    "#### heat and drought stress"
   ]
  },
  {
   "cell_type": "code",
   "execution_count": null,
   "metadata": {},
   "outputs": [],
   "source": [
    "#total heat stress\n",
    "#for crop level\n",
    "#difference between predicted heat regression and actual\n",
    "#difference between predicted drought regression and actual"
   ]
  },
  {
   "cell_type": "markdown",
   "metadata": {},
   "source": [
    "## Linear Regression (variant threshold analysis)"
   ]
  },
  {
   "cell_type": "code",
   "execution_count": 124,
   "metadata": {},
   "outputs": [],
   "source": [
    "#ML model\n",
    "#performance_data\n",
    "from sklearn.model_selection import train_test_split\n",
    "train, test = train_test_split(joined_df, test_size = 0.3)\n",
    "x_train = train.iloc[:, 11:]\n",
    "y_train = train['YIELD']\n",
    "x_test = test.iloc[:, 11:]\n",
    "y_test = test['YIELD']"
   ]
  },
  {
   "cell_type": "code",
   "execution_count": 125,
   "metadata": {},
   "outputs": [],
   "source": [
    "from sklearn import linear_model\n",
    "model = linear_model.LinearRegression()\n",
    "model.fit(x_train, y_train)\n",
    "\n",
    "testing_predictions = model.predict(x_test)\n",
    "\n",
    "#optiomnal filtering of specific yield predictions\n",
    "def get_classification(predictions,threshold):\n",
    "    classes = np.zeros_like(testing_predictions)\n",
    "    for i in range(len(classes)):\n",
    "        if predictions[i] > threshold:\n",
    "            classes[i] = predictions[i]\n",
    "    return classes"
   ]
  },
  {
   "cell_type": "code",
   "execution_count": 126,
   "metadata": {},
   "outputs": [
    {
     "data": {
      "text/plain": [
       "{'H1007': 1,\n",
       " 'H1009': 2,\n",
       " 'H1013': 1,\n",
       " 'H1019': 2,\n",
       " 'H1037': 3,\n",
       " 'H1054': 1,\n",
       " 'H1084': 2,\n",
       " 'H1117': 3,\n",
       " 'H1173': 1,\n",
       " 'H1175': 2,\n",
       " 'H1183': 1,\n",
       " 'H1206': 1,\n",
       " 'H1209': 1,\n",
       " 'H1228': 2,\n",
       " 'H1234': 1,\n",
       " 'H1237': 1,\n",
       " 'H1258': 1,\n",
       " 'H1309': 1,\n",
       " 'H1381': 1,\n",
       " 'H1466': 1,\n",
       " 'H1517': 1,\n",
       " 'H1531': 1,\n",
       " 'H1704': 1,\n",
       " 'H1734': 1,\n",
       " 'H1800': 1,\n",
       " 'H2340': 1,\n",
       " 'H2490': 1,\n",
       " 'H2713': 1,\n",
       " 'H2909': 1,\n",
       " 'H2918': 1,\n",
       " 'H3247': 1}"
      ]
     },
     "execution_count": 126,
     "metadata": {},
     "output_type": "execute_result"
    }
   ],
   "source": [
    "def model_eval(predictions, y_test, test, predict_delta):\n",
    "    top_hybrids = dict()\n",
    "    for i in range(len(y_test)):\n",
    "        temp_hyb = ''\n",
    "        if int(y_test.iloc[i]) > (int(predictions[i]) + int(predict_delta)):\n",
    "            temp_hyb = str(test.iloc[i, 0])\n",
    "            if not temp_hyb in top_hybrids.keys():\n",
    "                top_hybrids[temp_hyb] = 1\n",
    "            else:\n",
    "                top_hybrids[temp_hyb] += 1\n",
    "    return top_hybrids\n",
    "#y_test.iloc[0]\n",
    "len(y_test)\n",
    "#len(test)\n",
    "#\tHYBRID_ID\n",
    "model_eval(testing_predictions, y_test, test, 50)"
   ]
  }
 ],
 "metadata": {
  "kernelspec": {
   "display_name": "Python 3",
   "language": "python",
   "name": "python3"
  },
  "language_info": {
   "codemirror_mode": {
    "name": "ipython",
    "version": 3
   },
   "file_extension": ".py",
   "mimetype": "text/x-python",
   "name": "python",
   "nbconvert_exporter": "python",
   "pygments_lexer": "ipython3",
   "version": "3.6.4"
  }
 },
 "nbformat": 4,
 "nbformat_minor": 2
}
